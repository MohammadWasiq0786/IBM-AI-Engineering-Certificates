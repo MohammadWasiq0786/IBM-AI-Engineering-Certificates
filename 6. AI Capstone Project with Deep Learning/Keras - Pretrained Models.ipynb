{
 "cells": [
  {
   "cell_type": "markdown",
   "metadata": {
    "button": false,
    "new_sheet": false,
    "run_control": {
     "read_only": false
    }
   },
   "source": [
    "## Introduction\n"
   ]
  },
  {
   "cell_type": "markdown",
   "metadata": {
    "button": false,
    "new_sheet": false,
    "run_control": {
     "read_only": false
    }
   },
   "source": [
    "In this lab, you will learn how to leverage pre-trained models to build image classifiers instead of building a model from scratch."
   ]
  },
  {
   "cell_type": "markdown",
   "metadata": {
    "button": false,
    "new_sheet": false,
    "run_control": {
     "read_only": false
    }
   },
   "source": [
    "## Import Libraries and Packages"
   ]
  },
  {
   "cell_type": "markdown",
   "metadata": {
    "button": false,
    "new_sheet": false,
    "run_control": {
     "read_only": false
    }
   },
   "source": [
    "Let's start the lab by importing the libraries that we will be using in this lab."
   ]
  },
  {
   "cell_type": "markdown",
   "metadata": {
    "button": false,
    "new_sheet": false,
    "run_control": {
     "read_only": false
    }
   },
   "source": [
    "First, we will import the ImageDataGenerator module since we will be leveraging it to train our model in batches."
   ]
  },
  {
   "cell_type": "code",
   "execution_count": 1,
   "metadata": {
    "button": false,
    "new_sheet": false,
    "run_control": {
     "read_only": false
    }
   },
   "outputs": [
    {
     "name": "stderr",
     "output_type": "stream",
     "text": [
      "Using TensorFlow backend.\n"
     ]
    }
   ],
   "source": [
    "from keras.preprocessing.image import ImageDataGenerator"
   ]
  },
  {
   "cell_type": "markdown",
   "metadata": {
    "button": false,
    "new_sheet": false,
    "run_control": {
     "read_only": false
    }
   },
   "source": [
    "In this lab, we will be using the Keras library to build an image classifier, so let's download the Keras library."
   ]
  },
  {
   "cell_type": "code",
   "execution_count": 2,
   "metadata": {
    "button": false,
    "new_sheet": false,
    "run_control": {
     "read_only": false
    }
   },
   "outputs": [],
   "source": [
    "import keras\n",
    "from keras.models import Sequential\n",
    "from keras.layers import Dense"
   ]
  },
  {
   "cell_type": "markdown",
   "metadata": {
    "button": false,
    "new_sheet": false,
    "run_control": {
     "read_only": false
    }
   },
   "source": [
    "Finally, we will be leveraging the ResNet50 model to build our classifier, so let's download it as well."
   ]
  },
  {
   "cell_type": "code",
   "execution_count": 3,
   "metadata": {
    "button": false,
    "new_sheet": false,
    "run_control": {
     "read_only": false
    }
   },
   "outputs": [],
   "source": [
    "from keras.applications import ResNet50\n",
    "from keras.applications.resnet50 import preprocess_input\n",
    "from keras.models import load_model"
   ]
  },
  {
   "cell_type": "markdown",
   "metadata": {
    "button": false,
    "new_sheet": false,
    "run_control": {
     "read_only": false
    }
   },
   "source": [
    "<a id='item32'></a>"
   ]
  },
  {
   "cell_type": "markdown",
   "metadata": {
    "button": false,
    "new_sheet": false,
    "run_control": {
     "read_only": false
    }
   },
   "source": [
    "## Download Data"
   ]
  },
  {
   "cell_type": "markdown",
   "metadata": {
    "button": false,
    "new_sheet": false,
    "run_control": {
     "read_only": false
    }
   },
   "source": [
    "For your convenience, I have placed the data on a server which you can retrieve easily using the **wget** command. So let's run the following line of code to get the data. Given the large size of the image dataset, it might take some time depending on your internet speed."
   ]
  },
  {
   "cell_type": "code",
   "execution_count": 4,
   "metadata": {
    "button": false,
    "new_sheet": false,
    "run_control": {
     "read_only": false
    }
   },
   "outputs": [],
   "source": [
    "## get the data\n",
    "#!wget https://s3-api.us-geo.objectstorage.softlayer.net/cf-courses-data/CognitiveClass/DL0321EN/data/concrete_data_week3.zip"
   ]
  },
  {
   "cell_type": "markdown",
   "metadata": {
    "button": false,
    "new_sheet": false,
    "run_control": {
     "read_only": false
    }
   },
   "source": [
    "And now if you check the left directory pane, you should see the zipped file *concrete_data_week3.zip* appear. So, let's go ahead and unzip the file to access the images. Given the large number of images in the dataset, this might take a couple of minutes, so please be patient, and wait until the code finishes running."
   ]
  },
  {
   "cell_type": "code",
   "execution_count": 5,
   "metadata": {
    "button": false,
    "new_sheet": false,
    "run_control": {
     "read_only": false
    },
    "scrolled": true
   },
   "outputs": [],
   "source": [
    "#!unzip concrete_data_week3.zip"
   ]
  },
  {
   "cell_type": "markdown",
   "metadata": {
    "button": false,
    "new_sheet": false,
    "run_control": {
     "read_only": false
    }
   },
   "source": [
    "Now, you should see the folder *concrete_data_week3* appear in the left pane. If you open this folder by double-clicking on it, you will find that it contains two folders: *train* and *valid*. And if you explore these folders, you will find that each contains two subfolders: *positive* and *negative*. These are the same folders that we saw in the labs in the previous modules of this course, where *negative* is the negative class and it represents the concrete images with no cracks and *positive* is the positive class and it represents the concrete images with cracks."
   ]
  },
  {
   "cell_type": "markdown",
   "metadata": {
    "button": false,
    "new_sheet": false,
    "run_control": {
     "read_only": false
    }
   },
   "source": [
    "**Important Note**: There are thousands and thousands of images in each folder, so please don't attempt to double click on the *negative* and *positive* folders. This may consume all of your memory and you may end up with a **50*** error. So please **DO NOT DO IT**."
   ]
  },
  {
   "cell_type": "markdown",
   "metadata": {
    "button": false,
    "new_sheet": false,
    "run_control": {
     "read_only": false
    }
   },
   "source": [
    "<a id='item33'></a>"
   ]
  },
  {
   "cell_type": "markdown",
   "metadata": {
    "button": false,
    "new_sheet": false,
    "run_control": {
     "read_only": false
    }
   },
   "source": [
    "## Define Global Constants"
   ]
  },
  {
   "cell_type": "markdown",
   "metadata": {
    "button": false,
    "new_sheet": false,
    "run_control": {
     "read_only": false
    }
   },
   "source": [
    "Here, we will define constants that we will be using throughout the rest of the lab. \n",
    "\n",
    "1. We are obviously dealing with two classes, so *num_classes* is 2. \n",
    "2. The ResNet50 model was built and trained using images of size (224 x 224). Therefore, we will have to resize our images from (227 x 227) to (224 x 224).\n",
    "3. We will training and validating the model using batches of 100 images."
   ]
  },
  {
   "cell_type": "code",
   "execution_count": 6,
   "metadata": {
    "button": false,
    "new_sheet": false,
    "run_control": {
     "read_only": false
    }
   },
   "outputs": [],
   "source": [
    "num_classes = 2\n",
    "\n",
    "image_resize = 224\n",
    "\n",
    "batch_size_training = 100\n",
    "batch_size_validation = 100"
   ]
  },
  {
   "cell_type": "markdown",
   "metadata": {
    "button": false,
    "new_sheet": false,
    "run_control": {
     "read_only": false
    }
   },
   "source": [
    "<a id='item34'></a>"
   ]
  },
  {
   "cell_type": "markdown",
   "metadata": {
    "button": false,
    "new_sheet": false,
    "run_control": {
     "read_only": false
    }
   },
   "source": [
    "## Construct ImageDataGenerator Instances"
   ]
  },
  {
   "cell_type": "markdown",
   "metadata": {
    "button": false,
    "new_sheet": false,
    "run_control": {
     "read_only": false
    }
   },
   "source": [
    "In order to instantiate an ImageDataGenerator instance, we will set the **preprocessing_function** argument to *preprocess_input* which we imported from **keras.applications.resnet50** in order to preprocess our images the same way the images used to train ResNet50 model were processed."
   ]
  },
  {
   "cell_type": "code",
   "execution_count": 7,
   "metadata": {
    "button": false,
    "new_sheet": false,
    "run_control": {
     "read_only": false
    }
   },
   "outputs": [],
   "source": [
    "data_generator = ImageDataGenerator(\n",
    "    preprocessing_function=preprocess_input,\n",
    ")"
   ]
  },
  {
   "cell_type": "markdown",
   "metadata": {
    "button": false,
    "new_sheet": false,
    "run_control": {
     "read_only": false
    }
   },
   "source": [
    "Next, we will use the *flow_from_directory* method to get the training images as follows:"
   ]
  },
  {
   "cell_type": "code",
   "execution_count": 8,
   "metadata": {
    "button": false,
    "new_sheet": false,
    "run_control": {
     "read_only": false
    }
   },
   "outputs": [
    {
     "name": "stdout",
     "output_type": "stream",
     "text": [
      "Found 30000 images belonging to 2 classes.\n"
     ]
    }
   ],
   "source": [
    "train_generator = data_generator.flow_from_directory(\n",
    "    'concrete_data_week3/train',\n",
    "    target_size=(image_resize, image_resize),\n",
    "    batch_size=batch_size_training,\n",
    "    class_mode='categorical')"
   ]
  },
  {
   "cell_type": "markdown",
   "metadata": {
    "button": false,
    "new_sheet": false,
    "run_control": {
     "read_only": false
    }
   },
   "source": [
    "**Your Turn**: Use the *flow_from_directory* method to get the validation images and assign the result to **validation_generator**."
   ]
  },
  {
   "cell_type": "code",
   "execution_count": 9,
   "metadata": {
    "button": false,
    "new_sheet": false,
    "run_control": {
     "read_only": false
    }
   },
   "outputs": [
    {
     "name": "stdout",
     "output_type": "stream",
     "text": [
      "Found 10000 images belonging to 2 classes.\n"
     ]
    }
   ],
   "source": [
    "validation_generator = data_generator.flow_from_directory(\n",
    "    'concrete_data_week3/valid',\n",
    "    target_size=(image_resize, image_resize),\n",
    "    batch_size=batch_size_validation,\n",
    "    class_mode='categorical')"
   ]
  },
  {
   "cell_type": "markdown",
   "metadata": {
    "button": false,
    "new_sheet": false,
    "run_control": {
     "read_only": false
    }
   },
   "source": [
    "Double-click __here__ for the solution.\n",
    "<!-- The correct answer is:\n",
    "validation_generator = data_generator.flow_from_directory(\n",
    "    'concrete_data_week3/valid',\n",
    "    target_size=(image_resize, image_resize),\n",
    "    batch_size=batch_size_validation,\n",
    "    class_mode='categorical')\n",
    "-->\n",
    "\n"
   ]
  },
  {
   "cell_type": "markdown",
   "metadata": {
    "button": false,
    "new_sheet": false,
    "run_control": {
     "read_only": false
    }
   },
   "source": [
    "<a id='item35'></a>"
   ]
  },
  {
   "cell_type": "markdown",
   "metadata": {
    "button": false,
    "new_sheet": false,
    "run_control": {
     "read_only": false
    }
   },
   "source": [
    "## Build, Compile and Fit Model"
   ]
  },
  {
   "cell_type": "markdown",
   "metadata": {
    "button": false,
    "new_sheet": false,
    "run_control": {
     "read_only": false
    }
   },
   "source": [
    "In this section, we will start building our model. We will use the Sequential model class from Keras."
   ]
  },
  {
   "cell_type": "code",
   "execution_count": 10,
   "metadata": {
    "button": false,
    "new_sheet": false,
    "run_control": {
     "read_only": false
    }
   },
   "outputs": [],
   "source": [
    "model = Sequential()"
   ]
  },
  {
   "cell_type": "markdown",
   "metadata": {
    "button": false,
    "new_sheet": false,
    "run_control": {
     "read_only": false
    }
   },
   "source": [
    "Next, we will add the ResNet50 pre-trained model to out model. However, note that we don't want to include the top layer or the output layer of the pre-trained model. We actually want to define our own output layer and train it so that it is optimized for our image dataset. In order to leave out the output layer of the pre-trained model, we will use the argument *include_top* and set it to **False**."
   ]
  },
  {
   "cell_type": "code",
   "execution_count": 11,
   "metadata": {
    "button": false,
    "new_sheet": false,
    "run_control": {
     "read_only": false
    }
   },
   "outputs": [],
   "source": [
    "model.add(ResNet50(\n",
    "    include_top=False,\n",
    "    pooling='avg',\n",
    "    weights='imagenet',\n",
    "    ))"
   ]
  },
  {
   "cell_type": "markdown",
   "metadata": {
    "button": false,
    "new_sheet": false,
    "run_control": {
     "read_only": false
    }
   },
   "source": [
    "Then, we will define our output layer as a **Dense** layer, that consists of two nodes and uses the **Softmax** function as the activation function."
   ]
  },
  {
   "cell_type": "code",
   "execution_count": 12,
   "metadata": {
    "button": false,
    "new_sheet": false,
    "run_control": {
     "read_only": false
    }
   },
   "outputs": [],
   "source": [
    "model.add(Dense(num_classes, activation='softmax'))"
   ]
  },
  {
   "cell_type": "markdown",
   "metadata": {
    "button": false,
    "new_sheet": false,
    "run_control": {
     "read_only": false
    }
   },
   "source": [
    "You can access the model's layers using the *layers* attribute of our model object. "
   ]
  },
  {
   "cell_type": "code",
   "execution_count": 13,
   "metadata": {
    "button": false,
    "new_sheet": false,
    "run_control": {
     "read_only": false
    }
   },
   "outputs": [
    {
     "data": {
      "text/plain": [
       "[<keras.engine.training.Model at 0x282f8ac7308>,\n",
       " <keras.layers.core.Dense at 0x28289ade808>]"
      ]
     },
     "execution_count": 13,
     "metadata": {},
     "output_type": "execute_result"
    }
   ],
   "source": [
    "model.layers"
   ]
  },
  {
   "cell_type": "markdown",
   "metadata": {
    "button": false,
    "new_sheet": false,
    "run_control": {
     "read_only": false
    }
   },
   "source": [
    "You can see that our model is composed of two sets of layers. The first set is the layers pertaining to ResNet50 and the second set is a single layer, which is our Dense layer that we defined above."
   ]
  },
  {
   "cell_type": "markdown",
   "metadata": {
    "button": false,
    "new_sheet": false,
    "run_control": {
     "read_only": false
    }
   },
   "source": [
    "You can access the ResNet50 layers by running the following:"
   ]
  },
  {
   "cell_type": "code",
   "execution_count": 14,
   "metadata": {
    "button": false,
    "new_sheet": false,
    "run_control": {
     "read_only": false
    },
    "scrolled": true
   },
   "outputs": [
    {
     "data": {
      "text/plain": [
       "[<keras.engine.input_layer.InputLayer at 0x282ea661288>,\n",
       " <keras.layers.convolutional.ZeroPadding2D at 0x282ea65e948>,\n",
       " <keras.layers.convolutional.Conv2D at 0x282ea65e188>,\n",
       " <keras.layers.normalization.BatchNormalization at 0x282ea669f08>,\n",
       " <keras.layers.core.Activation at 0x282ea7c3948>,\n",
       " <keras.layers.convolutional.ZeroPadding2D at 0x282ea8515c8>,\n",
       " <keras.layers.pooling.MaxPooling2D at 0x282eaf2be48>,\n",
       " <keras.layers.convolutional.Conv2D at 0x282eafe31c8>,\n",
       " <keras.layers.normalization.BatchNormalization at 0x282eafe9cc8>,\n",
       " <keras.layers.core.Activation at 0x282eafe9c48>,\n",
       " <keras.layers.convolutional.Conv2D at 0x282eaff7108>,\n",
       " <keras.layers.normalization.BatchNormalization at 0x282eb0f1d88>,\n",
       " <keras.layers.core.Activation at 0x282eb1006c8>,\n",
       " <keras.layers.convolutional.Conv2D at 0x282eb0f7088>,\n",
       " <keras.layers.convolutional.Conv2D at 0x282eb1ff608>,\n",
       " <keras.layers.normalization.BatchNormalization at 0x282eb1aea08>,\n",
       " <keras.layers.normalization.BatchNormalization at 0x282eb280348>,\n",
       " <keras.layers.merge.Add at 0x282eb30b248>,\n",
       " <keras.layers.core.Activation at 0x282eb309d88>,\n",
       " <keras.layers.convolutional.Conv2D at 0x282eb36abc8>,\n",
       " <keras.layers.normalization.BatchNormalization at 0x282eb412388>,\n",
       " <keras.layers.core.Activation at 0x282eb4129c8>,\n",
       " <keras.layers.convolutional.Conv2D at 0x282eb426ec8>,\n",
       " <keras.layers.normalization.BatchNormalization at 0x282eb4ce9c8>,\n",
       " <keras.layers.core.Activation at 0x282eb518f88>,\n",
       " <keras.layers.convolutional.Conv2D at 0x282eb520088>,\n",
       " <keras.layers.normalization.BatchNormalization at 0x282eb7ec1c8>,\n",
       " <keras.layers.merge.Add at 0x282eb830f48>,\n",
       " <keras.layers.core.Activation at 0x282eb837d48>,\n",
       " <keras.layers.convolutional.Conv2D at 0x282eb837308>,\n",
       " <keras.layers.normalization.BatchNormalization at 0x282eb940548>,\n",
       " <keras.layers.core.Activation at 0x282eb940e48>,\n",
       " <keras.layers.convolutional.Conv2D at 0x282eb94edc8>,\n",
       " <keras.layers.normalization.BatchNormalization at 0x282eba06588>,\n",
       " <keras.layers.core.Activation at 0x282eba50ec8>,\n",
       " <keras.layers.convolutional.Conv2D at 0x282eba560c8>,\n",
       " <keras.layers.normalization.BatchNormalization at 0x282ebb0b588>,\n",
       " <keras.layers.merge.Add at 0x282ebb57e48>,\n",
       " <keras.layers.core.Activation at 0x282ebb67fc8>,\n",
       " <keras.layers.convolutional.Conv2D at 0x282ebba6948>,\n",
       " <keras.layers.normalization.BatchNormalization at 0x282ebc5ef48>,\n",
       " <keras.layers.core.Activation at 0x282ebc65688>,\n",
       " <keras.layers.convolutional.Conv2D at 0x282ebc6dd08>,\n",
       " <keras.layers.normalization.BatchNormalization at 0x282eccf5848>,\n",
       " <keras.layers.core.Activation at 0x282ecd4de48>,\n",
       " <keras.layers.convolutional.Conv2D at 0x282ecd44048>,\n",
       " <keras.layers.convolutional.Conv2D at 0x282ed25d9c8>,\n",
       " <keras.layers.normalization.BatchNormalization at 0x282ed212448>,\n",
       " <keras.layers.normalization.BatchNormalization at 0x282ed2b2588>,\n",
       " <keras.layers.merge.Add at 0x282ed366b48>,\n",
       " <keras.layers.core.Activation at 0x282ed36d808>,\n",
       " <keras.layers.convolutional.Conv2D at 0x282ed36d388>,\n",
       " <keras.layers.normalization.BatchNormalization at 0x282ed46fe88>,\n",
       " <keras.layers.core.Activation at 0x282ed46fd08>,\n",
       " <keras.layers.convolutional.Conv2D at 0x282ed480cc8>,\n",
       " <keras.layers.normalization.BatchNormalization at 0x282ed534208>,\n",
       " <keras.layers.core.Activation at 0x282ed57fa08>,\n",
       " <keras.layers.convolutional.Conv2D at 0x282ed584488>,\n",
       " <keras.layers.normalization.BatchNormalization at 0x282ed63c508>,\n",
       " <keras.layers.merge.Add at 0x282ed686cc8>,\n",
       " <keras.layers.core.Activation at 0x282ed695f88>,\n",
       " <keras.layers.convolutional.Conv2D at 0x282ed6d3808>,\n",
       " <keras.layers.normalization.BatchNormalization at 0x282ed790f48>,\n",
       " <keras.layers.core.Activation at 0x282ed797688>,\n",
       " <keras.layers.convolutional.Conv2D at 0x282ed79fd48>,\n",
       " <keras.layers.normalization.BatchNormalization at 0x282ed851888>,\n",
       " <keras.layers.core.Activation at 0x282ed8aae88>,\n",
       " <keras.layers.convolutional.Conv2D at 0x282ed8a3088>,\n",
       " <keras.layers.normalization.BatchNormalization at 0x282ed9611c8>,\n",
       " <keras.layers.merge.Add at 0x282ed9b0388>,\n",
       " <keras.layers.core.Activation at 0x282ed9ac608>,\n",
       " <keras.layers.convolutional.Conv2D at 0x282eda01c48>,\n",
       " <keras.layers.normalization.BatchNormalization at 0x282edab6748>,\n",
       " <keras.layers.core.Activation at 0x282edab6e08>,\n",
       " <keras.layers.convolutional.Conv2D at 0x282edac4ec8>,\n",
       " <keras.layers.normalization.BatchNormalization at 0x282edb5b988>,\n",
       " <keras.layers.core.Activation at 0x282edb78588>,\n",
       " <keras.layers.convolutional.Conv2D at 0x282edbc4888>,\n",
       " <keras.layers.normalization.BatchNormalization at 0x282ee4dbfc8>,\n",
       " <keras.layers.merge.Add at 0x282ee4eae48>,\n",
       " <keras.layers.core.Activation at 0x282ee4e2108>,\n",
       " <keras.layers.convolutional.Conv2D at 0x282ee548248>,\n",
       " <keras.layers.normalization.BatchNormalization at 0x282ee5eca88>,\n",
       " <keras.layers.core.Activation at 0x282ee5ec3c8>,\n",
       " <keras.layers.convolutional.Conv2D at 0x282ee5fdec8>,\n",
       " <keras.layers.normalization.BatchNormalization at 0x282ee6a7a48>,\n",
       " <keras.layers.core.Activation at 0x282ee700408>,\n",
       " <keras.layers.convolutional.Conv2D at 0x282ee6fa4c8>,\n",
       " <keras.layers.convolutional.Conv2D at 0x282ef817548>,\n",
       " <keras.layers.normalization.BatchNormalization at 0x282ef7c6508>,\n",
       " <keras.layers.normalization.BatchNormalization at 0x282ef8a24c8>,\n",
       " <keras.layers.merge.Add at 0x282ef91cd48>,\n",
       " <keras.layers.core.Activation at 0x282ef921b88>,\n",
       " <keras.layers.convolutional.Conv2D at 0x282ef9674c8>,\n",
       " <keras.layers.normalization.BatchNormalization at 0x282efa24748>,\n",
       " <keras.layers.core.Activation at 0x282efa24d48>,\n",
       " <keras.layers.convolutional.Conv2D at 0x282efa33cc8>,\n",
       " <keras.layers.normalization.BatchNormalization at 0x282efb31d48>,\n",
       " <keras.layers.core.Activation at 0x282efb31d88>,\n",
       " <keras.layers.convolutional.Conv2D at 0x282efb36a88>,\n",
       " <keras.layers.normalization.BatchNormalization at 0x282efc3bfc8>,\n",
       " <keras.layers.merge.Add at 0x282efc49e88>,\n",
       " <keras.layers.core.Activation at 0x282efc41148>,\n",
       " <keras.layers.convolutional.Conv2D at 0x282efca5088>,\n",
       " <keras.layers.normalization.BatchNormalization at 0x282efd49988>,\n",
       " <keras.layers.core.Activation at 0x282efd49c48>,\n",
       " <keras.layers.convolutional.Conv2D at 0x282efd5de48>,\n",
       " <keras.layers.normalization.BatchNormalization at 0x282efe07a88>,\n",
       " <keras.layers.core.Activation at 0x282efe5f108>,\n",
       " <keras.layers.convolutional.Conv2D at 0x282efe59408>,\n",
       " <keras.layers.normalization.BatchNormalization at 0x282eff14548>,\n",
       " <keras.layers.merge.Add at 0x282eff60cc8>,\n",
       " <keras.layers.core.Activation at 0x282eff65148>,\n",
       " <keras.layers.convolutional.Conv2D at 0x282effaff08>,\n",
       " <keras.layers.normalization.BatchNormalization at 0x282f0069fc8>,\n",
       " <keras.layers.core.Activation at 0x282f0069f08>,\n",
       " <keras.layers.convolutional.Conv2D at 0x282f006fc48>,\n",
       " <keras.layers.normalization.BatchNormalization at 0x282f012b5c8>,\n",
       " <keras.layers.core.Activation at 0x282f01856c8>,\n",
       " <keras.layers.convolutional.Conv2D at 0x282f017e088>,\n",
       " <keras.layers.normalization.BatchNormalization at 0x282f2354a48>,\n",
       " <keras.layers.merge.Add at 0x282f23ad408>,\n",
       " <keras.layers.core.Activation at 0x282f23a8cc8>,\n",
       " <keras.layers.convolutional.Conv2D at 0x282f240a588>,\n",
       " <keras.layers.normalization.BatchNormalization at 0x282f24b0cc8>,\n",
       " <keras.layers.core.Activation at 0x282f24b0f88>,\n",
       " <keras.layers.convolutional.Conv2D at 0x282f24bfd48>,\n",
       " <keras.layers.normalization.BatchNormalization at 0x282f2543f08>,\n",
       " <keras.layers.core.Activation at 0x282f256b348>,\n",
       " <keras.layers.convolutional.Conv2D at 0x282f25c2048>,\n",
       " <keras.layers.normalization.BatchNormalization at 0x282f267c588>,\n",
       " <keras.layers.merge.Add at 0x282f26c7e48>,\n",
       " <keras.layers.core.Activation at 0x282f26d5fc8>,\n",
       " <keras.layers.convolutional.Conv2D at 0x282f2715848>,\n",
       " <keras.layers.normalization.BatchNormalization at 0x282f27d5788>,\n",
       " <keras.layers.core.Activation at 0x282f27d5748>,\n",
       " <keras.layers.convolutional.Conv2D at 0x282f27dcc08>,\n",
       " <keras.layers.normalization.BatchNormalization at 0x282f2892648>,\n",
       " <keras.layers.core.Activation at 0x282f28ea648>,\n",
       " <keras.layers.convolutional.Conv2D at 0x282f28e3f48>,\n",
       " <keras.layers.normalization.BatchNormalization at 0x282f29ea9c8>,\n",
       " <keras.layers.merge.Add at 0x282f29eae08>,\n",
       " <keras.layers.core.Activation at 0x282f29f1048>,\n",
       " <keras.layers.convolutional.Conv2D at 0x282f2a3e248>,\n",
       " <keras.layers.normalization.BatchNormalization at 0x282f2af3f08>,\n",
       " <keras.layers.core.Activation at 0x282f2af3f88>,\n",
       " <keras.layers.convolutional.Conv2D at 0x282f2b02e48>,\n",
       " <keras.layers.normalization.BatchNormalization at 0x282f2c03d88>,\n",
       " <keras.layers.core.Activation at 0x282f2c03dc8>,\n",
       " <keras.layers.convolutional.Conv2D at 0x282f2c0a4c8>,\n",
       " <keras.layers.convolutional.Conv2D at 0x282f7ef9b88>,\n",
       " <keras.layers.normalization.BatchNormalization at 0x282f7eb0908>,\n",
       " <keras.layers.normalization.BatchNormalization at 0x282f7f81748>,\n",
       " <keras.layers.merge.Add at 0x282f7f9fd88>,\n",
       " <keras.layers.core.Activation at 0x282f800bf48>,\n",
       " <keras.layers.convolutional.Conv2D at 0x282f8070108>,\n",
       " <keras.layers.normalization.BatchNormalization at 0x282f8114788>,\n",
       " <keras.layers.core.Activation at 0x282f8114748>,\n",
       " <keras.layers.convolutional.Conv2D at 0x282f811acc8>,\n",
       " <keras.layers.normalization.BatchNormalization at 0x282f821cf88>,\n",
       " <keras.layers.core.Activation at 0x282f822a648>,\n",
       " <keras.layers.convolutional.Conv2D at 0x282f8222a08>,\n",
       " <keras.layers.normalization.BatchNormalization at 0x282f82df248>,\n",
       " <keras.layers.merge.Add at 0x282f832be88>,\n",
       " <keras.layers.core.Activation at 0x282f832f208>,\n",
       " <keras.layers.convolutional.Conv2D at 0x282f837e1c8>,\n",
       " <keras.layers.normalization.BatchNormalization at 0x282f8434848>,\n",
       " <keras.layers.core.Activation at 0x282f8434ec8>,\n",
       " <keras.layers.convolutional.Conv2D at 0x282f8443c88>,\n",
       " <keras.layers.normalization.BatchNormalization at 0x282f8542dc8>,\n",
       " <keras.layers.core.Activation at 0x282f8542e08>,\n",
       " <keras.layers.convolutional.Conv2D at 0x282f8549508>,\n",
       " <keras.layers.normalization.BatchNormalization at 0x282f8a0f788>,\n",
       " <keras.layers.merge.Add at 0x282f8a680c8>,\n",
       " <keras.layers.core.Activation at 0x282f8a61608>,\n",
       " <keras.layers.pooling.GlobalAveragePooling2D at 0x282f832f348>]"
      ]
     },
     "execution_count": 14,
     "metadata": {},
     "output_type": "execute_result"
    }
   ],
   "source": [
    "model.layers[0].layers"
   ]
  },
  {
   "cell_type": "markdown",
   "metadata": {
    "button": false,
    "new_sheet": false,
    "run_control": {
     "read_only": false
    }
   },
   "source": [
    "Since the ResNet50 model has already been trained, then we want to tell our model not to bother with training the ResNet part, but to train only our dense output layer. To do that, we run the following."
   ]
  },
  {
   "cell_type": "code",
   "execution_count": 15,
   "metadata": {
    "button": false,
    "new_sheet": false,
    "run_control": {
     "read_only": false
    }
   },
   "outputs": [],
   "source": [
    "model.layers[0].trainable = False"
   ]
  },
  {
   "cell_type": "markdown",
   "metadata": {
    "button": false,
    "new_sheet": false,
    "run_control": {
     "read_only": false
    }
   },
   "source": [
    "And now using the *summary* attribute of the model, we can see how many parameters we will need to optimize in order to train the output layer."
   ]
  },
  {
   "cell_type": "code",
   "execution_count": 16,
   "metadata": {
    "button": false,
    "new_sheet": false,
    "run_control": {
     "read_only": false
    }
   },
   "outputs": [
    {
     "name": "stdout",
     "output_type": "stream",
     "text": [
      "Model: \"sequential_1\"\n",
      "_________________________________________________________________\n",
      "Layer (type)                 Output Shape              Param #   \n",
      "=================================================================\n",
      "resnet50 (Model)             (None, 2048)              23587712  \n",
      "_________________________________________________________________\n",
      "dense_1 (Dense)              (None, 2)                 4098      \n",
      "=================================================================\n",
      "Total params: 23,591,810\n",
      "Trainable params: 4,098\n",
      "Non-trainable params: 23,587,712\n",
      "_________________________________________________________________\n"
     ]
    }
   ],
   "source": [
    "model.summary()"
   ]
  },
  {
   "cell_type": "code",
   "execution_count": 17,
   "metadata": {},
   "outputs": [],
   "source": [
    "from keras.callbacks import ModelCheckpoint\n",
    "checkpoint = ModelCheckpoint(\"resnet.h5\",monitor='val_loss',verbose=1,save_best_only=True)"
   ]
  },
  {
   "cell_type": "markdown",
   "metadata": {
    "button": false,
    "new_sheet": false,
    "run_control": {
     "read_only": false
    }
   },
   "source": [
    "Next we compile our model using the **adam** optimizer."
   ]
  },
  {
   "cell_type": "code",
   "execution_count": 18,
   "metadata": {
    "button": false,
    "new_sheet": false,
    "run_control": {
     "read_only": false
    }
   },
   "outputs": [],
   "source": [
    "model.compile(optimizer='adam', loss='categorical_crossentropy', metrics=['accuracy'])"
   ]
  },
  {
   "cell_type": "markdown",
   "metadata": {
    "button": false,
    "new_sheet": false,
    "run_control": {
     "read_only": false
    }
   },
   "source": [
    "Before we are able to start the training process, with an ImageDataGenerator, we will need to define how many steps compose an epoch. Typically, that is the number of images divided by the batch size. Therefore, we define our steps per epoch as follows:"
   ]
  },
  {
   "cell_type": "code",
   "execution_count": 19,
   "metadata": {
    "button": false,
    "new_sheet": false,
    "run_control": {
     "read_only": false
    }
   },
   "outputs": [],
   "source": [
    "steps_per_epoch_training = len(train_generator)/60  #Added due to long training times\n",
    "steps_per_epoch_validation = len(validation_generator)/20 #Added due to long training times\n",
    "num_epochs = 5"
   ]
  },
  {
   "cell_type": "markdown",
   "metadata": {
    "button": false,
    "new_sheet": false,
    "run_control": {
     "read_only": false
    }
   },
   "source": [
    "Finally, we are ready to start training our model. Unlike a conventional deep learning training were data is not streamed from a directory, with an ImageDataGenerator where data is augmented in batches, we use the **fit_generator** method."
   ]
  },
  {
   "cell_type": "code",
   "execution_count": 20,
   "metadata": {},
   "outputs": [
    {
     "data": {
      "text/plain": [
       "300"
      ]
     },
     "execution_count": 20,
     "metadata": {},
     "output_type": "execute_result"
    }
   ],
   "source": [
    "len(train_generator)"
   ]
  },
  {
   "cell_type": "code",
   "execution_count": 21,
   "metadata": {},
   "outputs": [
    {
     "data": {
      "text/plain": [
       "100"
      ]
     },
     "execution_count": 21,
     "metadata": {},
     "output_type": "execute_result"
    }
   ],
   "source": [
    "len(validation_generator)"
   ]
  },
  {
   "cell_type": "code",
   "execution_count": 22,
   "metadata": {
    "button": false,
    "new_sheet": false,
    "run_control": {
     "read_only": false
    }
   },
   "outputs": [
    {
     "name": "stdout",
     "output_type": "stream",
     "text": [
      "Epoch 1/5\n",
      "5/5 [==============================] - 356s 71s/step - loss: 0.7061 - accuracy: 0.6020 - val_loss: 0.7312 - val_accuracy: 0.5380\n",
      "\n",
      "Epoch 00001: val_loss improved from inf to 0.73122, saving model to resnet.h5\n",
      "Epoch 2/5\n",
      "5/5 [==============================] - 342s 68s/step - loss: 0.3303 - accuracy: 0.8960 - val_loss: 0.5651 - val_accuracy: 0.7400\n",
      "\n",
      "Epoch 00002: val_loss improved from 0.73122 to 0.56515, saving model to resnet.h5\n",
      "Epoch 3/5\n",
      "5/5 [==============================] - 347s 69s/step - loss: 0.1762 - accuracy: 0.9600 - val_loss: 0.4095 - val_accuracy: 0.8540\n",
      "\n",
      "Epoch 00003: val_loss improved from 0.56515 to 0.40945, saving model to resnet.h5\n",
      "Epoch 4/5\n",
      "5/5 [==============================] - 406s 81s/step - loss: 0.1054 - accuracy: 0.9780 - val_loss: 0.3799 - val_accuracy: 0.8160\n",
      "\n",
      "Epoch 00004: val_loss improved from 0.40945 to 0.37993, saving model to resnet.h5\n",
      "Epoch 5/5\n",
      "5/5 [==============================] - 398s 80s/step - loss: 0.0846 - accuracy: 0.9800 - val_loss: 0.4073 - val_accuracy: 0.8260\n",
      "\n",
      "Epoch 00005: val_loss did not improve from 0.37993\n"
     ]
    }
   ],
   "source": [
    "fit_history = model.fit_generator(\n",
    "    train_generator,\n",
    "    steps_per_epoch=steps_per_epoch_training,\n",
    "    epochs=num_epochs,\n",
    "    validation_data=validation_generator,\n",
    "    validation_steps=steps_per_epoch_validation,\n",
    "    verbose=1,callbacks=[checkpoint]\n",
    ")"
   ]
  },
  {
   "cell_type": "code",
   "execution_count": 27,
   "metadata": {},
   "outputs": [
    {
     "data": {
      "image/png": "[encoded data removed]",
      "text/plain": [
       "<Figure size 432x288 with 1 Axes>"
      ]
     },
     "metadata": {
      "needs_background": "light"
     },
     "output_type": "display_data"
    }
   ],
   "source": [
    "import matplotlib.pyplot as plt\n",
    "%matplotlib inline\n",
    "#Plot Graph to see the result\n",
    "plt.plot(fit_history.history[\"accuracy\"])\n",
    "plt.plot(fit_history.history['val_accuracy'])\n",
    "plt.plot(fit_history.history['loss'])\n",
    "plt.plot(fit_history.history['val_loss'])\n",
    "plt.title(\"model accuracy\")\n",
    "plt.ylabel(\"Accuracy\")\n",
    "plt.xlabel(\"Epoch\")\n",
    "plt.legend([\"Accuracy\",\"Validation Accuracy\",\"loss\",\"Validation Loss\"])\n",
    "plt.show()"
   ]
  },
  {
   "cell_type": "markdown",
   "metadata": {
    "button": false,
    "new_sheet": false,
    "run_control": {
     "read_only": false
    }
   },
   "source": [
    "Now that the model is trained, you are ready to start using it to classify images."
   ]
  },
  {
   "cell_type": "markdown",
   "metadata": {
    "button": false,
    "new_sheet": false,
    "run_control": {
     "read_only": false
    }
   },
   "source": [
    "Since training can take a long time when building deep learning models, it is always a good idea to save your model once the training is complete if you believe you will be using the model again later. You will be using this model in the next module, so go ahead and save your model."
   ]
  },
  {
   "cell_type": "code",
   "execution_count": null,
   "metadata": {
    "button": false,
    "new_sheet": false,
    "run_control": {
     "read_only": false
    }
   },
   "outputs": [],
   "source": [
    "#model.save('classifier_resnet_model.h5')"
   ]
  },
  {
   "cell_type": "markdown",
   "metadata": {},
   "source": [
    "### Load Resnet Model and Evaluate"
   ]
  },
  {
   "cell_type": "code",
   "execution_count": 28,
   "metadata": {},
   "outputs": [],
   "source": [
    "resnet = model"
   ]
  },
  {
   "cell_type": "code",
   "execution_count": 29,
   "metadata": {},
   "outputs": [
    {
     "name": "stdout",
     "output_type": "stream",
     "text": [
      "Model: \"sequential_1\"\n",
      "_________________________________________________________________\n",
      "Layer (type)                 Output Shape              Param #   \n",
      "=================================================================\n",
      "resnet50 (Model)             (None, 2048)              23587712  \n",
      "_________________________________________________________________\n",
      "dense_1 (Dense)              (None, 2)                 4098      \n",
      "=================================================================\n",
      "Total params: 23,591,810\n",
      "Trainable params: 4,098\n",
      "Non-trainable params: 23,587,712\n",
      "_________________________________________________________________\n"
     ]
    }
   ],
   "source": [
    "resnet.summary()"
   ]
  },
  {
   "cell_type": "code",
   "execution_count": 30,
   "metadata": {},
   "outputs": [],
   "source": [
    "#Define directory\n",
    "\n",
    "train_dir = r'C:\\Users\\Dennis\\Desktop\\AI Capstone Project with Deep Learning\\concrete_data_week4\\train'\n",
    "validation_dir = r'C:\\Users\\Dennis\\Desktop\\AI Capstone Project with Deep Learning\\concrete_data_week4\\valid'\n",
    "test_dir = r'C:\\Users\\Dennis\\Desktop\\AI Capstone Project with Deep Learning\\concrete_data_week4\\test'"
   ]
  },
  {
   "cell_type": "code",
   "execution_count": 31,
   "metadata": {},
   "outputs": [],
   "source": [
    "test_datagen = ImageDataGenerator(rescale=1./255)"
   ]
  },
  {
   "cell_type": "code",
   "execution_count": 32,
   "metadata": {},
   "outputs": [
    {
     "name": "stdout",
     "output_type": "stream",
     "text": [
      "Found 500 images belonging to 2 classes.\n"
     ]
    }
   ],
   "source": [
    "test_generator = test_datagen.flow_from_directory(\n",
    "            test_dir,\n",
    "            target_size = (224,224),\n",
    "            class_mode = 'categorical',\n",
    "            batch_size = 100,\n",
    "            shuffle=False)"
   ]
  },
  {
   "cell_type": "code",
   "execution_count": 33,
   "metadata": {},
   "outputs": [
    {
     "name": "stdout",
     "output_type": "stream",
     "text": [
      "5/5 [==============================] - 155s 31s/step\n"
     ]
    }
   ],
   "source": [
    "resloss = resnet.evaluate_generator(test_generator,steps=5,verbose=1)"
   ]
  },
  {
   "cell_type": "code",
   "execution_count": 35,
   "metadata": {},
   "outputs": [
    {
     "data": {
      "text/plain": [
       "[2.75006103515625, 0.5]"
      ]
     },
     "execution_count": 35,
     "metadata": {},
     "output_type": "execute_result"
    }
   ],
   "source": [
    "resloss"
   ]
  },
  {
   "cell_type": "code",
   "execution_count": 37,
   "metadata": {},
   "outputs": [
    {
     "name": "stdout",
     "output_type": "stream",
     "text": [
      "Accuracy is 50.00%\n"
     ]
    }
   ],
   "source": [
    "print(\"Accuracy is %.2f%%\" % (resloss[1]*100))"
   ]
  },
  {
   "cell_type": "code",
   "execution_count": null,
   "metadata": {},
   "outputs": [],
   "source": []
  },
  {
   "cell_type": "markdown",
   "metadata": {
    "button": false,
    "new_sheet": false,
    "run_control": {
     "read_only": false
    }
   },
   "source": [
    "Now, you should see the model file *classifier_resnet_model.h5* apprear in the left directory pane."
   ]
  },
  {
   "cell_type": "markdown",
   "metadata": {
    "button": false,
    "new_sheet": false,
    "run_control": {
     "read_only": false
    }
   },
   "source": [
    "### Thank you for completing this lab!\n",
    "\n",
    "This notebook was created by Alex Aklson. I hope you found this lab interesting and educational."
   ]
  },
  {
   "cell_type": "markdown",
   "metadata": {
    "button": false,
    "new_sheet": false,
    "run_control": {
     "read_only": false
    }
   },
   "source": [
    "This notebook is part of a course on **Coursera** called *AI Capstone Project with Deep Learning*. If you accessed this notebook outside the course, you can take this course online by clicking [here](https://cocl.us/DL0321EN_Coursera_Week3_LAB1)."
   ]
  },
  {
   "cell_type": "markdown",
   "metadata": {
    "button": false,
    "new_sheet": false,
    "run_control": {
     "read_only": false
    }
   },
   "source": [
    "<hr>\n",
    "\n",
    "Copyright &copy; 2020 [IBM Developer Skills Network](https://cognitiveclass.ai/?utm_source=bducopyrightlink&utm_medium=dswb&utm_campaign=bdu). This notebook and its source code are released under the terms of the [MIT License](https://bigdatauniversity.com/mit-license/)."
   ]
  }
 ],
 "metadata": {
  "kernelspec": {
   "display_name": "Python 3",
   "language": "python",
   "name": "python3"
  },
  "language_info": {
   "codemirror_mode": {
    "name": "ipython",
    "version": 3
   },
   "file_extension": ".py",
   "mimetype": "text/x-python",
   "name": "python",
   "nbconvert_exporter": "python",
   "pygments_lexer": "ipython3",
   "version": "3.7.6"
  }
 },
 "nbformat": 4,
 "nbformat_minor": 4
}
