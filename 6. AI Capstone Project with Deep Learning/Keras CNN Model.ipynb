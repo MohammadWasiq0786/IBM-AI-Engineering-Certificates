{
 "cells": [
  {
   "cell_type": "markdown",
   "metadata": {
    "button": false,
    "new_sheet": false,
    "run_control": {
     "read_only": false
    }
   },
   "source": [
    "## Introduction\n"
   ]
  },
  {
   "cell_type": "markdown",
   "metadata": {
    "button": false,
    "new_sheet": false,
    "run_control": {
     "read_only": false
    }
   },
   "source": [
    "In this lab, you will build an image classifier using the VGG16 pre-trained model, and you will evaluate it and compare its performance to the model we built in the last module using the ResNet50 pre-trained model. Good luck!"
   ]
  },
  {
   "cell_type": "markdown",
   "metadata": {},
   "source": [
    "## Download Data"
   ]
  },
  {
   "cell_type": "markdown",
   "metadata": {},
   "source": [
    "Use the <code>wget</code> command to download the data for this assignment from here: https://s3-api.us-geo.objectstorage.softlayer.net/cf-courses-data/CognitiveClass/DL0321EN/data/concrete_data_week4.zip"
   ]
  },
  {
   "cell_type": "markdown",
   "metadata": {},
   "source": [
    "Use the following cells to download the data."
   ]
  },
  {
   "cell_type": "code",
   "execution_count": 1,
   "metadata": {},
   "outputs": [],
   "source": [
    "#!wget https://s3-api.us-geo.objectstorage.softlayer.net/cf-courses-data/CognitiveClass/DL0321EN/data/concrete_data_week4.zip"
   ]
  },
  {
   "cell_type": "code",
   "execution_count": 2,
   "metadata": {},
   "outputs": [],
   "source": [
    "#!unzip -q concrete_data_week4.zip"
   ]
  },
  {
   "cell_type": "markdown",
   "metadata": {},
   "source": [
    "After you unzip the data, you fill find the data has already been divided into a train, validation, and test sets."
   ]
  },
  {
   "cell_type": "markdown",
   "metadata": {},
   "source": [
    "  "
   ]
  },
  {
   "cell_type": "markdown",
   "metadata": {
    "button": false,
    "new_sheet": false,
    "run_control": {
     "read_only": false
    }
   },
   "source": [
    "<a id=\"item42\"></a>"
   ]
  },
  {
   "cell_type": "markdown",
   "metadata": {},
   "source": [
    "## Part 1"
   ]
  },
  {
   "cell_type": "markdown",
   "metadata": {},
   "source": [
    "In this part, you will design a classifier using the VGG16 pre-trained model. Just like the ResNet50 model, you can import the model <code>VGG16</code> from <code>keras.applications</code>."
   ]
  },
  {
   "cell_type": "markdown",
   "metadata": {},
   "source": [
    "You will essentially build your classifier as follows:\n",
    "1. Import libraries, modules, and packages you will need. Make sure to import the *preprocess_input* function from <code>keras.applications.vgg16</code>.\n",
    "2. Use a batch size of 100 images for both training and validation.\n",
    "3. Construct an ImageDataGenerator for the training set and another one for the validation set. VGG16 was originally trained on 224 × 224 images, so make sure to address that when defining the ImageDataGenerator instances.\n",
    "4. Create a sequential model using Keras. Add VGG16 model to it and dense layer.\n",
    "5. Compile the mode using the adam optimizer and the categorical_crossentropy loss function.\n",
    "6. Fit the model on the augmented data using the ImageDataGenerators."
   ]
  },
  {
   "cell_type": "markdown",
   "metadata": {},
   "source": [
    "Use the following cells to create your classifier."
   ]
  },
  {
   "cell_type": "code",
   "execution_count": 3,
   "metadata": {},
   "outputs": [
    {
     "name": "stderr",
     "output_type": "stream",
     "text": [
      "Using TensorFlow backend.\n"
     ]
    }
   ],
   "source": [
    "import keras\n",
    "from keras.models import Sequential\n",
    "from keras.layers import Dense\n",
    "from keras.preprocessing.image import ImageDataGenerator\n",
    "from keras.applications import VGG16\n",
    "from keras.applications.vgg16 import preprocess_input\n",
    "from keras import models\n",
    "from keras import layers\n",
    "from keras import optimizers\n",
    "from keras.callbacks import EarlyStopping, ModelCheckpoint\n",
    "from keras.models import load_model\n",
    "\n",
    "import matplotlib.pyplot as plt\n",
    "%matplotlib inline\n",
    "import numpy as np\n",
    "import pandas as pd"
   ]
  },
  {
   "cell_type": "code",
   "execution_count": 4,
   "metadata": {},
   "outputs": [],
   "source": [
    "num_classes = 2\n",
    "\n",
    "image_resize = 224\n",
    "\n",
    "batch_size_training = 100\n",
    "batch_size_validation = 100"
   ]
  },
  {
   "cell_type": "code",
   "execution_count": 5,
   "metadata": {},
   "outputs": [],
   "source": [
    "#Define directory\n",
    "\n",
    "train_dir = r'C:\\Users\\Dennis\\Desktop\\AI Capstone Project with Deep Learning\\concrete_data_week4\\train'\n",
    "validation_dir = r'C:\\Users\\Dennis\\Desktop\\AI Capstone Project with Deep Learning\\concrete_data_week4\\valid'\n",
    "test_dir = r'C:\\Users\\Dennis\\Desktop\\AI Capstone Project with Deep Learning\\concrete_data_week4\\test'"
   ]
  },
  {
   "cell_type": "code",
   "execution_count": null,
   "metadata": {},
   "outputs": [],
   "source": []
  },
  {
   "cell_type": "markdown",
   "metadata": {
    "scrolled": true
   },
   "source": [
    "###  Generating batches of tensor image data"
   ]
  },
  {
   "cell_type": "code",
   "execution_count": 6,
   "metadata": {},
   "outputs": [
    {
     "name": "stdout",
     "output_type": "stream",
     "text": [
      "Found 30000 images belonging to 2 classes.\n"
     ]
    }
   ],
   "source": [
    "train_datagen = ImageDataGenerator(rescale=1./255)\n",
    "valid_datagen = ImageDataGenerator(rescale=1./255)\n",
    "\n",
    "train_generator = train_datagen.flow_from_directory(\n",
    "            train_dir,\n",
    "            target_size = (224,224),\n",
    "            class_mode = 'categorical',\n",
    "            batch_size = 100\n",
    "            )"
   ]
  },
  {
   "cell_type": "code",
   "execution_count": 7,
   "metadata": {},
   "outputs": [
    {
     "name": "stdout",
     "output_type": "stream",
     "text": [
      "Found 9500 images belonging to 2 classes.\n"
     ]
    }
   ],
   "source": [
    "validation_generator = valid_datagen.flow_from_directory(\n",
    "            validation_dir,\n",
    "            target_size = (224,224),\n",
    "            class_mode = 'categorical',\n",
    "            batch_size = 100\n",
    "            )"
   ]
  },
  {
   "cell_type": "markdown",
   "metadata": {},
   "source": [
    "### Create a CNN Generic model using Keras"
   ]
  },
  {
   "cell_type": "code",
   "execution_count": 8,
   "metadata": {},
   "outputs": [],
   "source": [
    "model = models.Sequential()\n",
    "\n",
    "model.add(layers.Conv2D(filters=32,kernel_size=(3,3),activation='relu',input_shape=(224,224,3)))\n",
    "\n",
    "model.add(layers.MaxPool2D(pool_size=(2,2)))\n",
    "\n",
    "model.add(layers.Conv2D(filters=64,kernel_size=(3,3),activation='relu'))\n",
    "\n",
    "model.add(layers.MaxPool2D(pool_size=(2,2)))\n",
    "\n",
    "model.add(layers.Conv2D(filters=128, kernel_size=(3, 3), activation='relu'))\n",
    "\n",
    "model.add(layers.MaxPool2D(pool_size=(2,2)))\n",
    "\n",
    "model.add(layers.Conv2D(filters=128, kernel_size=(3, 3), activation='relu'))\n",
    "\n",
    "model.add(layers.MaxPool2D(pool_size=(2,2)))\n",
    "\n",
    "model.add(layers.Flatten())\n",
    "\n",
    "model.add(layers.Dense(units=512, activation='relu'))\n",
    "\n",
    "model.add(layers.Dense(units=2, activation='sigmoid'))\n"
   ]
  },
  {
   "cell_type": "code",
   "execution_count": 9,
   "metadata": {},
   "outputs": [
    {
     "name": "stdout",
     "output_type": "stream",
     "text": [
      "Model: \"sequential_1\"\n",
      "_________________________________________________________________\n",
      "Layer (type)                 Output Shape              Param #   \n",
      "=================================================================\n",
      "conv2d_1 (Conv2D)            (None, 222, 222, 32)      896       \n",
      "_________________________________________________________________\n",
      "max_pooling2d_1 (MaxPooling2 (None, 111, 111, 32)      0         \n",
      "_________________________________________________________________\n",
      "conv2d_2 (Conv2D)            (None, 109, 109, 64)      18496     \n",
      "_________________________________________________________________\n",
      "max_pooling2d_2 (MaxPooling2 (None, 54, 54, 64)        0         \n",
      "_________________________________________________________________\n",
      "conv2d_3 (Conv2D)            (None, 52, 52, 128)       73856     \n",
      "_________________________________________________________________\n",
      "max_pooling2d_3 (MaxPooling2 (None, 26, 26, 128)       0         \n",
      "_________________________________________________________________\n",
      "conv2d_4 (Conv2D)            (None, 24, 24, 128)       147584    \n",
      "_________________________________________________________________\n",
      "max_pooling2d_4 (MaxPooling2 (None, 12, 12, 128)       0         \n",
      "_________________________________________________________________\n",
      "flatten_1 (Flatten)          (None, 18432)             0         \n",
      "_________________________________________________________________\n",
      "dense_1 (Dense)              (None, 512)               9437696   \n",
      "_________________________________________________________________\n",
      "dense_2 (Dense)              (None, 2)                 1026      \n",
      "=================================================================\n",
      "Total params: 9,679,554\n",
      "Trainable params: 9,679,554\n",
      "Non-trainable params: 0\n",
      "_________________________________________________________________\n"
     ]
    }
   ],
   "source": [
    "model.summary()"
   ]
  },
  {
   "cell_type": "code",
   "execution_count": 10,
   "metadata": {},
   "outputs": [],
   "source": [
    "checkpoint = ModelCheckpoint(\"cnn.h5\",monitor='val_loss',verbose=1,save_best_only=True)"
   ]
  },
  {
   "cell_type": "code",
   "execution_count": 11,
   "metadata": {},
   "outputs": [],
   "source": [
    "model.compile(optimizer='adam',loss='categorical_crossentropy',metrics=['accuracy'])"
   ]
  },
  {
   "cell_type": "code",
   "execution_count": 12,
   "metadata": {},
   "outputs": [],
   "source": [
    "early = EarlyStopping(monitor='val_loss',min_delta=0,patience=3,verbose=1)"
   ]
  },
  {
   "cell_type": "code",
   "execution_count": 13,
   "metadata": {},
   "outputs": [
    {
     "name": "stdout",
     "output_type": "stream",
     "text": [
      "Epoch 1/10\n",
      "10/10 [==============================] - 130s 13s/step - loss: 0.8371 - accuracy: 0.5040 - val_loss: 0.7815 - val_accuracy: 0.5070\n",
      "\n",
      "Epoch 00001: val_loss improved from inf to 0.78150, saving model to cnn.h5\n",
      "Epoch 2/10\n",
      "10/10 [==============================] - 124s 12s/step - loss: 0.6910 - accuracy: 0.5360 - val_loss: 0.7305 - val_accuracy: 0.4900\n",
      "\n",
      "Epoch 00002: val_loss improved from 0.78150 to 0.73045, saving model to cnn.h5\n",
      "Epoch 3/10\n",
      "10/10 [==============================] - 124s 12s/step - loss: 0.6461 - accuracy: 0.5850 - val_loss: 0.4820 - val_accuracy: 0.7690\n",
      "\n",
      "Epoch 00003: val_loss improved from 0.73045 to 0.48204, saving model to cnn.h5\n",
      "Epoch 4/10\n",
      "10/10 [==============================] - 122s 12s/step - loss: 0.7392 - accuracy: 0.6870 - val_loss: 0.5826 - val_accuracy: 0.8010\n",
      "\n",
      "Epoch 00004: val_loss did not improve from 0.48204\n",
      "Epoch 5/10\n",
      "10/10 [==============================] - 118s 12s/step - loss: 0.3983 - accuracy: 0.8550 - val_loss: 0.1857 - val_accuracy: 0.9432\n",
      "\n",
      "Epoch 00005: val_loss improved from 0.48204 to 0.18572, saving model to cnn.h5\n",
      "Epoch 6/10\n",
      "10/10 [==============================] - 118s 12s/step - loss: 0.1957 - accuracy: 0.9360 - val_loss: 0.1741 - val_accuracy: 0.9674\n",
      "\n",
      "Epoch 00006: val_loss improved from 0.18572 to 0.17409, saving model to cnn.h5\n",
      "Epoch 7/10\n",
      "10/10 [==============================] - 118s 12s/step - loss: 0.1046 - accuracy: 0.9740 - val_loss: 0.0963 - val_accuracy: 0.9778\n",
      "\n",
      "Epoch 00007: val_loss improved from 0.17409 to 0.09628, saving model to cnn.h5\n",
      "Epoch 8/10\n",
      "10/10 [==============================] - 118s 12s/step - loss: 0.0639 - accuracy: 0.9810 - val_loss: 0.0367 - val_accuracy: 0.9820\n",
      "\n",
      "Epoch 00008: val_loss improved from 0.09628 to 0.03673, saving model to cnn.h5\n",
      "Epoch 9/10\n",
      "10/10 [==============================] - 117s 12s/step - loss: 0.0833 - accuracy: 0.9750 - val_loss: 0.0396 - val_accuracy: 0.9750\n",
      "\n",
      "Epoch 00009: val_loss did not improve from 0.03673\n",
      "Epoch 10/10\n",
      "10/10 [==============================] - 118s 12s/step - loss: 0.0588 - accuracy: 0.9830 - val_loss: 0.0491 - val_accuracy: 0.9814\n",
      "\n",
      "Epoch 00010: val_loss did not improve from 0.03673\n"
     ]
    },
    {
     "data": {
      "text/plain": [
       "<keras.callbacks.callbacks.History at 0x2b5d2003c88>"
      ]
     },
     "execution_count": 13,
     "metadata": {},
     "output_type": "execute_result"
    }
   ],
   "source": [
    "model.fit_generator(generator=train_generator,\n",
    "                    steps_per_epoch=10,\n",
    "                    epochs=10,\n",
    "                    validation_data=validation_generator,\n",
    "                    validation_steps=50,\n",
    "                    callbacks=[checkpoint,early])"
   ]
  },
  {
   "cell_type": "code",
   "execution_count": null,
   "metadata": {},
   "outputs": [],
   "source": [
    "#Plot Graph to see the result\n",
    "plt.plot(hist.history[\"acc\"])\n",
    "plt.plot(hist.history['val_acc'])\n",
    "plt.plot(hist.history['loss'])\n",
    "plt.plot(hist.history['val_loss'])\n",
    "plt.title(\"model accuracy\")\n",
    "plt.ylabel(\"Accuracy\")\n",
    "plt.xlabel(\"Epoch\")\n",
    "plt.legend([\"Accuracy\",\"Validation Accuracy\",\"loss\",\"Validation Loss\"])\n",
    "plt.show()"
   ]
  },
  {
   "cell_type": "code",
   "execution_count": 14,
   "metadata": {},
   "outputs": [],
   "source": [
    "del model"
   ]
  },
  {
   "cell_type": "markdown",
   "metadata": {},
   "source": [
    "## Part 2"
   ]
  },
  {
   "cell_type": "markdown",
   "metadata": {},
   "source": [
    "In this part, you will evaluate your deep learning models on a test data. For this part, you will need to do the following:\n",
    "\n",
    "1. Load your saved model that was built using the ResNet50 model. \n",
    "2. Construct an ImageDataGenerator for the test set. For this ImageDataGenerator instance, you only need to pass the directory of the test images, target size, and the **shuffle** parameter and set it to False.\n",
    "3. Use the **evaluate_generator** method to evaluate your models on the test data, by passing the above ImageDataGenerator as an argument. You can learn more about **evaluate_generator** [here](https://keras.io/models/sequential/).\n",
    "4. Print the performance of the classifier using the VGG16 pre-trained model.\n",
    "5. Print the performance of the classifier using the ResNet pre-trained model.\n"
   ]
  },
  {
   "cell_type": "markdown",
   "metadata": {},
   "source": [
    "Use the following cells to evaluate your models."
   ]
  },
  {
   "cell_type": "code",
   "execution_count": 6,
   "metadata": {},
   "outputs": [],
   "source": [
    "cnn = load_model(\"cnn.h5\")"
   ]
  },
  {
   "cell_type": "code",
   "execution_count": 7,
   "metadata": {},
   "outputs": [],
   "source": [
    "test_datagen = ImageDataGenerator(rescale=1./255)"
   ]
  },
  {
   "cell_type": "code",
   "execution_count": 8,
   "metadata": {},
   "outputs": [
    {
     "name": "stdout",
     "output_type": "stream",
     "text": [
      "Found 500 images belonging to 2 classes.\n"
     ]
    }
   ],
   "source": [
    "test_generator = test_datagen.flow_from_directory(\n",
    "            test_dir,\n",
    "            target_size = (224,224),\n",
    "            class_mode = 'categorical',\n",
    "            batch_size = 100,\n",
    "            shuffle=False)"
   ]
  },
  {
   "cell_type": "code",
   "execution_count": 9,
   "metadata": {},
   "outputs": [
    {
     "name": "stdout",
     "output_type": "stream",
     "text": [
      "5/5 [==============================] - 9s 2s/step\n"
     ]
    }
   ],
   "source": [
    "cnnloss = cnn.evaluate_generator(test_generator,steps=5,verbose=1)"
   ]
  },
  {
   "cell_type": "code",
   "execution_count": 10,
   "metadata": {},
   "outputs": [
    {
     "data": {
      "text/plain": [
       "[0.04639992117881775, 0.9860000014305115]"
      ]
     },
     "execution_count": 10,
     "metadata": {},
     "output_type": "execute_result"
    }
   ],
   "source": [
    "cnnloss"
   ]
  },
  {
   "cell_type": "code",
   "execution_count": 11,
   "metadata": {},
   "outputs": [
    {
     "name": "stdout",
     "output_type": "stream",
     "text": [
      "Accuracy is 98.60%\n"
     ]
    }
   ],
   "source": [
    "print(\"Accuracy is %.2f%%\" % (cnnloss[1]*100))"
   ]
  },
  {
   "cell_type": "markdown",
   "metadata": {},
   "source": [
    "## Part 3"
   ]
  },
  {
   "cell_type": "markdown",
   "metadata": {},
   "source": [
    "In this model, you will predict whether the images in the test data are images of cracked concrete or not. You will do the following:\n",
    "\n",
    "1. Use the **predict_generator** method to predict the class of the images in the test data, by passing the test data ImageDataGenerator instance defined in the previous part as an argument. You can learn more about the **predict_generator** method [here](https://keras.io/models/sequential/).\n",
    "2. Report the class predictions of the first five images in the test set. You should print something list this:\n",
    "\n",
    "<center>\n",
    "    <ul style=\"list-style-type:none\">\n",
    "        <li>Positive</li>  \n",
    "        <li>Negative</li> \n",
    "        <li>Positive</li>\n",
    "        <li>Positive</li>\n",
    "        <li>Negative</li>\n",
    "    </ul>\n",
    "</center>"
   ]
  },
  {
   "cell_type": "markdown",
   "metadata": {},
   "source": [
    "Use the following cells to make your predictions."
   ]
  },
  {
   "cell_type": "markdown",
   "metadata": {},
   "source": [
    "### Method 1"
   ]
  },
  {
   "cell_type": "code",
   "execution_count": 21,
   "metadata": {},
   "outputs": [],
   "source": [
    "test_generator.reset()"
   ]
  },
  {
   "cell_type": "code",
   "execution_count": 12,
   "metadata": {},
   "outputs": [
    {
     "name": "stdout",
     "output_type": "stream",
     "text": [
      "5/5 [==============================] - 8s 2s/step\n"
     ]
    }
   ],
   "source": [
    "pred=cnn.predict_generator(test_generator, steps=len(test_generator), verbose=1)"
   ]
  },
  {
   "cell_type": "code",
   "execution_count": 13,
   "metadata": {},
   "outputs": [
    {
     "data": {
      "text/plain": [
       "array([[3.45648885e-01, 2.54797935e-03],\n",
       "       [3.58892858e-01, 3.79788876e-03],\n",
       "       [3.54529738e-01, 4.68012691e-03],\n",
       "       [3.42454255e-01, 5.47006726e-03],\n",
       "       [3.75858247e-01, 6.25211000e-03],\n",
       "       [2.21439213e-01, 1.39407814e-02],\n",
       "       [3.82224202e-01, 6.92352653e-03],\n",
       "       [4.12553638e-01, 1.91785693e-02],\n",
       "       [3.73071134e-01, 4.69848514e-03],\n",
       "       [3.54451299e-01, 4.40987945e-03],\n",
       "       [3.72827739e-01, 5.06946445e-03],\n",
       "       [3.83346528e-01, 8.42589140e-03],\n",
       "       [3.91592592e-01, 9.91898775e-03],\n",
       "       [3.73605162e-01, 5.56546450e-03],\n",
       "       [3.75318736e-01, 6.47369027e-03],\n",
       "       [3.61631095e-01, 4.61190939e-03],\n",
       "       [3.93187195e-01, 1.03015900e-02],\n",
       "       [3.55452508e-01, 3.06966901e-03],\n",
       "       [3.71420711e-01, 5.23102283e-03],\n",
       "       [3.19781214e-01, 1.49047971e-02],\n",
       "       [4.00716841e-01, 1.33146048e-02],\n",
       "       [3.63318712e-01, 3.69313359e-03],\n",
       "       [3.54739368e-01, 4.35549021e-02],\n",
       "       [3.95046264e-01, 1.20506585e-02],\n",
       "       [3.41106117e-01, 2.09712982e-03],\n",
       "       [4.05712128e-01, 1.64081156e-02],\n",
       "       [2.26685524e-01, 8.52263272e-02],\n",
       "       [3.74542773e-01, 6.22501969e-03],\n",
       "       [3.94787550e-01, 1.16859674e-02],\n",
       "       [3.77174556e-01, 6.97475672e-03],\n",
       "       [3.54752779e-01, 6.19176030e-03],\n",
       "       [3.75105083e-01, 5.47370315e-03],\n",
       "       [3.77648115e-01, 7.65573978e-03],\n",
       "       [3.53967875e-01, 4.91246581e-03],\n",
       "       [3.92170310e-01, 9.68101621e-03],\n",
       "       [3.61133099e-01, 4.38180566e-03],\n",
       "       [3.47768694e-01, 5.57965040e-03],\n",
       "       [3.68628860e-01, 5.10078669e-03],\n",
       "       [3.84939343e-01, 8.18324089e-03],\n",
       "       [3.83135796e-01, 7.69853592e-03],\n",
       "       [3.93218338e-01, 1.04522407e-02],\n",
       "       [3.55870664e-01, 4.13164496e-03],\n",
       "       [3.56437862e-01, 3.39657068e-03],\n",
       "       [3.59331608e-01, 7.94193149e-03],\n",
       "       [3.86442155e-01, 1.01844966e-02],\n",
       "       [4.23046857e-01, 5.08554876e-02],\n",
       "       [3.73867244e-01, 5.61609864e-03],\n",
       "       [3.66060615e-01, 4.65834141e-03],\n",
       "       [2.92892575e-01, 1.00054145e-02],\n",
       "       [3.72294724e-01, 4.81644273e-03],\n",
       "       [3.68235648e-01, 7.23251700e-03],\n",
       "       [3.76293272e-01, 5.42381406e-03],\n",
       "       [3.83555949e-01, 8.03807378e-03],\n",
       "       [3.57865572e-01, 3.25036049e-03],\n",
       "       [3.77220660e-01, 6.07085228e-03],\n",
       "       [3.71121347e-01, 1.00774169e-02],\n",
       "       [3.68283987e-01, 4.50378656e-03],\n",
       "       [3.87259185e-01, 8.20139050e-03],\n",
       "       [3.81250650e-01, 6.93094730e-03],\n",
       "       [3.71770263e-01, 4.88975644e-03],\n",
       "       [3.77353400e-01, 1.10607445e-02],\n",
       "       [3.75625044e-01, 5.65904379e-03],\n",
       "       [3.72160047e-01, 5.01909852e-03],\n",
       "       [3.37204814e-01, 1.35833919e-02],\n",
       "       [3.82888377e-01, 7.71349669e-03],\n",
       "       [3.80625218e-01, 9.69853997e-03],\n",
       "       [3.69219244e-01, 5.21403551e-03],\n",
       "       [3.80730957e-01, 6.83739781e-03],\n",
       "       [3.72078657e-01, 5.28261065e-03],\n",
       "       [3.67079914e-01, 4.46239114e-03],\n",
       "       [3.74940842e-01, 5.51950932e-03],\n",
       "       [3.48675042e-01, 3.46371531e-03],\n",
       "       [3.45648646e-01, 2.32216716e-03],\n",
       "       [4.06949848e-01, 1.76650286e-02],\n",
       "       [4.14243549e-01, 2.28121281e-02],\n",
       "       [3.81789386e-01, 7.64453411e-03],\n",
       "       [3.86302173e-01, 8.57424736e-03],\n",
       "       [3.65953892e-01, 4.88388538e-03],\n",
       "       [3.63855809e-01, 3.80578637e-03],\n",
       "       [3.88986409e-01, 9.49060917e-03],\n",
       "       [4.17547137e-01, 3.42610776e-02],\n",
       "       [3.93512547e-01, 9.76073742e-03],\n",
       "       [3.96263331e-01, 2.12557614e-02],\n",
       "       [3.70342970e-01, 5.35088778e-03],\n",
       "       [3.79184097e-01, 6.52876496e-03],\n",
       "       [3.64931762e-01, 3.80548835e-03],\n",
       "       [3.54735672e-01, 3.02219391e-03],\n",
       "       [3.72562587e-01, 5.41540980e-03],\n",
       "       [4.18238103e-01, 2.84056365e-02],\n",
       "       [3.73478770e-01, 5.52454591e-03],\n",
       "       [3.76951456e-01, 7.65371323e-03],\n",
       "       [3.58949065e-01, 3.37016582e-03],\n",
       "       [2.40575552e-01, 2.60330737e-02],\n",
       "       [3.69176090e-01, 5.45072556e-03],\n",
       "       [3.48089784e-01, 2.38460302e-03],\n",
       "       [3.89782190e-01, 9.49504972e-03],\n",
       "       [4.17433172e-01, 2.41753757e-02],\n",
       "       [3.70938778e-01, 5.17269969e-03],\n",
       "       [3.73421609e-01, 7.21105933e-03],\n",
       "       [3.90776753e-01, 1.03172660e-02],\n",
       "       [3.70682418e-01, 5.50347567e-03],\n",
       "       [3.46068323e-01, 2.25505233e-03],\n",
       "       [4.02548015e-01, 1.54058933e-02],\n",
       "       [3.71346980e-01, 5.19061089e-03],\n",
       "       [3.97108734e-01, 1.24482214e-02],\n",
       "       [3.74618888e-01, 6.43166900e-03],\n",
       "       [3.99123311e-01, 1.37777328e-02],\n",
       "       [3.58671427e-01, 5.03230095e-03],\n",
       "       [3.51899028e-01, 2.80109048e-03],\n",
       "       [3.72548878e-01, 5.35136461e-03],\n",
       "       [3.63030553e-01, 4.91291285e-03],\n",
       "       [3.83786976e-01, 9.03564692e-03],\n",
       "       [3.58960569e-01, 3.32781672e-03],\n",
       "       [3.79547417e-01, 6.58947229e-03],\n",
       "       [3.45617473e-01, 2.37351656e-03],\n",
       "       [2.47373194e-01, 2.89583802e-02],\n",
       "       [2.35604763e-01, 1.90291405e-02],\n",
       "       [3.65150988e-01, 8.84005427e-03],\n",
       "       [4.13584292e-01, 4.53310609e-02],\n",
       "       [3.85538042e-01, 8.57627392e-03],\n",
       "       [4.22896326e-01, 3.04145515e-02],\n",
       "       [3.25121105e-01, 8.13093781e-03],\n",
       "       [3.81931514e-01, 7.36767054e-03],\n",
       "       [3.54196012e-01, 2.98592448e-03],\n",
       "       [3.79058570e-01, 6.41581416e-03],\n",
       "       [3.78501922e-01, 6.29833341e-03],\n",
       "       [3.69893342e-01, 6.63530827e-03],\n",
       "       [3.14854354e-01, 5.39323688e-03],\n",
       "       [3.70118290e-01, 5.20887971e-03],\n",
       "       [3.57215583e-01, 1.28877461e-02],\n",
       "       [3.84564936e-01, 1.85880959e-02],\n",
       "       [3.80602032e-01, 6.68916106e-03],\n",
       "       [2.07555801e-01, 4.35208678e-02],\n",
       "       [3.82021695e-01, 7.43731856e-03],\n",
       "       [3.80733371e-01, 8.86338949e-03],\n",
       "       [3.59394848e-01, 3.31786275e-03],\n",
       "       [3.98030728e-01, 1.27004087e-02],\n",
       "       [3.97988588e-01, 1.25035644e-02],\n",
       "       [3.76552194e-01, 1.34326220e-02],\n",
       "       [3.52287024e-01, 1.30814910e-02],\n",
       "       [3.77820373e-01, 5.73480129e-03],\n",
       "       [3.36626112e-01, 2.30261683e-03],\n",
       "       [3.79914284e-01, 5.62208891e-03],\n",
       "       [3.88107389e-01, 9.07674432e-03],\n",
       "       [3.70920807e-01, 5.18253446e-03],\n",
       "       [3.80746603e-01, 8.30730796e-03],\n",
       "       [3.74363065e-01, 5.74737787e-03],\n",
       "       [3.90882641e-01, 1.08062625e-02],\n",
       "       [2.15885729e-01, 9.63488519e-02],\n",
       "       [3.82938981e-01, 7.38978386e-03],\n",
       "       [4.01647031e-01, 1.79333389e-02],\n",
       "       [3.71441960e-01, 6.48066401e-03],\n",
       "       [3.82894456e-01, 7.17538595e-03],\n",
       "       [3.93702686e-01, 3.14797461e-02],\n",
       "       [3.58827680e-01, 3.15704942e-03],\n",
       "       [3.70217204e-01, 5.10221720e-03],\n",
       "       [3.91249776e-01, 1.00876689e-02],\n",
       "       [3.85351151e-01, 7.87496567e-03],\n",
       "       [3.74863684e-01, 7.73748755e-03],\n",
       "       [3.75310600e-01, 6.00931048e-03],\n",
       "       [3.71859312e-01, 5.87010384e-03],\n",
       "       [3.18548143e-01, 8.65612924e-02],\n",
       "       [3.42440963e-01, 3.80402803e-03],\n",
       "       [3.68298173e-01, 4.64203954e-03],\n",
       "       [3.60043645e-01, 3.58894467e-03],\n",
       "       [3.65182102e-01, 5.35956025e-03],\n",
       "       [4.13211405e-01, 2.08435357e-02],\n",
       "       [3.73765975e-01, 6.32992387e-03],\n",
       "       [3.66617143e-01, 4.43229079e-03],\n",
       "       [3.56939316e-01, 3.23402882e-03],\n",
       "       [3.46489429e-01, 5.95510006e-03],\n",
       "       [9.85428691e-02, 8.58639538e-01],\n",
       "       [3.53929311e-01, 2.95913219e-03],\n",
       "       [3.74717116e-01, 6.05213642e-03],\n",
       "       [3.60331953e-01, 4.06980515e-03],\n",
       "       [3.73975277e-01, 5.67942858e-03],\n",
       "       [2.00716257e-01, 4.33582336e-01],\n",
       "       [1.71829104e-01, 2.82393694e-02],\n",
       "       [3.93057704e-01, 9.73010063e-03],\n",
       "       [3.83254260e-01, 8.90997052e-03],\n",
       "       [3.85570407e-01, 9.40823555e-03],\n",
       "       [3.70287985e-01, 6.07621670e-03],\n",
       "       [3.99509102e-01, 1.27864480e-02],\n",
       "       [3.62932444e-01, 7.05385208e-03],\n",
       "       [3.26345384e-01, 3.90967727e-03],\n",
       "       [4.01364535e-01, 1.30190849e-02],\n",
       "       [3.52874398e-01, 2.90068984e-03],\n",
       "       [4.04023856e-01, 1.60771608e-02],\n",
       "       [3.85170877e-01, 9.26753879e-03],\n",
       "       [3.91490340e-01, 1.04728937e-02],\n",
       "       [3.75300676e-01, 6.00779057e-03],\n",
       "       [3.88188958e-01, 1.09193623e-02],\n",
       "       [3.82542491e-01, 8.16220045e-03],\n",
       "       [3.66793752e-01, 4.10073996e-03],\n",
       "       [3.95533204e-01, 1.12594366e-02],\n",
       "       [3.88928771e-01, 1.01815462e-02],\n",
       "       [3.85780275e-01, 7.88643956e-03],\n",
       "       [3.45164299e-01, 9.63199139e-03],\n",
       "       [3.58093649e-01, 3.34954262e-03],\n",
       "       [3.63061786e-01, 3.79616022e-03],\n",
       "       [3.80160213e-01, 6.85986876e-03],\n",
       "       [2.77545989e-01, 1.28361076e-01],\n",
       "       [3.82323384e-01, 7.22485781e-03],\n",
       "       [3.86091292e-01, 7.87618756e-03],\n",
       "       [3.76125097e-01, 7.44980574e-03],\n",
       "       [4.15734172e-01, 2.23769248e-02],\n",
       "       [3.73933107e-01, 6.13945723e-03],\n",
       "       [3.16331685e-01, 4.77302074e-03],\n",
       "       [3.79466116e-01, 6.66567683e-03],\n",
       "       [2.91379899e-01, 8.92296433e-03],\n",
       "       [3.39046031e-01, 5.01406193e-03],\n",
       "       [4.03124958e-01, 1.82793438e-02],\n",
       "       [3.96689951e-01, 1.18959248e-02],\n",
       "       [3.58438015e-01, 4.39360738e-03],\n",
       "       [3.18937391e-01, 2.52041221e-02],\n",
       "       [1.96838617e-01, 3.42081189e-02],\n",
       "       [3.57908785e-01, 3.29923630e-03],\n",
       "       [3.82191300e-01, 8.34196806e-03],\n",
       "       [3.70495498e-01, 4.76586819e-03],\n",
       "       [3.49113405e-01, 2.37625837e-03],\n",
       "       [3.90406072e-01, 1.08503103e-02],\n",
       "       [3.77372980e-01, 6.86740875e-03],\n",
       "       [3.77000242e-01, 1.36049092e-02],\n",
       "       [3.61438930e-01, 1.39883161e-02],\n",
       "       [2.96980381e-01, 8.25089216e-03],\n",
       "       [3.52703869e-01, 5.35017252e-03],\n",
       "       [3.53926182e-01, 9.93829966e-03],\n",
       "       [3.91132861e-01, 1.00013912e-02],\n",
       "       [3.70435774e-01, 7.66643882e-03],\n",
       "       [3.55056077e-01, 3.11049819e-03],\n",
       "       [3.76883745e-01, 7.91302025e-02],\n",
       "       [3.68124515e-01, 4.94176149e-03],\n",
       "       [4.04043317e-01, 2.75752544e-02],\n",
       "       [4.13333535e-01, 2.27744877e-02],\n",
       "       [3.90248060e-01, 9.82326269e-03],\n",
       "       [3.70949805e-01, 5.38748503e-03],\n",
       "       [3.96842659e-01, 1.28642321e-02],\n",
       "       [3.68224084e-01, 9.76535678e-03],\n",
       "       [3.78272444e-01, 7.15625286e-03],\n",
       "       [2.00605541e-01, 1.02185428e-01],\n",
       "       [3.71870637e-01, 5.48851490e-03],\n",
       "       [3.84228587e-01, 8.59692693e-03],\n",
       "       [2.86276340e-02, 9.52542543e-01],\n",
       "       [4.08792615e-01, 2.32283175e-02],\n",
       "       [3.60388100e-01, 3.65650654e-03],\n",
       "       [3.51726621e-01, 3.18193436e-03],\n",
       "       [4.30650532e-01, 3.90110016e-02],\n",
       "       [3.64421129e-01, 3.74993682e-03],\n",
       "       [4.04078484e-01, 1.53188109e-02],\n",
       "       [3.81239444e-01, 2.26046145e-02],\n",
       "       [1.49011612e-07, 1.00000000e+00],\n",
       "       [8.94165039e-03, 9.99917269e-01],\n",
       "       [1.10050142e-02, 9.99676883e-01],\n",
       "       [4.38570976e-04, 9.99985218e-01],\n",
       "       [0.00000000e+00, 1.00000000e+00],\n",
       "       [6.70218766e-02, 8.23784709e-01],\n",
       "       [6.33627176e-04, 9.99991655e-01],\n",
       "       [2.53697336e-02, 9.95750427e-01],\n",
       "       [2.38857865e-02, 9.65905130e-01],\n",
       "       [2.15381384e-04, 1.00000000e+00],\n",
       "       [7.45141804e-02, 9.86910105e-01],\n",
       "       [1.03348464e-01, 9.54026222e-01],\n",
       "       [5.16474247e-05, 1.00000000e+00],\n",
       "       [6.87987208e-02, 9.90385532e-01],\n",
       "       [1.74948573e-03, 9.99999642e-01],\n",
       "       [9.00924206e-05, 1.00000000e+00],\n",
       "       [7.18086958e-03, 9.98665929e-01],\n",
       "       [0.00000000e+00, 1.00000000e+00],\n",
       "       [8.34465027e-07, 1.00000000e+00],\n",
       "       [4.70393896e-03, 1.00000000e+00],\n",
       "       [5.36441803e-07, 1.00000000e+00],\n",
       "       [7.79032707e-05, 9.99999881e-01],\n",
       "       [1.78565651e-01, 1.36941224e-01],\n",
       "       [2.62045860e-03, 9.99867797e-01],\n",
       "       [5.32388687e-04, 9.99999642e-01],\n",
       "       [8.27252865e-04, 9.99978900e-01],\n",
       "       [2.88698077e-03, 9.99999642e-01],\n",
       "       [4.33623791e-05, 9.99999881e-01],\n",
       "       [8.43122602e-02, 9.97025669e-01],\n",
       "       [8.76188278e-06, 1.00000000e+00],\n",
       "       [2.35250294e-02, 9.98365939e-01],\n",
       "       [6.80685043e-04, 9.99999166e-01],\n",
       "       [2.88259983e-02, 9.12799001e-01],\n",
       "       [2.52574682e-04, 9.99996841e-01],\n",
       "       [4.83691692e-05, 1.00000000e+00],\n",
       "       [8.06927681e-04, 9.99987125e-01],\n",
       "       [2.08616257e-07, 1.00000000e+00],\n",
       "       [5.17994165e-04, 9.99995232e-01],\n",
       "       [2.85846591e-02, 6.54858708e-01],\n",
       "       [9.74056125e-03, 9.99999404e-01],\n",
       "       [6.90626502e-02, 3.97427857e-01],\n",
       "       [4.81706858e-03, 9.98279452e-01],\n",
       "       [1.07201934e-03, 9.99983430e-01],\n",
       "       [1.39474869e-04, 1.00000000e+00],\n",
       "       [9.24254656e-02, 6.53062761e-01],\n",
       "       [8.64267349e-07, 1.00000000e+00],\n",
       "       [1.42712295e-01, 9.99896407e-01],\n",
       "       [6.56545162e-05, 9.99999762e-01],\n",
       "       [9.31528211e-03, 9.98957753e-01],\n",
       "       [2.19109952e-02, 9.99942422e-01],\n",
       "       [2.27987766e-05, 1.00000000e+00],\n",
       "       [7.15255737e-07, 1.00000000e+00],\n",
       "       [5.87007403e-03, 9.90490377e-01],\n",
       "       [8.64267349e-06, 1.00000000e+00],\n",
       "       [2.00867653e-05, 1.00000000e+00],\n",
       "       [7.15255737e-07, 1.00000000e+00],\n",
       "       [2.08616257e-07, 1.00000000e+00],\n",
       "       [3.46302986e-05, 1.00000000e+00],\n",
       "       [3.89302671e-02, 9.87031579e-01],\n",
       "       [2.39014626e-05, 9.99999881e-01],\n",
       "       [1.10566616e-05, 1.00000000e+00],\n",
       "       [6.80342317e-03, 9.99856591e-01],\n",
       "       [2.11596489e-06, 1.00000000e+00],\n",
       "       [1.16858780e-02, 9.99998808e-01],\n",
       "       [6.85453415e-07, 1.00000000e+00],\n",
       "       [1.49011612e-07, 1.00000000e+00],\n",
       "       [1.08698010e-03, 9.99988973e-01],\n",
       "       [3.42428684e-05, 9.99999940e-01],\n",
       "       [4.95314598e-05, 9.99999940e-01],\n",
       "       [6.25848770e-07, 1.00000000e+00],\n",
       "       [6.11543655e-05, 9.99999881e-01],\n",
       "       [2.89916992e-04, 9.99999762e-01],\n",
       "       [3.32397819e-02, 9.99966562e-01],\n",
       "       [1.20361149e-02, 9.99485612e-01],\n",
       "       [6.63855672e-03, 9.95432496e-01],\n",
       "       [9.53674316e-07, 1.00000000e+00],\n",
       "       [8.68588686e-03, 1.00000000e+00],\n",
       "       [2.32458115e-06, 1.00000000e+00],\n",
       "       [6.70552254e-05, 1.00000000e+00],\n",
       "       [1.31130219e-06, 1.00000000e+00],\n",
       "       [1.85973644e-02, 9.98658299e-01],\n",
       "       [4.71293926e-04, 1.00000000e+00],\n",
       "       [7.15404749e-04, 9.99998450e-01],\n",
       "       [5.82754016e-02, 5.68475842e-01],\n",
       "       [6.36832416e-02, 2.28212416e-01],\n",
       "       [0.00000000e+00, 1.00000000e+00],\n",
       "       [1.16318464e-04, 1.00000000e+00],\n",
       "       [0.00000000e+00, 1.00000000e+00],\n",
       "       [1.12271309e-03, 9.99999464e-01],\n",
       "       [2.68220901e-07, 1.00000000e+00],\n",
       "       [3.24249268e-05, 1.00000000e+00],\n",
       "       [2.80141830e-06, 1.00000000e+00],\n",
       "       [2.69527137e-02, 8.97317410e-01],\n",
       "       [8.04471970e-02, 9.82088923e-01],\n",
       "       [1.04546547e-04, 1.00000000e+00],\n",
       "       [8.33759904e-02, 9.98051047e-01],\n",
       "       [2.72709131e-03, 9.98661637e-01],\n",
       "       [2.11596489e-06, 1.00000000e+00],\n",
       "       [3.90410423e-06, 1.00000000e+00],\n",
       "       [6.55651093e-07, 1.00000000e+00],\n",
       "       [2.07044482e-02, 9.98586178e-01],\n",
       "       [8.24809074e-04, 9.99989450e-01],\n",
       "       [1.64508820e-05, 1.00000000e+00],\n",
       "       [3.18288803e-05, 1.00000000e+00],\n",
       "       [6.02304935e-05, 9.99999881e-01],\n",
       "       [6.22570515e-05, 9.99999940e-01],\n",
       "       [0.00000000e+00, 1.00000000e+00],\n",
       "       [8.04662704e-07, 1.00000000e+00],\n",
       "       [1.78813934e-06, 1.00000000e+00],\n",
       "       [1.60840154e-02, 9.46044028e-01],\n",
       "       [9.50694084e-06, 1.00000000e+00],\n",
       "       [1.57144666e-02, 7.37682760e-01],\n",
       "       [3.82900238e-04, 1.00000000e+00],\n",
       "       [2.42936611e-03, 9.99976039e-01],\n",
       "       [8.26725364e-03, 9.92419243e-01],\n",
       "       [4.60963547e-02, 9.91806626e-01],\n",
       "       [8.94069672e-08, 1.00000000e+00],\n",
       "       [9.86310840e-03, 9.99935627e-01],\n",
       "       [3.87430191e-07, 1.00000000e+00],\n",
       "       [3.44485044e-04, 9.99999523e-01],\n",
       "       [0.00000000e+00, 1.00000000e+00],\n",
       "       [3.46587896e-02, 9.99853075e-01],\n",
       "       [8.31484795e-06, 1.00000000e+00],\n",
       "       [8.86904001e-02, 8.57263803e-01],\n",
       "       [1.11243129e-03, 9.99991834e-01],\n",
       "       [1.86860561e-05, 1.00000000e+00],\n",
       "       [5.21585047e-02, 5.89127719e-01],\n",
       "       [7.18832016e-05, 9.99999821e-01],\n",
       "       [4.75026369e-02, 9.99988079e-01],\n",
       "       [2.21431255e-05, 1.00000000e+00],\n",
       "       [7.57157803e-04, 9.99999404e-01],\n",
       "       [1.49011612e-07, 1.00000000e+00],\n",
       "       [4.84794378e-04, 9.99998331e-01],\n",
       "       [1.36196613e-05, 1.00000000e+00],\n",
       "       [5.01337647e-03, 9.87458706e-01],\n",
       "       [1.92454457e-03, 9.99979675e-01],\n",
       "       [2.28631496e-03, 9.99990463e-01],\n",
       "       [1.34670734e-03, 1.00000000e+00],\n",
       "       [4.08962965e-02, 9.99440670e-01],\n",
       "       [2.00867653e-05, 1.00000000e+00],\n",
       "       [2.08616257e-05, 1.00000000e+00],\n",
       "       [1.00138783e-03, 9.99999881e-01],\n",
       "       [1.71810389e-04, 9.99999881e-01],\n",
       "       [0.00000000e+00, 1.00000000e+00],\n",
       "       [3.71217728e-04, 1.00000000e+00],\n",
       "       [4.55864072e-02, 5.17282784e-01],\n",
       "       [1.89468265e-02, 9.91756797e-01],\n",
       "       [6.18398190e-04, 9.99979854e-01],\n",
       "       [1.62435174e-02, 8.23909581e-01],\n",
       "       [2.22769380e-03, 9.98974323e-01],\n",
       "       [0.00000000e+00, 1.00000000e+00],\n",
       "       [0.00000000e+00, 1.00000000e+00],\n",
       "       [0.00000000e+00, 1.00000000e+00],\n",
       "       [2.25710869e-03, 1.00000000e+00],\n",
       "       [4.50015068e-04, 9.99995053e-01],\n",
       "       [2.47725844e-03, 9.99992847e-01],\n",
       "       [8.94069672e-08, 1.00000000e+00],\n",
       "       [1.46090984e-04, 9.99998808e-01],\n",
       "       [8.87300670e-02, 9.45098996e-01],\n",
       "       [6.69986010e-04, 9.99999762e-01],\n",
       "       [2.37438083e-03, 9.96539652e-01],\n",
       "       [3.14316154e-03, 9.99997497e-01],\n",
       "       [4.95919585e-03, 9.97091949e-01],\n",
       "       [1.01617575e-02, 9.99921858e-01],\n",
       "       [3.92198563e-05, 1.00000000e+00],\n",
       "       [1.58429146e-04, 1.00000000e+00],\n",
       "       [6.92421198e-02, 2.47448981e-01],\n",
       "       [4.22000885e-05, 1.00000000e+00],\n",
       "       [6.96861744e-03, 9.99902606e-01],\n",
       "       [5.54382801e-04, 9.99996841e-01],\n",
       "       [2.12669373e-04, 9.99999642e-01],\n",
       "       [0.00000000e+00, 1.00000000e+00],\n",
       "       [6.59522414e-03, 9.99517798e-01],\n",
       "       [5.60581684e-05, 9.99998927e-01],\n",
       "       [5.96046448e-08, 1.00000000e+00],\n",
       "       [5.43594360e-05, 1.00000000e+00],\n",
       "       [3.36480439e-02, 9.40681338e-01],\n",
       "       [1.46022737e-02, 9.99910712e-01],\n",
       "       [9.40024853e-04, 9.99998271e-01],\n",
       "       [1.23530626e-04, 9.99995708e-01],\n",
       "       [2.44677067e-05, 1.00000000e+00],\n",
       "       [4.13060188e-05, 9.99999940e-01],\n",
       "       [2.84481049e-03, 9.99999881e-01],\n",
       "       [9.66855884e-03, 9.99772191e-01],\n",
       "       [2.33173370e-04, 1.00000000e+00],\n",
       "       [2.28157640e-03, 9.99999523e-01],\n",
       "       [1.30213201e-02, 9.94324088e-01],\n",
       "       [3.55386734e-03, 9.99998689e-01],\n",
       "       [3.52859497e-05, 1.00000000e+00],\n",
       "       [6.14091754e-03, 1.00000000e+00],\n",
       "       [9.23871994e-07, 1.00000000e+00],\n",
       "       [3.10146213e-02, 2.23891079e-01],\n",
       "       [7.69495964e-05, 9.99999642e-01],\n",
       "       [1.19209290e-07, 1.00000000e+00],\n",
       "       [5.33103943e-04, 9.99954700e-01],\n",
       "       [6.13629818e-05, 1.00000000e+00],\n",
       "       [8.70227814e-06, 1.00000000e+00],\n",
       "       [6.61463737e-02, 5.06724894e-01],\n",
       "       [1.78813934e-07, 1.00000000e+00],\n",
       "       [2.38418579e-07, 1.00000000e+00],\n",
       "       [2.98023224e-08, 1.00000000e+00],\n",
       "       [5.67987561e-03, 9.95857358e-01],\n",
       "       [7.58767128e-04, 1.00000000e+00],\n",
       "       [8.94069672e-08, 1.00000000e+00],\n",
       "       [2.90497839e-02, 7.91738272e-01],\n",
       "       [4.40657139e-04, 1.00000000e+00],\n",
       "       [2.98023224e-08, 1.00000000e+00],\n",
       "       [2.89916992e-04, 9.99999762e-01],\n",
       "       [1.78813934e-07, 1.00000000e+00],\n",
       "       [2.68220901e-07, 1.00000000e+00],\n",
       "       [8.40425491e-06, 1.00000000e+00],\n",
       "       [9.94577110e-02, 4.91969883e-02],\n",
       "       [1.91345811e-03, 9.99998093e-01],\n",
       "       [7.65232444e-02, 2.05803007e-01],\n",
       "       [1.13248825e-06, 1.00000000e+00],\n",
       "       [1.00938708e-01, 8.80291164e-02],\n",
       "       [4.07695770e-05, 1.00000000e+00],\n",
       "       [5.47170639e-05, 1.00000000e+00],\n",
       "       [4.23192978e-06, 1.00000000e+00],\n",
       "       [1.49816275e-04, 9.99999762e-01],\n",
       "       [7.56978989e-06, 1.00000000e+00],\n",
       "       [8.94337893e-04, 9.99996901e-01],\n",
       "       [4.36156988e-04, 1.00000000e+00],\n",
       "       [2.67792940e-02, 9.94482994e-01],\n",
       "       [7.15523958e-04, 9.99975443e-01],\n",
       "       [9.16719437e-05, 9.99999940e-01],\n",
       "       [2.62260437e-06, 1.00000000e+00],\n",
       "       [2.20537186e-06, 1.00000000e+00],\n",
       "       [0.00000000e+00, 1.00000000e+00],\n",
       "       [7.48753548e-04, 9.99999821e-01],\n",
       "       [0.00000000e+00, 1.00000000e+00],\n",
       "       [4.96135652e-02, 6.29352570e-01],\n",
       "       [1.34193897e-03, 9.99999523e-01],\n",
       "       [2.83122063e-06, 1.00000000e+00],\n",
       "       [3.27825546e-06, 1.00000000e+00],\n",
       "       [1.43721700e-03, 9.99954343e-01],\n",
       "       [7.18235970e-06, 1.00000000e+00],\n",
       "       [1.22770309e-01, 6.16552830e-02],\n",
       "       [3.27825546e-06, 1.00000000e+00],\n",
       "       [5.87791204e-04, 9.99996424e-01],\n",
       "       [1.23530626e-04, 9.99999166e-01],\n",
       "       [3.75509262e-06, 1.00000000e+00],\n",
       "       [1.74943566e-01, 9.95669603e-01],\n",
       "       [1.90734863e-06, 1.00000000e+00],\n",
       "       [2.08067894e-03, 9.99994695e-01],\n",
       "       [1.51088834e-03, 9.99999940e-01],\n",
       "       [4.89521325e-02, 9.56368864e-01],\n",
       "       [3.09406221e-02, 4.38523829e-01],\n",
       "       [3.45408916e-05, 1.00000000e+00],\n",
       "       [2.23081380e-01, 9.99999762e-01]], dtype=float32)"
      ]
     },
     "execution_count": 13,
     "metadata": {},
     "output_type": "execute_result"
    }
   ],
   "source": [
    "pred"
   ]
  },
  {
   "cell_type": "code",
   "execution_count": 14,
   "metadata": {},
   "outputs": [
    {
     "ename": "NameError",
     "evalue": "name 'c1' is not defined",
     "output_type": "error",
     "traceback": [
      "\u001b[1;31m---------------------------------------------------------------------------\u001b[0m",
      "\u001b[1;31mNameError\u001b[0m                                 Traceback (most recent call last)",
      "\u001b[1;32m<ipython-input-14-3ba779efc5b8>\u001b[0m in \u001b[0;36m<module>\u001b[1;34m\u001b[0m\n\u001b[0;32m      1\u001b[0m \u001b[1;31m# Get classes by np.round\u001b[0m\u001b[1;33m\u001b[0m\u001b[1;33m\u001b[0m\u001b[1;33m\u001b[0m\u001b[0m\n\u001b[0;32m      2\u001b[0m \u001b[0mcl\u001b[0m \u001b[1;33m=\u001b[0m \u001b[0mnp\u001b[0m\u001b[1;33m.\u001b[0m\u001b[0maround\u001b[0m\u001b[1;33m(\u001b[0m\u001b[0mpred\u001b[0m\u001b[1;33m)\u001b[0m\u001b[1;33m\u001b[0m\u001b[1;33m\u001b[0m\u001b[0m\n\u001b[1;32m----> 3\u001b[1;33m \u001b[0mc1\u001b[0m\u001b[1;33m\u001b[0m\u001b[1;33m\u001b[0m\u001b[0m\n\u001b[0m",
      "\u001b[1;31mNameError\u001b[0m: name 'c1' is not defined"
     ]
    }
   ],
   "source": [
    "# Get classes by np.round\n",
    "cl = np.around(pred)\n",
    "c1"
   ]
  },
  {
   "cell_type": "code",
   "execution_count": 15,
   "metadata": {},
   "outputs": [
    {
     "data": {
      "text/plain": [
       "['negative\\\\19751.jpg',\n",
       " 'negative\\\\19752.jpg',\n",
       " 'negative\\\\19753.jpg',\n",
       " 'negative\\\\19754.jpg',\n",
       " 'negative\\\\19755.jpg',\n",
       " 'negative\\\\19756.jpg',\n",
       " 'negative\\\\19757.jpg',\n",
       " 'negative\\\\19758.jpg',\n",
       " 'negative\\\\19759.jpg',\n",
       " 'negative\\\\19760.jpg',\n",
       " 'negative\\\\19761.jpg',\n",
       " 'negative\\\\19762.jpg',\n",
       " 'negative\\\\19763.jpg',\n",
       " 'negative\\\\19764.jpg',\n",
       " 'negative\\\\19765.jpg',\n",
       " 'negative\\\\19766.jpg',\n",
       " 'negative\\\\19767.jpg',\n",
       " 'negative\\\\19768.jpg',\n",
       " 'negative\\\\19769.jpg',\n",
       " 'negative\\\\19770.jpg',\n",
       " 'negative\\\\19771.jpg',\n",
       " 'negative\\\\19772.jpg',\n",
       " 'negative\\\\19773.jpg',\n",
       " 'negative\\\\19774.jpg',\n",
       " 'negative\\\\19775.jpg',\n",
       " 'negative\\\\19776.jpg',\n",
       " 'negative\\\\19777.jpg',\n",
       " 'negative\\\\19778.jpg',\n",
       " 'negative\\\\19779.jpg',\n",
       " 'negative\\\\19780.jpg',\n",
       " 'negative\\\\19781.jpg',\n",
       " 'negative\\\\19782.jpg',\n",
       " 'negative\\\\19783.jpg',\n",
       " 'negative\\\\19784.jpg',\n",
       " 'negative\\\\19785.jpg',\n",
       " 'negative\\\\19786.jpg',\n",
       " 'negative\\\\19787.jpg',\n",
       " 'negative\\\\19788.jpg',\n",
       " 'negative\\\\19789.jpg',\n",
       " 'negative\\\\19790.jpg',\n",
       " 'negative\\\\19791.jpg',\n",
       " 'negative\\\\19792.jpg',\n",
       " 'negative\\\\19793.jpg',\n",
       " 'negative\\\\19794.jpg',\n",
       " 'negative\\\\19795.jpg',\n",
       " 'negative\\\\19796.jpg',\n",
       " 'negative\\\\19797.jpg',\n",
       " 'negative\\\\19798.jpg',\n",
       " 'negative\\\\19799.jpg',\n",
       " 'negative\\\\19800.jpg',\n",
       " 'negative\\\\19801.jpg',\n",
       " 'negative\\\\19802.jpg',\n",
       " 'negative\\\\19803.jpg',\n",
       " 'negative\\\\19804.jpg',\n",
       " 'negative\\\\19805.jpg',\n",
       " 'negative\\\\19806.jpg',\n",
       " 'negative\\\\19807.jpg',\n",
       " 'negative\\\\19808.jpg',\n",
       " 'negative\\\\19809.jpg',\n",
       " 'negative\\\\19810.jpg',\n",
       " 'negative\\\\19811.jpg',\n",
       " 'negative\\\\19812.jpg',\n",
       " 'negative\\\\19813.jpg',\n",
       " 'negative\\\\19814.jpg',\n",
       " 'negative\\\\19815.jpg',\n",
       " 'negative\\\\19816.jpg',\n",
       " 'negative\\\\19817.jpg',\n",
       " 'negative\\\\19818.jpg',\n",
       " 'negative\\\\19819.jpg',\n",
       " 'negative\\\\19820.jpg',\n",
       " 'negative\\\\19821.jpg',\n",
       " 'negative\\\\19822.jpg',\n",
       " 'negative\\\\19823.jpg',\n",
       " 'negative\\\\19824.jpg',\n",
       " 'negative\\\\19825.jpg',\n",
       " 'negative\\\\19826.jpg',\n",
       " 'negative\\\\19827.jpg',\n",
       " 'negative\\\\19828.jpg',\n",
       " 'negative\\\\19829.jpg',\n",
       " 'negative\\\\19830.jpg',\n",
       " 'negative\\\\19831.jpg',\n",
       " 'negative\\\\19832.jpg',\n",
       " 'negative\\\\19833.jpg',\n",
       " 'negative\\\\19834.jpg',\n",
       " 'negative\\\\19835.jpg',\n",
       " 'negative\\\\19836.jpg',\n",
       " 'negative\\\\19837.jpg',\n",
       " 'negative\\\\19838.jpg',\n",
       " 'negative\\\\19839.jpg',\n",
       " 'negative\\\\19840.jpg',\n",
       " 'negative\\\\19841.jpg',\n",
       " 'negative\\\\19842.jpg',\n",
       " 'negative\\\\19843.jpg',\n",
       " 'negative\\\\19844.jpg',\n",
       " 'negative\\\\19845.jpg',\n",
       " 'negative\\\\19846.jpg',\n",
       " 'negative\\\\19847.jpg',\n",
       " 'negative\\\\19848.jpg',\n",
       " 'negative\\\\19849.jpg',\n",
       " 'negative\\\\19850.jpg',\n",
       " 'negative\\\\19851.jpg',\n",
       " 'negative\\\\19852.jpg',\n",
       " 'negative\\\\19853.jpg',\n",
       " 'negative\\\\19854.jpg',\n",
       " 'negative\\\\19855.jpg',\n",
       " 'negative\\\\19856.jpg',\n",
       " 'negative\\\\19857.jpg',\n",
       " 'negative\\\\19858.jpg',\n",
       " 'negative\\\\19859.jpg',\n",
       " 'negative\\\\19860.jpg',\n",
       " 'negative\\\\19861.jpg',\n",
       " 'negative\\\\19862.jpg',\n",
       " 'negative\\\\19863.jpg',\n",
       " 'negative\\\\19864.jpg',\n",
       " 'negative\\\\19865.jpg',\n",
       " 'negative\\\\19866.jpg',\n",
       " 'negative\\\\19867.jpg',\n",
       " 'negative\\\\19868.jpg',\n",
       " 'negative\\\\19869.jpg',\n",
       " 'negative\\\\19870.jpg',\n",
       " 'negative\\\\19871.jpg',\n",
       " 'negative\\\\19872.jpg',\n",
       " 'negative\\\\19873.jpg',\n",
       " 'negative\\\\19874.jpg',\n",
       " 'negative\\\\19875.jpg',\n",
       " 'negative\\\\19876.jpg',\n",
       " 'negative\\\\19877.jpg',\n",
       " 'negative\\\\19878.jpg',\n",
       " 'negative\\\\19879.jpg',\n",
       " 'negative\\\\19880.jpg',\n",
       " 'negative\\\\19881.jpg',\n",
       " 'negative\\\\19882.jpg',\n",
       " 'negative\\\\19883.jpg',\n",
       " 'negative\\\\19884.jpg',\n",
       " 'negative\\\\19885.jpg',\n",
       " 'negative\\\\19886.jpg',\n",
       " 'negative\\\\19887.jpg',\n",
       " 'negative\\\\19888.jpg',\n",
       " 'negative\\\\19889.jpg',\n",
       " 'negative\\\\19890.jpg',\n",
       " 'negative\\\\19891.jpg',\n",
       " 'negative\\\\19892.jpg',\n",
       " 'negative\\\\19893.jpg',\n",
       " 'negative\\\\19894.jpg',\n",
       " 'negative\\\\19895.jpg',\n",
       " 'negative\\\\19896.jpg',\n",
       " 'negative\\\\19897.jpg',\n",
       " 'negative\\\\19898.jpg',\n",
       " 'negative\\\\19899.jpg',\n",
       " 'negative\\\\19900.jpg',\n",
       " 'negative\\\\19901.jpg',\n",
       " 'negative\\\\19902.jpg',\n",
       " 'negative\\\\19903.jpg',\n",
       " 'negative\\\\19904.jpg',\n",
       " 'negative\\\\19905.jpg',\n",
       " 'negative\\\\19906.jpg',\n",
       " 'negative\\\\19907.jpg',\n",
       " 'negative\\\\19908.jpg',\n",
       " 'negative\\\\19909.jpg',\n",
       " 'negative\\\\19910.jpg',\n",
       " 'negative\\\\19911.jpg',\n",
       " 'negative\\\\19912.jpg',\n",
       " 'negative\\\\19913.jpg',\n",
       " 'negative\\\\19914.jpg',\n",
       " 'negative\\\\19915.jpg',\n",
       " 'negative\\\\19916.jpg',\n",
       " 'negative\\\\19917.jpg',\n",
       " 'negative\\\\19918.jpg',\n",
       " 'negative\\\\19919.jpg',\n",
       " 'negative\\\\19920.jpg',\n",
       " 'negative\\\\19921.jpg',\n",
       " 'negative\\\\19922.jpg',\n",
       " 'negative\\\\19923.jpg',\n",
       " 'negative\\\\19924.jpg',\n",
       " 'negative\\\\19925.jpg',\n",
       " 'negative\\\\19926.jpg',\n",
       " 'negative\\\\19927.jpg',\n",
       " 'negative\\\\19928.jpg',\n",
       " 'negative\\\\19929.jpg',\n",
       " 'negative\\\\19930.jpg',\n",
       " 'negative\\\\19931.jpg',\n",
       " 'negative\\\\19932.jpg',\n",
       " 'negative\\\\19933.jpg',\n",
       " 'negative\\\\19934.jpg',\n",
       " 'negative\\\\19935.jpg',\n",
       " 'negative\\\\19936.jpg',\n",
       " 'negative\\\\19937.jpg',\n",
       " 'negative\\\\19938.jpg',\n",
       " 'negative\\\\19939.jpg',\n",
       " 'negative\\\\19940.jpg',\n",
       " 'negative\\\\19941.jpg',\n",
       " 'negative\\\\19942.jpg',\n",
       " 'negative\\\\19943.jpg',\n",
       " 'negative\\\\19944.jpg',\n",
       " 'negative\\\\19945.jpg',\n",
       " 'negative\\\\19946.jpg',\n",
       " 'negative\\\\19947.jpg',\n",
       " 'negative\\\\19948.jpg',\n",
       " 'negative\\\\19949.jpg',\n",
       " 'negative\\\\19950.jpg',\n",
       " 'negative\\\\19951.jpg',\n",
       " 'negative\\\\19952.jpg',\n",
       " 'negative\\\\19953.jpg',\n",
       " 'negative\\\\19954.jpg',\n",
       " 'negative\\\\19955.jpg',\n",
       " 'negative\\\\19956.jpg',\n",
       " 'negative\\\\19957.jpg',\n",
       " 'negative\\\\19958.jpg',\n",
       " 'negative\\\\19959.jpg',\n",
       " 'negative\\\\19960.jpg',\n",
       " 'negative\\\\19961.jpg',\n",
       " 'negative\\\\19962.jpg',\n",
       " 'negative\\\\19963.jpg',\n",
       " 'negative\\\\19964.jpg',\n",
       " 'negative\\\\19965.jpg',\n",
       " 'negative\\\\19966.jpg',\n",
       " 'negative\\\\19967.jpg',\n",
       " 'negative\\\\19968.jpg',\n",
       " 'negative\\\\19969.jpg',\n",
       " 'negative\\\\19970.jpg',\n",
       " 'negative\\\\19971.jpg',\n",
       " 'negative\\\\19972.jpg',\n",
       " 'negative\\\\19973.jpg',\n",
       " 'negative\\\\19974.jpg',\n",
       " 'negative\\\\19975.jpg',\n",
       " 'negative\\\\19976.jpg',\n",
       " 'negative\\\\19977.jpg',\n",
       " 'negative\\\\19978.jpg',\n",
       " 'negative\\\\19979.jpg',\n",
       " 'negative\\\\19980.jpg',\n",
       " 'negative\\\\19981.jpg',\n",
       " 'negative\\\\19982.jpg',\n",
       " 'negative\\\\19983.jpg',\n",
       " 'negative\\\\19984.jpg',\n",
       " 'negative\\\\19985.jpg',\n",
       " 'negative\\\\19986.jpg',\n",
       " 'negative\\\\19987.jpg',\n",
       " 'negative\\\\19988.jpg',\n",
       " 'negative\\\\19989.jpg',\n",
       " 'negative\\\\19990.jpg',\n",
       " 'negative\\\\19991.jpg',\n",
       " 'negative\\\\19992.jpg',\n",
       " 'negative\\\\19993.jpg',\n",
       " 'negative\\\\19994.jpg',\n",
       " 'negative\\\\19995.jpg',\n",
       " 'negative\\\\19996.jpg',\n",
       " 'negative\\\\19997.jpg',\n",
       " 'negative\\\\19998.jpg',\n",
       " 'negative\\\\19999.jpg',\n",
       " 'negative\\\\20000.jpg',\n",
       " 'positive\\\\19751.jpg',\n",
       " 'positive\\\\19752.jpg',\n",
       " 'positive\\\\19753.jpg',\n",
       " 'positive\\\\19754.jpg',\n",
       " 'positive\\\\19755.jpg',\n",
       " 'positive\\\\19756.jpg',\n",
       " 'positive\\\\19757.jpg',\n",
       " 'positive\\\\19758.jpg',\n",
       " 'positive\\\\19759.jpg',\n",
       " 'positive\\\\19760.jpg',\n",
       " 'positive\\\\19761.jpg',\n",
       " 'positive\\\\19762.jpg',\n",
       " 'positive\\\\19763.jpg',\n",
       " 'positive\\\\19764.jpg',\n",
       " 'positive\\\\19765.jpg',\n",
       " 'positive\\\\19766.jpg',\n",
       " 'positive\\\\19767.jpg',\n",
       " 'positive\\\\19768.jpg',\n",
       " 'positive\\\\19769.jpg',\n",
       " 'positive\\\\19770.jpg',\n",
       " 'positive\\\\19771.jpg',\n",
       " 'positive\\\\19772.jpg',\n",
       " 'positive\\\\19773.jpg',\n",
       " 'positive\\\\19774.jpg',\n",
       " 'positive\\\\19775.jpg',\n",
       " 'positive\\\\19776.jpg',\n",
       " 'positive\\\\19777.jpg',\n",
       " 'positive\\\\19778.jpg',\n",
       " 'positive\\\\19779.jpg',\n",
       " 'positive\\\\19780.jpg',\n",
       " 'positive\\\\19781.jpg',\n",
       " 'positive\\\\19782.jpg',\n",
       " 'positive\\\\19783.jpg',\n",
       " 'positive\\\\19784.jpg',\n",
       " 'positive\\\\19785.jpg',\n",
       " 'positive\\\\19786.jpg',\n",
       " 'positive\\\\19787.jpg',\n",
       " 'positive\\\\19788.jpg',\n",
       " 'positive\\\\19789.jpg',\n",
       " 'positive\\\\19790.jpg',\n",
       " 'positive\\\\19791.jpg',\n",
       " 'positive\\\\19792.jpg',\n",
       " 'positive\\\\19793.jpg',\n",
       " 'positive\\\\19794.jpg',\n",
       " 'positive\\\\19795.jpg',\n",
       " 'positive\\\\19796.jpg',\n",
       " 'positive\\\\19797.jpg',\n",
       " 'positive\\\\19798.jpg',\n",
       " 'positive\\\\19799.jpg',\n",
       " 'positive\\\\19800.jpg',\n",
       " 'positive\\\\19801.jpg',\n",
       " 'positive\\\\19802.jpg',\n",
       " 'positive\\\\19803.jpg',\n",
       " 'positive\\\\19804.jpg',\n",
       " 'positive\\\\19805.jpg',\n",
       " 'positive\\\\19806.jpg',\n",
       " 'positive\\\\19807.jpg',\n",
       " 'positive\\\\19808.jpg',\n",
       " 'positive\\\\19809.jpg',\n",
       " 'positive\\\\19810.jpg',\n",
       " 'positive\\\\19811.jpg',\n",
       " 'positive\\\\19812.jpg',\n",
       " 'positive\\\\19813.jpg',\n",
       " 'positive\\\\19814.jpg',\n",
       " 'positive\\\\19815.jpg',\n",
       " 'positive\\\\19816.jpg',\n",
       " 'positive\\\\19817.jpg',\n",
       " 'positive\\\\19818.jpg',\n",
       " 'positive\\\\19819.jpg',\n",
       " 'positive\\\\19820.jpg',\n",
       " 'positive\\\\19821.jpg',\n",
       " 'positive\\\\19822.jpg',\n",
       " 'positive\\\\19823.jpg',\n",
       " 'positive\\\\19824.jpg',\n",
       " 'positive\\\\19825.jpg',\n",
       " 'positive\\\\19826.jpg',\n",
       " 'positive\\\\19827.jpg',\n",
       " 'positive\\\\19828.jpg',\n",
       " 'positive\\\\19829.jpg',\n",
       " 'positive\\\\19830.jpg',\n",
       " 'positive\\\\19831.jpg',\n",
       " 'positive\\\\19832.jpg',\n",
       " 'positive\\\\19833.jpg',\n",
       " 'positive\\\\19834.jpg',\n",
       " 'positive\\\\19835.jpg',\n",
       " 'positive\\\\19836.jpg',\n",
       " 'positive\\\\19837.jpg',\n",
       " 'positive\\\\19838.jpg',\n",
       " 'positive\\\\19839.jpg',\n",
       " 'positive\\\\19840.jpg',\n",
       " 'positive\\\\19841.jpg',\n",
       " 'positive\\\\19842.jpg',\n",
       " 'positive\\\\19843.jpg',\n",
       " 'positive\\\\19844.jpg',\n",
       " 'positive\\\\19845.jpg',\n",
       " 'positive\\\\19846.jpg',\n",
       " 'positive\\\\19847.jpg',\n",
       " 'positive\\\\19848.jpg',\n",
       " 'positive\\\\19849.jpg',\n",
       " 'positive\\\\19850.jpg',\n",
       " 'positive\\\\19851.jpg',\n",
       " 'positive\\\\19852.jpg',\n",
       " 'positive\\\\19853.jpg',\n",
       " 'positive\\\\19854.jpg',\n",
       " 'positive\\\\19855.jpg',\n",
       " 'positive\\\\19856.jpg',\n",
       " 'positive\\\\19857.jpg',\n",
       " 'positive\\\\19858.jpg',\n",
       " 'positive\\\\19859.jpg',\n",
       " 'positive\\\\19860.jpg',\n",
       " 'positive\\\\19861.jpg',\n",
       " 'positive\\\\19862.jpg',\n",
       " 'positive\\\\19863.jpg',\n",
       " 'positive\\\\19864.jpg',\n",
       " 'positive\\\\19865.jpg',\n",
       " 'positive\\\\19866.jpg',\n",
       " 'positive\\\\19867.jpg',\n",
       " 'positive\\\\19868.jpg',\n",
       " 'positive\\\\19869.jpg',\n",
       " 'positive\\\\19870.jpg',\n",
       " 'positive\\\\19871.jpg',\n",
       " 'positive\\\\19872.jpg',\n",
       " 'positive\\\\19873.jpg',\n",
       " 'positive\\\\19874.jpg',\n",
       " 'positive\\\\19875.jpg',\n",
       " 'positive\\\\19876.jpg',\n",
       " 'positive\\\\19877.jpg',\n",
       " 'positive\\\\19878.jpg',\n",
       " 'positive\\\\19879.jpg',\n",
       " 'positive\\\\19880.jpg',\n",
       " 'positive\\\\19881.jpg',\n",
       " 'positive\\\\19882.jpg',\n",
       " 'positive\\\\19883.jpg',\n",
       " 'positive\\\\19884.jpg',\n",
       " 'positive\\\\19885.jpg',\n",
       " 'positive\\\\19886.jpg',\n",
       " 'positive\\\\19887.jpg',\n",
       " 'positive\\\\19888.jpg',\n",
       " 'positive\\\\19889.jpg',\n",
       " 'positive\\\\19890.jpg',\n",
       " 'positive\\\\19891.jpg',\n",
       " 'positive\\\\19892.jpg',\n",
       " 'positive\\\\19893.jpg',\n",
       " 'positive\\\\19894.jpg',\n",
       " 'positive\\\\19895.jpg',\n",
       " 'positive\\\\19896.jpg',\n",
       " 'positive\\\\19897.jpg',\n",
       " 'positive\\\\19898.jpg',\n",
       " 'positive\\\\19899.jpg',\n",
       " 'positive\\\\19900.jpg',\n",
       " 'positive\\\\19901.jpg',\n",
       " 'positive\\\\19902.jpg',\n",
       " 'positive\\\\19903.jpg',\n",
       " 'positive\\\\19904.jpg',\n",
       " 'positive\\\\19905.jpg',\n",
       " 'positive\\\\19906.jpg',\n",
       " 'positive\\\\19907.jpg',\n",
       " 'positive\\\\19908.jpg',\n",
       " 'positive\\\\19909.jpg',\n",
       " 'positive\\\\19910.jpg',\n",
       " 'positive\\\\19911.jpg',\n",
       " 'positive\\\\19912.jpg',\n",
       " 'positive\\\\19913.jpg',\n",
       " 'positive\\\\19914.jpg',\n",
       " 'positive\\\\19915.jpg',\n",
       " 'positive\\\\19916.jpg',\n",
       " 'positive\\\\19917.jpg',\n",
       " 'positive\\\\19918.jpg',\n",
       " 'positive\\\\19919.jpg',\n",
       " 'positive\\\\19920.jpg',\n",
       " 'positive\\\\19921.jpg',\n",
       " 'positive\\\\19922.jpg',\n",
       " 'positive\\\\19923.jpg',\n",
       " 'positive\\\\19924.jpg',\n",
       " 'positive\\\\19925.jpg',\n",
       " 'positive\\\\19926.jpg',\n",
       " 'positive\\\\19927.jpg',\n",
       " 'positive\\\\19928.jpg',\n",
       " 'positive\\\\19929.jpg',\n",
       " 'positive\\\\19930.jpg',\n",
       " 'positive\\\\19931.jpg',\n",
       " 'positive\\\\19932.jpg',\n",
       " 'positive\\\\19933.jpg',\n",
       " 'positive\\\\19934.jpg',\n",
       " 'positive\\\\19935.jpg',\n",
       " 'positive\\\\19936.jpg',\n",
       " 'positive\\\\19937.jpg',\n",
       " 'positive\\\\19938.jpg',\n",
       " 'positive\\\\19939.jpg',\n",
       " 'positive\\\\19940.jpg',\n",
       " 'positive\\\\19941.jpg',\n",
       " 'positive\\\\19942.jpg',\n",
       " 'positive\\\\19943.jpg',\n",
       " 'positive\\\\19944.jpg',\n",
       " 'positive\\\\19945.jpg',\n",
       " 'positive\\\\19946.jpg',\n",
       " 'positive\\\\19947.jpg',\n",
       " 'positive\\\\19948.jpg',\n",
       " 'positive\\\\19949.jpg',\n",
       " 'positive\\\\19950.jpg',\n",
       " 'positive\\\\19951.jpg',\n",
       " 'positive\\\\19952.jpg',\n",
       " 'positive\\\\19953.jpg',\n",
       " 'positive\\\\19954.jpg',\n",
       " 'positive\\\\19955.jpg',\n",
       " 'positive\\\\19956.jpg',\n",
       " 'positive\\\\19957.jpg',\n",
       " 'positive\\\\19958.jpg',\n",
       " 'positive\\\\19959.jpg',\n",
       " 'positive\\\\19960.jpg',\n",
       " 'positive\\\\19961.jpg',\n",
       " 'positive\\\\19962.jpg',\n",
       " 'positive\\\\19963.jpg',\n",
       " 'positive\\\\19964.jpg',\n",
       " 'positive\\\\19965.jpg',\n",
       " 'positive\\\\19966.jpg',\n",
       " 'positive\\\\19967.jpg',\n",
       " 'positive\\\\19968.jpg',\n",
       " 'positive\\\\19969.jpg',\n",
       " 'positive\\\\19970.jpg',\n",
       " 'positive\\\\19971.jpg',\n",
       " 'positive\\\\19972.jpg',\n",
       " 'positive\\\\19973.jpg',\n",
       " 'positive\\\\19974.jpg',\n",
       " 'positive\\\\19975.jpg',\n",
       " 'positive\\\\19976.jpg',\n",
       " 'positive\\\\19977.jpg',\n",
       " 'positive\\\\19978.jpg',\n",
       " 'positive\\\\19979.jpg',\n",
       " 'positive\\\\19980.jpg',\n",
       " 'positive\\\\19981.jpg',\n",
       " 'positive\\\\19982.jpg',\n",
       " 'positive\\\\19983.jpg',\n",
       " 'positive\\\\19984.jpg',\n",
       " 'positive\\\\19985.jpg',\n",
       " 'positive\\\\19986.jpg',\n",
       " 'positive\\\\19987.jpg',\n",
       " 'positive\\\\19988.jpg',\n",
       " 'positive\\\\19989.jpg',\n",
       " 'positive\\\\19990.jpg',\n",
       " 'positive\\\\19991.jpg',\n",
       " 'positive\\\\19992.jpg',\n",
       " 'positive\\\\19993.jpg',\n",
       " 'positive\\\\19994.jpg',\n",
       " 'positive\\\\19995.jpg',\n",
       " 'positive\\\\19996.jpg',\n",
       " 'positive\\\\19997.jpg',\n",
       " 'positive\\\\19998.jpg',\n",
       " 'positive\\\\19999.jpg',\n",
       " 'positive\\\\20000.jpg']"
      ]
     },
     "execution_count": 15,
     "metadata": {},
     "output_type": "execute_result"
    }
   ],
   "source": [
    "filenames=test_generator.filenames\n",
    "filenames"
   ]
  },
  {
   "cell_type": "code",
   "execution_count": 16,
   "metadata": {},
   "outputs": [],
   "source": [
    "results = pd.DataFrame({\"file\": filenames,\"prediction\":pred[:,0],\"class\":cl[:,0]})"
   ]
  },
  {
   "cell_type": "code",
   "execution_count": 17,
   "metadata": {},
   "outputs": [
    {
     "data": {
      "text/html": [
       "<div>\n",
       "<style scoped>\n",
       "    .dataframe tbody tr th:only-of-type {\n",
       "        vertical-align: middle;\n",
       "    }\n",
       "\n",
       "    .dataframe tbody tr th {\n",
       "        vertical-align: top;\n",
       "    }\n",
       "\n",
       "    .dataframe thead th {\n",
       "        text-align: right;\n",
       "    }\n",
       "</style>\n",
       "<table border=\"1\" class=\"dataframe\">\n",
       "  <thead>\n",
       "    <tr style=\"text-align: right;\">\n",
       "      <th></th>\n",
       "      <th>file</th>\n",
       "      <th>prediction</th>\n",
       "      <th>class</th>\n",
       "    </tr>\n",
       "  </thead>\n",
       "  <tbody>\n",
       "    <tr>\n",
       "      <th>0</th>\n",
       "      <td>negative\\19751.jpg</td>\n",
       "      <td>0.345649</td>\n",
       "      <td>0.0</td>\n",
       "    </tr>\n",
       "    <tr>\n",
       "      <th>1</th>\n",
       "      <td>negative\\19752.jpg</td>\n",
       "      <td>0.358893</td>\n",
       "      <td>0.0</td>\n",
       "    </tr>\n",
       "    <tr>\n",
       "      <th>2</th>\n",
       "      <td>negative\\19753.jpg</td>\n",
       "      <td>0.354530</td>\n",
       "      <td>0.0</td>\n",
       "    </tr>\n",
       "    <tr>\n",
       "      <th>3</th>\n",
       "      <td>negative\\19754.jpg</td>\n",
       "      <td>0.342454</td>\n",
       "      <td>0.0</td>\n",
       "    </tr>\n",
       "    <tr>\n",
       "      <th>4</th>\n",
       "      <td>negative\\19755.jpg</td>\n",
       "      <td>0.375858</td>\n",
       "      <td>0.0</td>\n",
       "    </tr>\n",
       "  </tbody>\n",
       "</table>\n",
       "</div>"
      ],
      "text/plain": [
       "                 file  prediction  class\n",
       "0  negative\\19751.jpg    0.345649    0.0\n",
       "1  negative\\19752.jpg    0.358893    0.0\n",
       "2  negative\\19753.jpg    0.354530    0.0\n",
       "3  negative\\19754.jpg    0.342454    0.0\n",
       "4  negative\\19755.jpg    0.375858    0.0"
      ]
     },
     "execution_count": 17,
     "metadata": {},
     "output_type": "execute_result"
    }
   ],
   "source": [
    "results[0:5]"
   ]
  },
  {
   "cell_type": "code",
   "execution_count": null,
   "metadata": {},
   "outputs": [],
   "source": []
  },
  {
   "cell_type": "markdown",
   "metadata": {},
   "source": [
    "### Method 2"
   ]
  },
  {
   "cell_type": "code",
   "execution_count": 18,
   "metadata": {},
   "outputs": [],
   "source": [
    "from keras.preprocessing import image"
   ]
  },
  {
   "cell_type": "code",
   "execution_count": 19,
   "metadata": {},
   "outputs": [
    {
     "name": "stdout",
     "output_type": "stream",
     "text": [
      "[[0. 1.]]\n",
      "positive\n"
     ]
    },
    {
     "data": {
      "image/png": "[encoded data removed]",
      "text/plain": [
       "<Figure size 432x288 with 1 Axes>"
      ]
     },
     "metadata": {
      "needs_background": "light"
     },
     "output_type": "display_data"
    }
   ],
   "source": [
    "img1 = image.load_img(\"19751.jpg\",target_size=(224,224))\n",
    "\n",
    "img1 = np.asarray(img1)\n",
    "plt.imshow(img1)\n",
    "img1 = np.expand_dims(img1, axis=0)\n",
    "\n",
    "output1 = cnn.predict(img1)\n",
    "print(output1)\n",
    "\n",
    "if output1[0][1] == 0:\n",
    "    print(\"negative\")\n",
    "else:\n",
    "    print('positive')"
   ]
  },
  {
   "cell_type": "code",
   "execution_count": 20,
   "metadata": {},
   "outputs": [
    {
     "name": "stdout",
     "output_type": "stream",
     "text": [
      "[[0. 0.]]\n",
      "negative\n"
     ]
    },
    {
     "data": {
      "image/png": "[encoded data removed]",
      "text/plain": [
       "<Figure size 432x288 with 1 Axes>"
      ]
     },
     "metadata": {
      "needs_background": "light"
     },
     "output_type": "display_data"
    }
   ],
   "source": [
    "img2 = image.load_img(\"19752.jpg\",target_size=(224,224))\n",
    "\n",
    "img2 = np.asarray(img2)\n",
    "plt.imshow(img2)\n",
    "img2 = np.expand_dims(img2, axis=0)\n",
    "\n",
    "output2 = cnn.predict(img2)\n",
    "print(output2)\n",
    "\n",
    "if output2[0][1] == 0:\n",
    "    print(\"negative\")\n",
    "else:\n",
    "    print('positive')"
   ]
  },
  {
   "cell_type": "code",
   "execution_count": 21,
   "metadata": {},
   "outputs": [
    {
     "name": "stdout",
     "output_type": "stream",
     "text": [
      "[[0. 0.]]\n",
      "negative\n"
     ]
    },
    {
     "data": {
      "image/png": "[encoded data removed]",
      "text/plain": [
       "<Figure size 432x288 with 1 Axes>"
      ]
     },
     "metadata": {
      "needs_background": "light"
     },
     "output_type": "display_data"
    }
   ],
   "source": [
    "img3 = image.load_img(\"19753.jpg\",target_size=(224,224))\n",
    "\n",
    "img3 = np.asarray(img3)\n",
    "plt.imshow(img3)\n",
    "img3 = np.expand_dims(img3, axis=0)\n",
    "\n",
    "output3 = cnn.predict(img3)\n",
    "print(output3)\n",
    "\n",
    "if output3[0][1] == 0:\n",
    "    print(\"negative\")\n",
    "else:\n",
    "    print('positive')"
   ]
  },
  {
   "cell_type": "code",
   "execution_count": 22,
   "metadata": {},
   "outputs": [
    {
     "name": "stdout",
     "output_type": "stream",
     "text": [
      "[[0. 1.]]\n",
      "positive\n"
     ]
    },
    {
     "data": {
      "image/png": "[encoded data removed]",
      "text/plain": [
       "<Figure size 432x288 with 1 Axes>"
      ]
     },
     "metadata": {
      "needs_background": "light"
     },
     "output_type": "display_data"
    }
   ],
   "source": [
    "img4 = image.load_img(\"19754.jpg\",target_size=(224,224))\n",
    "\n",
    "img4 = np.asarray(img4)\n",
    "plt.imshow(img4)\n",
    "img4 = np.expand_dims(img4, axis=0)\n",
    "\n",
    "output4 = cnn.predict(img4)\n",
    "print(output4)\n",
    "\n",
    "if output4[0][1] == 0:\n",
    "    print(\"negative\")\n",
    "else:\n",
    "    print('positive')"
   ]
  },
  {
   "cell_type": "code",
   "execution_count": 23,
   "metadata": {},
   "outputs": [
    {
     "name": "stdout",
     "output_type": "stream",
     "text": [
      "[[0. 0.]]\n",
      "negative\n"
     ]
    },
    {
     "data": {
      "image/png": "[encoded data removed]",
      "text/plain": [
       "<Figure size 432x288 with 1 Axes>"
      ]
     },
     "metadata": {
      "needs_background": "light"
     },
     "output_type": "display_data"
    }
   ],
   "source": [
    "img5 = image.load_img(\"19755.jpg\",target_size=(224,224))\n",
    "\n",
    "img5 = np.asarray(img5)\n",
    "plt.imshow(img5)\n",
    "img5 = np.expand_dims(img5, axis=0)\n",
    "\n",
    "output5 = cnn.predict(img5)\n",
    "print(output5)\n",
    "\n",
    "if output5[0][1] == 0:\n",
    "    print(\"negative\")\n",
    "else:\n",
    "    print('positive')"
   ]
  },
  {
   "cell_type": "markdown",
   "metadata": {},
   "source": [
    "  "
   ]
  },
  {
   "cell_type": "markdown",
   "metadata": {
    "button": false,
    "new_sheet": false,
    "run_control": {
     "read_only": false
    }
   },
   "source": [
    "### Thank you for completing this lab!\n",
    "\n",
    "This notebook was created by Alex Aklson."
   ]
  },
  {
   "cell_type": "markdown",
   "metadata": {
    "button": false,
    "new_sheet": false,
    "run_control": {
     "read_only": false
    }
   },
   "source": [
    "This notebook is part of a course on **Coursera** called *AI Capstone Project with Deep Learning*. If you accessed this notebook outside the course, you can take this course online by clicking [here](https://cocl.us/DL0321EN_Coursera_Week4_LAB1)."
   ]
  },
  {
   "cell_type": "markdown",
   "metadata": {
    "button": false,
    "new_sheet": false,
    "run_control": {
     "read_only": false
    }
   },
   "source": [
    "<hr>\n",
    "\n",
    "Copyright &copy; 2020 [IBM Developer Skills Network](https://cognitiveclass.ai/?utm_source=bducopyrightlink&utm_medium=dswb&utm_campaign=bdu). This notebook and its source code are released under the terms of the [MIT License](https://bigdatauniversity.com/mit-license/)."
   ]
  }
 ],
 "metadata": {
  "kernelspec": {
   "display_name": "Python 3",
   "language": "python",
   "name": "python3"
  },
  "language_info": {
   "codemirror_mode": {
    "name": "ipython",
    "version": 3
   },
   "file_extension": ".py",
   "mimetype": "text/x-python",
   "name": "python",
   "nbconvert_exporter": "python",
   "pygments_lexer": "ipython3",
   "version": "3.7.6"
  }
 },
 "nbformat": 4,
 "nbformat_minor": 4
}
