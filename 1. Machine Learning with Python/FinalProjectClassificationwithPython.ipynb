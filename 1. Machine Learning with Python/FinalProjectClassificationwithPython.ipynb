{
 "cells": [
  {
   "cell_type": "markdown",
   "metadata": {},
   "source": [
    "# Final Project: Classification with Python"
   ]
  },
  {
   "cell_type": "markdown",
   "metadata": {},
   "source": [
    "**=================================================================================================================**"
   ]
  },
  {
   "cell_type": "markdown",
   "metadata": {},
   "source": [
    "# Instructions"
   ]
  },
  {
   "cell_type": "markdown",
   "metadata": {},
   "source": [
    "In this notebook, you will  practice all the classification algorithms that we have learned in this course.\n",
    "\n",
    "\n",
    "Below, is where we are going to use the classification algorithms to create a model based on our training data and evaluate our testing data using evaluation metrics learned in the course.\n",
    "\n",
    "We will use some of the algorithms taught in the course, specifically:\n",
    "\n",
    "1. Linear Regression\n",
    "2. KNN\n",
    "3. Decision Trees\n",
    "4. Logistic Regression\n",
    "5. SVM\n",
    "\n",
    "We will evaluate our models using:\n",
    "\n",
    "1.  Accuracy Score\n",
    "2.  Jaccard Index\n",
    "3.  F1-Score\n",
    "4.  LogLoss\n",
    "5.  Mean Absolute Error\n",
    "6.  Mean Squared Error\n",
    "7.  R2-Score\n",
    "\n",
    "Finally, you will use your models to generate the report at the end. "
   ]
  },
  {
   "cell_type": "markdown",
   "metadata": {},
   "source": [
    "**=================================================================================================================**"
   ]
  },
  {
   "cell_type": "markdown",
   "metadata": {},
   "source": [
    "# About The Dataset"
   ]
  },
  {
   "cell_type": "markdown",
   "metadata": {},
   "source": [
    "The original source of the data is Australian Government's Bureau of Meteorology and the latest data can be gathered from [http://www.bom.gov.au/climate/dwo/](http://www.bom.gov.au/climate/dwo/?utm_medium=Exinfluencer&utm_source=Exinfluencer&utm_content=000026UJ&utm_term=10006555&utm_id=NA-SkillsNetwork-Channel-SkillsNetworkCoursesIBMDeveloperSkillsNetworkML0101ENSkillsNetwork20718538-2022-01-01).\n",
    "\n",
    "The dataset to be used has extra columns like 'RainToday' and our target is 'RainTomorrow', which was gathered from the Rattle at [https://bitbucket.org/kayontoga/rattle/src/master/data/weatherAUS.RData](https://bitbucket.org/kayontoga/rattle/src/master/data/weatherAUS.RData?utm_medium=Exinfluencer&utm_source=Exinfluencer&utm_content=000026UJ&utm_term=10006555&utm_id=NA-SkillsNetwork-Channel-SkillsNetworkCoursesIBMDeveloperSkillsNetworkML0101ENSkillsNetwork20718538-2022-01-01)\n"
   ]
  },
  {
   "cell_type": "markdown",
   "metadata": {},
   "source": [
    "## Data Dictionary"
   ]
  },
  {
   "cell_type": "markdown",
   "metadata": {},
   "source": [
    "This dataset contains observations of weather metrics for each day from 2008 to 2017. The **weatherAUS.csv** dataset includes the following fields:\n",
    "\n",
    "| Field         | Description                                           | Unit            | Type   |\n",
    "| ------------- | ----------------------------------------------------- | --------------- | ------ |\n",
    "| Date          | Date of the Observation in YYYY-MM-DD                 | Date            | object |\n",
    "| Location      | Location of the Observation                           | Location        | object |\n",
    "| MinTemp       | Minimum temperature                                   | Celsius         | float  |\n",
    "| MaxTemp       | Maximum temperature                                   | Celsius         | float  |\n",
    "| Rainfall      | Amount of rainfall                                    | Millimeters     | float  |\n",
    "| Evaporation   | Amount of evaporation                                 | Millimeters     | float  |\n",
    "| Sunshine      | Amount of bright sunshine                             | hours           | float  |\n",
    "| WindGustDir   | Direction of the strongest gust                       | Compass Points  | object |\n",
    "| WindGustSpeed | Speed of the strongest gust                           | Kilometers/Hour | object |\n",
    "| WindDir9am    | Wind direction averaged of 10 minutes prior to 9am    | Compass Points  | object |\n",
    "| WindDir3pm    | Wind direction averaged of 10 minutes prior to 3pm    | Compass Points  | object |\n",
    "| WindSpeed9am  | Wind speed averaged of 10 minutes prior to 9am        | Kilometers/Hour | float  |\n",
    "| WindSpeed3pm  | Wind speed averaged of 10 minutes prior to 3pm        | Kilometers/Hour | float  |\n",
    "| Humidity9am   | Humidity at 9am                                       | Percent         | float  |\n",
    "| Humidity3pm   | Humidity at 3pm                                       | Percent         | float  |\n",
    "| Pressure9am   | Atmospheric pressure reduced to mean sea level at 9am | Hectopascal     | float  |\n",
    "| Pressure3pm   | Atmospheric pressure reduced to mean sea level at 3pm | Hectopascal     | float  |\n",
    "| Cloud9am      | Fraction of the sky obscured by cloud at 9am          | Eights          | float  |\n",
    "| Cloud3pm      | Fraction of the sky obscured by cloud at 3pm          | Eights          | float  |\n",
    "| Temp9am       | Temperature at 9am                                    | Celsius         | float  |\n",
    "| Temp3pm       | Temperature at 3pm                                    | Celsius         | float  |\n",
    "| RainToday     | If there was rain today                               | Yes/No          | object |\n",
    "| RainTomorrow  | If there is rain tomorrow                             | Yes/No          | float  |\n",
    "\n",
    "Column definitions were gathered from [http://www.bom.gov.au/climate/dwo/IDCJDW0000.shtml](http://www.bom.gov.au/climate/dwo/IDCJDW0000.shtml?utm_medium=Exinfluencer&utm_source=Exinfluencer&utm_content=000026UJ&utm_term=10006555&utm_id=NA-SkillsNetwork-Channel-SkillsNetworkCoursesIBMDeveloperSkillsNetworkML0101ENSkillsNetwork20718538-2022-01-01)"
   ]
  },
  {
   "cell_type": "markdown",
   "metadata": {},
   "source": [
    "## Data Tasks\n",
    "\n",
    "### 1) Understand the shape of the data (Histograms, box plots, etc.)\n",
    "\n",
    "### 2) Data Cleaning \n",
    "\n",
    "### 3) Data Exploration\n",
    "\n",
    "### 4) Feature Engineering \n",
    "\n",
    "### 5) Data Preprocessing for Model\n",
    "\n",
    "### 6) Basic Model Building \n",
    "\n",
    "### 7) Model Tuning \n",
    "\n",
    "### 8) Ensemble Model Building \n",
    "\n",
    "### 9) Results "
   ]
  },
  {
   "cell_type": "markdown",
   "metadata": {},
   "source": [
    "**=================================================================================================================**"
   ]
  },
  {
   "cell_type": "markdown",
   "metadata": {},
   "source": [
    "## Import Libraries"
   ]
  },
  {
   "cell_type": "code",
   "execution_count": 1,
   "metadata": {},
   "outputs": [
    {
     "data": {
      "application/javascript": [
       "IPython.notebook.set_autosave_interval(60000)"
      ]
     },
     "metadata": {},
     "output_type": "display_data"
    },
    {
     "name": "stdout",
     "output_type": "stream",
     "text": [
      "Autosaving every 60 seconds\n"
     ]
    }
   ],
   "source": [
    "import numpy as np\n",
    "from numpy import count_nonzero, median, mean\n",
    "import pandas as pd\n",
    "import matplotlib.pyplot as plt\n",
    "import seaborn as sns\n",
    "import random\n",
    "#import squarify\n",
    "\n",
    "import datetime\n",
    "from datetime import datetime, timedelta, date\n",
    "\n",
    "#import os\n",
    "#import zipfile\n",
    "import scipy\n",
    "from scipy import stats\n",
    "from scipy.stats.mstats import normaltest # D'Agostino K^2 Test\n",
    "from scipy.stats import boxcox\n",
    "from collections import Counter\n",
    "\n",
    "import sklearn\n",
    "from sklearn.impute import KNNImputer, MissingIndicator, SimpleImputer\n",
    "from sklearn.preprocessing import StandardScaler, MinMaxScaler, LabelEncoder, OneHotEncoder\n",
    "from sklearn.preprocessing import PolynomialFeatures, RobustScaler, Binarizer, OrdinalEncoder\n",
    "\n",
    "from sklearn.compose import make_column_transformer, ColumnTransformer, make_column_selector\n",
    "from sklearn.pipeline import make_pipeline, Pipeline\n",
    "from sklearn import set_config\n",
    "\n",
    "set_config(transform_output=\"pandas\")\n",
    "\n",
    "\n",
    "from sklearn.experimental import enable_halving_search_cv\n",
    "from sklearn.model_selection import KFold, StratifiedKFold, GridSearchCV, RandomizedSearchCV, HalvingRandomSearchCV\n",
    "from sklearn.model_selection import train_test_split, cross_validate, cross_val_score, cross_val_predict\n",
    "\n",
    "from sklearn.metrics import accuracy_score, classification_report, confusion_matrix, f1_score, roc_auc_score\n",
    "from sklearn.metrics import precision_score, recall_score, ConfusionMatrixDisplay, RocCurveDisplay\n",
    "from sklearn.metrics import jaccard_score, log_loss, mean_squared_error, mean_absolute_error, r2_score\n",
    "\n",
    "from sklearn.feature_selection import f_classif, chi2, RFE, RFECV\n",
    "from sklearn.feature_selection import mutual_info_regression, mutual_info_classif\n",
    "from sklearn.feature_selection import VarianceThreshold, GenericUnivariateSelect\n",
    "from sklearn.feature_selection import SelectFromModel, SelectKBest, SelectPercentile\n",
    "\n",
    "from sklearn.inspection import permutation_importance\n",
    "\n",
    "from sklearn.linear_model import LogisticRegression, LinearRegression\n",
    "from sklearn.neighbors import KNeighborsClassifier\n",
    "from sklearn.tree import DecisionTreeClassifier\n",
    "from sklearn.svm import SVC\n",
    "\n",
    "\n",
    "import imblearn\n",
    "\n",
    "from imblearn.under_sampling import RandomUnderSampler, CondensedNearestNeighbour\n",
    "from imblearn.under_sampling import EditedNearestNeighbours, TomekLinks\n",
    "from imblearn.over_sampling import RandomOverSampler, SMOTE, SMOTEN, SMOTENC \n",
    "from imblearn.combine import SMOTEENN, SMOTETomek\n",
    "from imblearn.ensemble import BalancedBaggingClassifier\n",
    "from imblearn.metrics import classification_report_imbalanced\n",
    "#from imblearn.pipeline import Pipeline\n",
    "\n",
    "import feature_engine\n",
    "\n",
    "from feature_engine.selection import DropConstantFeatures, DropDuplicateFeatures \n",
    "from feature_engine.selection import DropCorrelatedFeatures, SmartCorrelatedSelection\n",
    "from feature_engine.selection import SelectBySingleFeaturePerformance\n",
    "\n",
    "\n",
    "\n",
    "%matplotlib inline\n",
    "#sets the default autosave frequency in seconds\n",
    "%autosave 60 \n",
    "sns.set_style('dark')\n",
    "sns.set(font_scale=1.2)\n",
    "\n",
    "plt.rc('axes', titlesize=9)\n",
    "plt.rc('axes', labelsize=14)\n",
    "plt.rc('xtick', labelsize=12)\n",
    "plt.rc('ytick', labelsize=12)\n",
    "\n",
    "import warnings\n",
    "warnings.filterwarnings('ignore')\n",
    "\n",
    "# This module lets us save our models once we fit them.\n",
    "# import pickle\n",
    "\n",
    "pd.set_option('display.max_columns',None)\n",
    "#pd.set_option('display.max_rows', None)\n",
    "pd.set_option('display.width', 1000)\n",
    "pd.set_option('display.float_format','{:.2f}'.format)\n",
    "\n",
    "random.seed(0)\n",
    "np.random.seed(0)\n",
    "np.set_printoptions(suppress=True)"
   ]
  },
  {
   "cell_type": "markdown",
   "metadata": {},
   "source": [
    "## Quick Data Glance"
   ]
  },
  {
   "cell_type": "code",
   "execution_count": 2,
   "metadata": {},
   "outputs": [],
   "source": [
    "df = pd.read_csv(\"weather.csv\")"
   ]
  },
  {
   "cell_type": "code",
   "execution_count": 3,
   "metadata": {},
   "outputs": [
    {
     "data": {
      "text/html": [
       "<div>\n",
       "<style scoped>\n",
       "    .dataframe tbody tr th:only-of-type {\n",
       "        vertical-align: middle;\n",
       "    }\n",
       "\n",
       "    .dataframe tbody tr th {\n",
       "        vertical-align: top;\n",
       "    }\n",
       "\n",
       "    .dataframe thead th {\n",
       "        text-align: right;\n",
       "    }\n",
       "</style>\n",
       "<table border=\"1\" class=\"dataframe\">\n",
       "  <thead>\n",
       "    <tr style=\"text-align: right;\">\n",
       "      <th></th>\n",
       "      <th>date</th>\n",
       "      <th>mintemp</th>\n",
       "      <th>maxtemp</th>\n",
       "      <th>rainfall</th>\n",
       "      <th>evaporation</th>\n",
       "      <th>sunshine</th>\n",
       "      <th>windgustdir</th>\n",
       "      <th>windgustspeed</th>\n",
       "      <th>winddir9am</th>\n",
       "      <th>winddir3pm</th>\n",
       "      <th>windspeed9am</th>\n",
       "      <th>windspeed3pm</th>\n",
       "      <th>humidity9am</th>\n",
       "      <th>humidity3pm</th>\n",
       "      <th>pressure9am</th>\n",
       "      <th>pressure3pm</th>\n",
       "      <th>cloud9am</th>\n",
       "      <th>cloud3pm</th>\n",
       "      <th>temp9am</th>\n",
       "      <th>temp3pm</th>\n",
       "      <th>raintoday</th>\n",
       "      <th>raintomorrow</th>\n",
       "    </tr>\n",
       "  </thead>\n",
       "  <tbody>\n",
       "    <tr>\n",
       "      <th>0</th>\n",
       "      <td>2008-02-01</td>\n",
       "      <td>19.50</td>\n",
       "      <td>22.40</td>\n",
       "      <td>15.60</td>\n",
       "      <td>6.20</td>\n",
       "      <td>0.00</td>\n",
       "      <td>W</td>\n",
       "      <td>41</td>\n",
       "      <td>S</td>\n",
       "      <td>SSW</td>\n",
       "      <td>17</td>\n",
       "      <td>20</td>\n",
       "      <td>92</td>\n",
       "      <td>84</td>\n",
       "      <td>1017.60</td>\n",
       "      <td>1017.40</td>\n",
       "      <td>8</td>\n",
       "      <td>8</td>\n",
       "      <td>20.70</td>\n",
       "      <td>20.90</td>\n",
       "      <td>Yes</td>\n",
       "      <td>1</td>\n",
       "    </tr>\n",
       "    <tr>\n",
       "      <th>1</th>\n",
       "      <td>2008-02-02</td>\n",
       "      <td>19.50</td>\n",
       "      <td>25.60</td>\n",
       "      <td>6.00</td>\n",
       "      <td>3.40</td>\n",
       "      <td>2.70</td>\n",
       "      <td>W</td>\n",
       "      <td>41</td>\n",
       "      <td>W</td>\n",
       "      <td>E</td>\n",
       "      <td>9</td>\n",
       "      <td>13</td>\n",
       "      <td>83</td>\n",
       "      <td>73</td>\n",
       "      <td>1017.90</td>\n",
       "      <td>1016.40</td>\n",
       "      <td>7</td>\n",
       "      <td>7</td>\n",
       "      <td>22.40</td>\n",
       "      <td>24.80</td>\n",
       "      <td>Yes</td>\n",
       "      <td>1</td>\n",
       "    </tr>\n",
       "    <tr>\n",
       "      <th>2</th>\n",
       "      <td>2008-02-03</td>\n",
       "      <td>21.60</td>\n",
       "      <td>24.50</td>\n",
       "      <td>6.60</td>\n",
       "      <td>2.40</td>\n",
       "      <td>0.10</td>\n",
       "      <td>W</td>\n",
       "      <td>41</td>\n",
       "      <td>ESE</td>\n",
       "      <td>ESE</td>\n",
       "      <td>17</td>\n",
       "      <td>2</td>\n",
       "      <td>88</td>\n",
       "      <td>86</td>\n",
       "      <td>1016.70</td>\n",
       "      <td>1015.60</td>\n",
       "      <td>7</td>\n",
       "      <td>8</td>\n",
       "      <td>23.50</td>\n",
       "      <td>23.00</td>\n",
       "      <td>Yes</td>\n",
       "      <td>1</td>\n",
       "    </tr>\n",
       "    <tr>\n",
       "      <th>3</th>\n",
       "      <td>2008-02-04</td>\n",
       "      <td>20.20</td>\n",
       "      <td>22.80</td>\n",
       "      <td>18.80</td>\n",
       "      <td>2.20</td>\n",
       "      <td>0.00</td>\n",
       "      <td>W</td>\n",
       "      <td>41</td>\n",
       "      <td>NNE</td>\n",
       "      <td>E</td>\n",
       "      <td>22</td>\n",
       "      <td>20</td>\n",
       "      <td>83</td>\n",
       "      <td>90</td>\n",
       "      <td>1014.20</td>\n",
       "      <td>1011.80</td>\n",
       "      <td>8</td>\n",
       "      <td>8</td>\n",
       "      <td>21.40</td>\n",
       "      <td>20.90</td>\n",
       "      <td>Yes</td>\n",
       "      <td>1</td>\n",
       "    </tr>\n",
       "    <tr>\n",
       "      <th>4</th>\n",
       "      <td>2008-02-05</td>\n",
       "      <td>19.70</td>\n",
       "      <td>25.70</td>\n",
       "      <td>77.40</td>\n",
       "      <td>4.80</td>\n",
       "      <td>0.00</td>\n",
       "      <td>W</td>\n",
       "      <td>41</td>\n",
       "      <td>NNE</td>\n",
       "      <td>W</td>\n",
       "      <td>11</td>\n",
       "      <td>6</td>\n",
       "      <td>88</td>\n",
       "      <td>74</td>\n",
       "      <td>1008.30</td>\n",
       "      <td>1004.80</td>\n",
       "      <td>8</td>\n",
       "      <td>8</td>\n",
       "      <td>22.50</td>\n",
       "      <td>25.50</td>\n",
       "      <td>Yes</td>\n",
       "      <td>1</td>\n",
       "    </tr>\n",
       "  </tbody>\n",
       "</table>\n",
       "</div>"
      ],
      "text/plain": [
       "         date  mintemp  maxtemp  rainfall  evaporation  sunshine windgustdir  windgustspeed winddir9am winddir3pm  windspeed9am  windspeed3pm  humidity9am  humidity3pm  pressure9am  pressure3pm  cloud9am  cloud3pm  temp9am  temp3pm raintoday  raintomorrow\n",
       "0  2008-02-01    19.50    22.40     15.60         6.20      0.00           W             41          S        SSW            17            20           92           84      1017.60      1017.40         8         8    20.70    20.90       Yes             1\n",
       "1  2008-02-02    19.50    25.60      6.00         3.40      2.70           W             41          W          E             9            13           83           73      1017.90      1016.40         7         7    22.40    24.80       Yes             1\n",
       "2  2008-02-03    21.60    24.50      6.60         2.40      0.10           W             41        ESE        ESE            17             2           88           86      1016.70      1015.60         7         8    23.50    23.00       Yes             1\n",
       "3  2008-02-04    20.20    22.80     18.80         2.20      0.00           W             41        NNE          E            22            20           83           90      1014.20      1011.80         8         8    21.40    20.90       Yes             1\n",
       "4  2008-02-05    19.70    25.70     77.40         4.80      0.00           W             41        NNE          W            11             6           88           74      1008.30      1004.80         8         8    22.50    25.50       Yes             1"
      ]
     },
     "execution_count": 3,
     "metadata": {},
     "output_type": "execute_result"
    }
   ],
   "source": [
    "df.head()"
   ]
  },
  {
   "cell_type": "code",
   "execution_count": 4,
   "metadata": {},
   "outputs": [
    {
     "name": "stdout",
     "output_type": "stream",
     "text": [
      "<class 'pandas.core.frame.DataFrame'>\n",
      "RangeIndex: 3271 entries, 0 to 3270\n",
      "Data columns (total 22 columns):\n",
      " #   Column         Non-Null Count  Dtype  \n",
      "---  ------         --------------  -----  \n",
      " 0   date           3271 non-null   object \n",
      " 1   mintemp        3271 non-null   float64\n",
      " 2   maxtemp        3271 non-null   float64\n",
      " 3   rainfall       3271 non-null   float64\n",
      " 4   evaporation    3271 non-null   float64\n",
      " 5   sunshine       3271 non-null   float64\n",
      " 6   windgustdir    3271 non-null   object \n",
      " 7   windgustspeed  3271 non-null   int64  \n",
      " 8   winddir9am     3271 non-null   object \n",
      " 9   winddir3pm     3271 non-null   object \n",
      " 10  windspeed9am   3271 non-null   int64  \n",
      " 11  windspeed3pm   3271 non-null   int64  \n",
      " 12  humidity9am    3271 non-null   int64  \n",
      " 13  humidity3pm    3271 non-null   int64  \n",
      " 14  pressure9am    3271 non-null   float64\n",
      " 15  pressure3pm    3271 non-null   float64\n",
      " 16  cloud9am       3271 non-null   int64  \n",
      " 17  cloud3pm       3271 non-null   int64  \n",
      " 18  temp9am        3271 non-null   float64\n",
      " 19  temp3pm        3271 non-null   float64\n",
      " 20  raintoday      3271 non-null   object \n",
      " 21  raintomorrow   3271 non-null   int64  \n",
      "dtypes: float64(9), int64(8), object(5)\n",
      "memory usage: 562.3+ KB\n"
     ]
    }
   ],
   "source": [
    "df.info()"
   ]
  },
  {
   "cell_type": "code",
   "execution_count": 5,
   "metadata": {},
   "outputs": [
    {
     "data": {
      "text/plain": [
       "float64    9\n",
       "int64      8\n",
       "object     5\n",
       "dtype: int64"
      ]
     },
     "execution_count": 5,
     "metadata": {},
     "output_type": "execute_result"
    }
   ],
   "source": [
    "df.dtypes.value_counts()"
   ]
  },
  {
   "cell_type": "code",
   "execution_count": 6,
   "metadata": {},
   "outputs": [
    {
     "data": {
      "text/html": [
       "<div>\n",
       "<style scoped>\n",
       "    .dataframe tbody tr th:only-of-type {\n",
       "        vertical-align: middle;\n",
       "    }\n",
       "\n",
       "    .dataframe tbody tr th {\n",
       "        vertical-align: top;\n",
       "    }\n",
       "\n",
       "    .dataframe thead th {\n",
       "        text-align: right;\n",
       "    }\n",
       "</style>\n",
       "<table border=\"1\" class=\"dataframe\">\n",
       "  <thead>\n",
       "    <tr style=\"text-align: right;\">\n",
       "      <th></th>\n",
       "      <th>date</th>\n",
       "      <th>mintemp</th>\n",
       "      <th>maxtemp</th>\n",
       "      <th>rainfall</th>\n",
       "      <th>evaporation</th>\n",
       "      <th>sunshine</th>\n",
       "      <th>windgustdir</th>\n",
       "      <th>windgustspeed</th>\n",
       "      <th>winddir9am</th>\n",
       "      <th>winddir3pm</th>\n",
       "      <th>windspeed9am</th>\n",
       "      <th>windspeed3pm</th>\n",
       "      <th>humidity9am</th>\n",
       "      <th>humidity3pm</th>\n",
       "      <th>pressure9am</th>\n",
       "      <th>pressure3pm</th>\n",
       "      <th>cloud9am</th>\n",
       "      <th>cloud3pm</th>\n",
       "      <th>temp9am</th>\n",
       "      <th>temp3pm</th>\n",
       "      <th>raintoday</th>\n",
       "      <th>raintomorrow</th>\n",
       "    </tr>\n",
       "  </thead>\n",
       "  <tbody>\n",
       "    <tr>\n",
       "      <th>count</th>\n",
       "      <td>3271</td>\n",
       "      <td>3271.00</td>\n",
       "      <td>3271.00</td>\n",
       "      <td>3271.00</td>\n",
       "      <td>3271.00</td>\n",
       "      <td>3271.00</td>\n",
       "      <td>3271</td>\n",
       "      <td>3271.00</td>\n",
       "      <td>3271</td>\n",
       "      <td>3271</td>\n",
       "      <td>3271.00</td>\n",
       "      <td>3271.00</td>\n",
       "      <td>3271.00</td>\n",
       "      <td>3271.00</td>\n",
       "      <td>3271.00</td>\n",
       "      <td>3271.00</td>\n",
       "      <td>3271.00</td>\n",
       "      <td>3271.00</td>\n",
       "      <td>3271.00</td>\n",
       "      <td>3271.00</td>\n",
       "      <td>3271</td>\n",
       "      <td>3271.00</td>\n",
       "    </tr>\n",
       "    <tr>\n",
       "      <th>unique</th>\n",
       "      <td>3271</td>\n",
       "      <td>NaN</td>\n",
       "      <td>NaN</td>\n",
       "      <td>NaN</td>\n",
       "      <td>NaN</td>\n",
       "      <td>NaN</td>\n",
       "      <td>16</td>\n",
       "      <td>NaN</td>\n",
       "      <td>16</td>\n",
       "      <td>16</td>\n",
       "      <td>NaN</td>\n",
       "      <td>NaN</td>\n",
       "      <td>NaN</td>\n",
       "      <td>NaN</td>\n",
       "      <td>NaN</td>\n",
       "      <td>NaN</td>\n",
       "      <td>NaN</td>\n",
       "      <td>NaN</td>\n",
       "      <td>NaN</td>\n",
       "      <td>NaN</td>\n",
       "      <td>2</td>\n",
       "      <td>NaN</td>\n",
       "    </tr>\n",
       "    <tr>\n",
       "      <th>top</th>\n",
       "      <td>2008-02-01</td>\n",
       "      <td>NaN</td>\n",
       "      <td>NaN</td>\n",
       "      <td>NaN</td>\n",
       "      <td>NaN</td>\n",
       "      <td>NaN</td>\n",
       "      <td>W</td>\n",
       "      <td>NaN</td>\n",
       "      <td>W</td>\n",
       "      <td>E</td>\n",
       "      <td>NaN</td>\n",
       "      <td>NaN</td>\n",
       "      <td>NaN</td>\n",
       "      <td>NaN</td>\n",
       "      <td>NaN</td>\n",
       "      <td>NaN</td>\n",
       "      <td>NaN</td>\n",
       "      <td>NaN</td>\n",
       "      <td>NaN</td>\n",
       "      <td>NaN</td>\n",
       "      <td>No</td>\n",
       "      <td>NaN</td>\n",
       "    </tr>\n",
       "    <tr>\n",
       "      <th>freq</th>\n",
       "      <td>1</td>\n",
       "      <td>NaN</td>\n",
       "      <td>NaN</td>\n",
       "      <td>NaN</td>\n",
       "      <td>NaN</td>\n",
       "      <td>NaN</td>\n",
       "      <td>1425</td>\n",
       "      <td>NaN</td>\n",
       "      <td>1260</td>\n",
       "      <td>624</td>\n",
       "      <td>NaN</td>\n",
       "      <td>NaN</td>\n",
       "      <td>NaN</td>\n",
       "      <td>NaN</td>\n",
       "      <td>NaN</td>\n",
       "      <td>NaN</td>\n",
       "      <td>NaN</td>\n",
       "      <td>NaN</td>\n",
       "      <td>NaN</td>\n",
       "      <td>NaN</td>\n",
       "      <td>2422</td>\n",
       "      <td>NaN</td>\n",
       "    </tr>\n",
       "    <tr>\n",
       "      <th>mean</th>\n",
       "      <td>NaN</td>\n",
       "      <td>14.88</td>\n",
       "      <td>23.01</td>\n",
       "      <td>3.34</td>\n",
       "      <td>5.18</td>\n",
       "      <td>7.17</td>\n",
       "      <td>NaN</td>\n",
       "      <td>41.48</td>\n",
       "      <td>NaN</td>\n",
       "      <td>NaN</td>\n",
       "      <td>15.08</td>\n",
       "      <td>19.29</td>\n",
       "      <td>68.24</td>\n",
       "      <td>54.70</td>\n",
       "      <td>1018.33</td>\n",
       "      <td>1016.00</td>\n",
       "      <td>4.32</td>\n",
       "      <td>4.18</td>\n",
       "      <td>17.82</td>\n",
       "      <td>21.54</td>\n",
       "      <td>NaN</td>\n",
       "      <td>0.26</td>\n",
       "    </tr>\n",
       "    <tr>\n",
       "      <th>std</th>\n",
       "      <td>NaN</td>\n",
       "      <td>4.55</td>\n",
       "      <td>4.48</td>\n",
       "      <td>9.92</td>\n",
       "      <td>2.76</td>\n",
       "      <td>3.82</td>\n",
       "      <td>NaN</td>\n",
       "      <td>10.81</td>\n",
       "      <td>NaN</td>\n",
       "      <td>NaN</td>\n",
       "      <td>7.04</td>\n",
       "      <td>7.45</td>\n",
       "      <td>15.09</td>\n",
       "      <td>16.28</td>\n",
       "      <td>7.02</td>\n",
       "      <td>7.02</td>\n",
       "      <td>2.53</td>\n",
       "      <td>2.41</td>\n",
       "      <td>4.89</td>\n",
       "      <td>4.30</td>\n",
       "      <td>NaN</td>\n",
       "      <td>0.44</td>\n",
       "    </tr>\n",
       "    <tr>\n",
       "      <th>min</th>\n",
       "      <td>NaN</td>\n",
       "      <td>4.30</td>\n",
       "      <td>11.70</td>\n",
       "      <td>0.00</td>\n",
       "      <td>0.00</td>\n",
       "      <td>0.00</td>\n",
       "      <td>NaN</td>\n",
       "      <td>17.00</td>\n",
       "      <td>NaN</td>\n",
       "      <td>NaN</td>\n",
       "      <td>0.00</td>\n",
       "      <td>0.00</td>\n",
       "      <td>19.00</td>\n",
       "      <td>10.00</td>\n",
       "      <td>986.70</td>\n",
       "      <td>989.80</td>\n",
       "      <td>0.00</td>\n",
       "      <td>0.00</td>\n",
       "      <td>6.40</td>\n",
       "      <td>10.20</td>\n",
       "      <td>NaN</td>\n",
       "      <td>0.00</td>\n",
       "    </tr>\n",
       "    <tr>\n",
       "      <th>25%</th>\n",
       "      <td>NaN</td>\n",
       "      <td>11.00</td>\n",
       "      <td>19.60</td>\n",
       "      <td>0.00</td>\n",
       "      <td>3.20</td>\n",
       "      <td>4.25</td>\n",
       "      <td>NaN</td>\n",
       "      <td>35.00</td>\n",
       "      <td>NaN</td>\n",
       "      <td>NaN</td>\n",
       "      <td>11.00</td>\n",
       "      <td>15.00</td>\n",
       "      <td>58.00</td>\n",
       "      <td>44.00</td>\n",
       "      <td>1013.70</td>\n",
       "      <td>1011.30</td>\n",
       "      <td>2.00</td>\n",
       "      <td>2.00</td>\n",
       "      <td>13.80</td>\n",
       "      <td>18.40</td>\n",
       "      <td>NaN</td>\n",
       "      <td>0.00</td>\n",
       "    </tr>\n",
       "    <tr>\n",
       "      <th>50%</th>\n",
       "      <td>NaN</td>\n",
       "      <td>14.90</td>\n",
       "      <td>22.80</td>\n",
       "      <td>0.00</td>\n",
       "      <td>4.80</td>\n",
       "      <td>8.30</td>\n",
       "      <td>NaN</td>\n",
       "      <td>41.00</td>\n",
       "      <td>NaN</td>\n",
       "      <td>NaN</td>\n",
       "      <td>15.00</td>\n",
       "      <td>19.00</td>\n",
       "      <td>69.00</td>\n",
       "      <td>56.00</td>\n",
       "      <td>1018.60</td>\n",
       "      <td>1016.30</td>\n",
       "      <td>5.00</td>\n",
       "      <td>4.00</td>\n",
       "      <td>18.20</td>\n",
       "      <td>21.30</td>\n",
       "      <td>NaN</td>\n",
       "      <td>0.00</td>\n",
       "    </tr>\n",
       "    <tr>\n",
       "      <th>75%</th>\n",
       "      <td>NaN</td>\n",
       "      <td>18.80</td>\n",
       "      <td>26.00</td>\n",
       "      <td>1.40</td>\n",
       "      <td>7.00</td>\n",
       "      <td>10.20</td>\n",
       "      <td>NaN</td>\n",
       "      <td>44.00</td>\n",
       "      <td>NaN</td>\n",
       "      <td>NaN</td>\n",
       "      <td>20.00</td>\n",
       "      <td>24.00</td>\n",
       "      <td>80.00</td>\n",
       "      <td>64.00</td>\n",
       "      <td>1023.10</td>\n",
       "      <td>1020.80</td>\n",
       "      <td>7.00</td>\n",
       "      <td>7.00</td>\n",
       "      <td>21.70</td>\n",
       "      <td>24.50</td>\n",
       "      <td>NaN</td>\n",
       "      <td>1.00</td>\n",
       "    </tr>\n",
       "    <tr>\n",
       "      <th>max</th>\n",
       "      <td>NaN</td>\n",
       "      <td>27.60</td>\n",
       "      <td>45.80</td>\n",
       "      <td>119.40</td>\n",
       "      <td>18.40</td>\n",
       "      <td>13.60</td>\n",
       "      <td>NaN</td>\n",
       "      <td>96.00</td>\n",
       "      <td>NaN</td>\n",
       "      <td>NaN</td>\n",
       "      <td>54.00</td>\n",
       "      <td>57.00</td>\n",
       "      <td>100.00</td>\n",
       "      <td>99.00</td>\n",
       "      <td>1039.00</td>\n",
       "      <td>1036.70</td>\n",
       "      <td>9.00</td>\n",
       "      <td>8.00</td>\n",
       "      <td>36.50</td>\n",
       "      <td>44.70</td>\n",
       "      <td>NaN</td>\n",
       "      <td>1.00</td>\n",
       "    </tr>\n",
       "  </tbody>\n",
       "</table>\n",
       "</div>"
      ],
      "text/plain": [
       "              date  mintemp  maxtemp  rainfall  evaporation  sunshine windgustdir  windgustspeed winddir9am winddir3pm  windspeed9am  windspeed3pm  humidity9am  humidity3pm  pressure9am  pressure3pm  cloud9am  cloud3pm  temp9am  temp3pm raintoday  raintomorrow\n",
       "count         3271  3271.00  3271.00   3271.00      3271.00   3271.00        3271        3271.00       3271       3271       3271.00       3271.00      3271.00      3271.00      3271.00      3271.00   3271.00   3271.00  3271.00  3271.00      3271       3271.00\n",
       "unique        3271      NaN      NaN       NaN          NaN       NaN          16            NaN         16         16           NaN           NaN          NaN          NaN          NaN          NaN       NaN       NaN      NaN      NaN         2           NaN\n",
       "top     2008-02-01      NaN      NaN       NaN          NaN       NaN           W            NaN          W          E           NaN           NaN          NaN          NaN          NaN          NaN       NaN       NaN      NaN      NaN        No           NaN\n",
       "freq             1      NaN      NaN       NaN          NaN       NaN        1425            NaN       1260        624           NaN           NaN          NaN          NaN          NaN          NaN       NaN       NaN      NaN      NaN      2422           NaN\n",
       "mean           NaN    14.88    23.01      3.34         5.18      7.17         NaN          41.48        NaN        NaN         15.08         19.29        68.24        54.70      1018.33      1016.00      4.32      4.18    17.82    21.54       NaN          0.26\n",
       "std            NaN     4.55     4.48      9.92         2.76      3.82         NaN          10.81        NaN        NaN          7.04          7.45        15.09        16.28         7.02         7.02      2.53      2.41     4.89     4.30       NaN          0.44\n",
       "min            NaN     4.30    11.70      0.00         0.00      0.00         NaN          17.00        NaN        NaN          0.00          0.00        19.00        10.00       986.70       989.80      0.00      0.00     6.40    10.20       NaN          0.00\n",
       "25%            NaN    11.00    19.60      0.00         3.20      4.25         NaN          35.00        NaN        NaN         11.00         15.00        58.00        44.00      1013.70      1011.30      2.00      2.00    13.80    18.40       NaN          0.00\n",
       "50%            NaN    14.90    22.80      0.00         4.80      8.30         NaN          41.00        NaN        NaN         15.00         19.00        69.00        56.00      1018.60      1016.30      5.00      4.00    18.20    21.30       NaN          0.00\n",
       "75%            NaN    18.80    26.00      1.40         7.00     10.20         NaN          44.00        NaN        NaN         20.00         24.00        80.00        64.00      1023.10      1020.80      7.00      7.00    21.70    24.50       NaN          1.00\n",
       "max            NaN    27.60    45.80    119.40        18.40     13.60         NaN          96.00        NaN        NaN         54.00         57.00       100.00        99.00      1039.00      1036.70      9.00      8.00    36.50    44.70       NaN          1.00"
      ]
     },
     "execution_count": 6,
     "metadata": {},
     "output_type": "execute_result"
    }
   ],
   "source": [
    "# Descriptive Statistical Analysis\n",
    "df.describe(include=\"all\")"
   ]
  },
  {
   "cell_type": "code",
   "execution_count": 7,
   "metadata": {},
   "outputs": [
    {
     "data": {
      "text/html": [
       "<div>\n",
       "<style scoped>\n",
       "    .dataframe tbody tr th:only-of-type {\n",
       "        vertical-align: middle;\n",
       "    }\n",
       "\n",
       "    .dataframe tbody tr th {\n",
       "        vertical-align: top;\n",
       "    }\n",
       "\n",
       "    .dataframe thead th {\n",
       "        text-align: right;\n",
       "    }\n",
       "</style>\n",
       "<table border=\"1\" class=\"dataframe\">\n",
       "  <thead>\n",
       "    <tr style=\"text-align: right;\">\n",
       "      <th></th>\n",
       "      <th>mintemp</th>\n",
       "      <th>maxtemp</th>\n",
       "      <th>rainfall</th>\n",
       "      <th>evaporation</th>\n",
       "      <th>sunshine</th>\n",
       "      <th>windgustspeed</th>\n",
       "      <th>windspeed9am</th>\n",
       "      <th>windspeed3pm</th>\n",
       "      <th>humidity9am</th>\n",
       "      <th>humidity3pm</th>\n",
       "      <th>pressure9am</th>\n",
       "      <th>pressure3pm</th>\n",
       "      <th>cloud9am</th>\n",
       "      <th>cloud3pm</th>\n",
       "      <th>temp9am</th>\n",
       "      <th>temp3pm</th>\n",
       "      <th>raintomorrow</th>\n",
       "    </tr>\n",
       "  </thead>\n",
       "  <tbody>\n",
       "    <tr>\n",
       "      <th>count</th>\n",
       "      <td>3271.00</td>\n",
       "      <td>3271.00</td>\n",
       "      <td>3271.00</td>\n",
       "      <td>3271.00</td>\n",
       "      <td>3271.00</td>\n",
       "      <td>3271.00</td>\n",
       "      <td>3271.00</td>\n",
       "      <td>3271.00</td>\n",
       "      <td>3271.00</td>\n",
       "      <td>3271.00</td>\n",
       "      <td>3271.00</td>\n",
       "      <td>3271.00</td>\n",
       "      <td>3271.00</td>\n",
       "      <td>3271.00</td>\n",
       "      <td>3271.00</td>\n",
       "      <td>3271.00</td>\n",
       "      <td>3271.00</td>\n",
       "    </tr>\n",
       "    <tr>\n",
       "      <th>mean</th>\n",
       "      <td>14.88</td>\n",
       "      <td>23.01</td>\n",
       "      <td>3.34</td>\n",
       "      <td>5.18</td>\n",
       "      <td>7.17</td>\n",
       "      <td>41.48</td>\n",
       "      <td>15.08</td>\n",
       "      <td>19.29</td>\n",
       "      <td>68.24</td>\n",
       "      <td>54.70</td>\n",
       "      <td>1018.33</td>\n",
       "      <td>1016.00</td>\n",
       "      <td>4.32</td>\n",
       "      <td>4.18</td>\n",
       "      <td>17.82</td>\n",
       "      <td>21.54</td>\n",
       "      <td>0.26</td>\n",
       "    </tr>\n",
       "    <tr>\n",
       "      <th>std</th>\n",
       "      <td>4.55</td>\n",
       "      <td>4.48</td>\n",
       "      <td>9.92</td>\n",
       "      <td>2.76</td>\n",
       "      <td>3.82</td>\n",
       "      <td>10.81</td>\n",
       "      <td>7.04</td>\n",
       "      <td>7.45</td>\n",
       "      <td>15.09</td>\n",
       "      <td>16.28</td>\n",
       "      <td>7.02</td>\n",
       "      <td>7.02</td>\n",
       "      <td>2.53</td>\n",
       "      <td>2.41</td>\n",
       "      <td>4.89</td>\n",
       "      <td>4.30</td>\n",
       "      <td>0.44</td>\n",
       "    </tr>\n",
       "    <tr>\n",
       "      <th>min</th>\n",
       "      <td>4.30</td>\n",
       "      <td>11.70</td>\n",
       "      <td>0.00</td>\n",
       "      <td>0.00</td>\n",
       "      <td>0.00</td>\n",
       "      <td>17.00</td>\n",
       "      <td>0.00</td>\n",
       "      <td>0.00</td>\n",
       "      <td>19.00</td>\n",
       "      <td>10.00</td>\n",
       "      <td>986.70</td>\n",
       "      <td>989.80</td>\n",
       "      <td>0.00</td>\n",
       "      <td>0.00</td>\n",
       "      <td>6.40</td>\n",
       "      <td>10.20</td>\n",
       "      <td>0.00</td>\n",
       "    </tr>\n",
       "    <tr>\n",
       "      <th>25%</th>\n",
       "      <td>11.00</td>\n",
       "      <td>19.60</td>\n",
       "      <td>0.00</td>\n",
       "      <td>3.20</td>\n",
       "      <td>4.25</td>\n",
       "      <td>35.00</td>\n",
       "      <td>11.00</td>\n",
       "      <td>15.00</td>\n",
       "      <td>58.00</td>\n",
       "      <td>44.00</td>\n",
       "      <td>1013.70</td>\n",
       "      <td>1011.30</td>\n",
       "      <td>2.00</td>\n",
       "      <td>2.00</td>\n",
       "      <td>13.80</td>\n",
       "      <td>18.40</td>\n",
       "      <td>0.00</td>\n",
       "    </tr>\n",
       "    <tr>\n",
       "      <th>50%</th>\n",
       "      <td>14.90</td>\n",
       "      <td>22.80</td>\n",
       "      <td>0.00</td>\n",
       "      <td>4.80</td>\n",
       "      <td>8.30</td>\n",
       "      <td>41.00</td>\n",
       "      <td>15.00</td>\n",
       "      <td>19.00</td>\n",
       "      <td>69.00</td>\n",
       "      <td>56.00</td>\n",
       "      <td>1018.60</td>\n",
       "      <td>1016.30</td>\n",
       "      <td>5.00</td>\n",
       "      <td>4.00</td>\n",
       "      <td>18.20</td>\n",
       "      <td>21.30</td>\n",
       "      <td>0.00</td>\n",
       "    </tr>\n",
       "    <tr>\n",
       "      <th>75%</th>\n",
       "      <td>18.80</td>\n",
       "      <td>26.00</td>\n",
       "      <td>1.40</td>\n",
       "      <td>7.00</td>\n",
       "      <td>10.20</td>\n",
       "      <td>44.00</td>\n",
       "      <td>20.00</td>\n",
       "      <td>24.00</td>\n",
       "      <td>80.00</td>\n",
       "      <td>64.00</td>\n",
       "      <td>1023.10</td>\n",
       "      <td>1020.80</td>\n",
       "      <td>7.00</td>\n",
       "      <td>7.00</td>\n",
       "      <td>21.70</td>\n",
       "      <td>24.50</td>\n",
       "      <td>1.00</td>\n",
       "    </tr>\n",
       "    <tr>\n",
       "      <th>max</th>\n",
       "      <td>27.60</td>\n",
       "      <td>45.80</td>\n",
       "      <td>119.40</td>\n",
       "      <td>18.40</td>\n",
       "      <td>13.60</td>\n",
       "      <td>96.00</td>\n",
       "      <td>54.00</td>\n",
       "      <td>57.00</td>\n",
       "      <td>100.00</td>\n",
       "      <td>99.00</td>\n",
       "      <td>1039.00</td>\n",
       "      <td>1036.70</td>\n",
       "      <td>9.00</td>\n",
       "      <td>8.00</td>\n",
       "      <td>36.50</td>\n",
       "      <td>44.70</td>\n",
       "      <td>1.00</td>\n",
       "    </tr>\n",
       "  </tbody>\n",
       "</table>\n",
       "</div>"
      ],
      "text/plain": [
       "       mintemp  maxtemp  rainfall  evaporation  sunshine  windgustspeed  windspeed9am  windspeed3pm  humidity9am  humidity3pm  pressure9am  pressure3pm  cloud9am  cloud3pm  temp9am  temp3pm  raintomorrow\n",
       "count  3271.00  3271.00   3271.00      3271.00   3271.00        3271.00       3271.00       3271.00      3271.00      3271.00      3271.00      3271.00   3271.00   3271.00  3271.00  3271.00       3271.00\n",
       "mean     14.88    23.01      3.34         5.18      7.17          41.48         15.08         19.29        68.24        54.70      1018.33      1016.00      4.32      4.18    17.82    21.54          0.26\n",
       "std       4.55     4.48      9.92         2.76      3.82          10.81          7.04          7.45        15.09        16.28         7.02         7.02      2.53      2.41     4.89     4.30          0.44\n",
       "min       4.30    11.70      0.00         0.00      0.00          17.00          0.00          0.00        19.00        10.00       986.70       989.80      0.00      0.00     6.40    10.20          0.00\n",
       "25%      11.00    19.60      0.00         3.20      4.25          35.00         11.00         15.00        58.00        44.00      1013.70      1011.30      2.00      2.00    13.80    18.40          0.00\n",
       "50%      14.90    22.80      0.00         4.80      8.30          41.00         15.00         19.00        69.00        56.00      1018.60      1016.30      5.00      4.00    18.20    21.30          0.00\n",
       "75%      18.80    26.00      1.40         7.00     10.20          44.00         20.00         24.00        80.00        64.00      1023.10      1020.80      7.00      7.00    21.70    24.50          1.00\n",
       "max      27.60    45.80    119.40        18.40     13.60          96.00         54.00         57.00       100.00        99.00      1039.00      1036.70      9.00      8.00    36.50    44.70          1.00"
      ]
     },
     "execution_count": 7,
     "metadata": {},
     "output_type": "execute_result"
    }
   ],
   "source": [
    "# Descriptive Statistical Analysis\n",
    "df.describe(include=[\"int\", \"float\"])"
   ]
  },
  {
   "cell_type": "code",
   "execution_count": 8,
   "metadata": {},
   "outputs": [
    {
     "data": {
      "text/html": [
       "<div>\n",
       "<style scoped>\n",
       "    .dataframe tbody tr th:only-of-type {\n",
       "        vertical-align: middle;\n",
       "    }\n",
       "\n",
       "    .dataframe tbody tr th {\n",
       "        vertical-align: top;\n",
       "    }\n",
       "\n",
       "    .dataframe thead th {\n",
       "        text-align: right;\n",
       "    }\n",
       "</style>\n",
       "<table border=\"1\" class=\"dataframe\">\n",
       "  <thead>\n",
       "    <tr style=\"text-align: right;\">\n",
       "      <th></th>\n",
       "      <th>date</th>\n",
       "      <th>windgustdir</th>\n",
       "      <th>winddir9am</th>\n",
       "      <th>winddir3pm</th>\n",
       "      <th>raintoday</th>\n",
       "    </tr>\n",
       "  </thead>\n",
       "  <tbody>\n",
       "    <tr>\n",
       "      <th>count</th>\n",
       "      <td>3271</td>\n",
       "      <td>3271</td>\n",
       "      <td>3271</td>\n",
       "      <td>3271</td>\n",
       "      <td>3271</td>\n",
       "    </tr>\n",
       "    <tr>\n",
       "      <th>unique</th>\n",
       "      <td>3271</td>\n",
       "      <td>16</td>\n",
       "      <td>16</td>\n",
       "      <td>16</td>\n",
       "      <td>2</td>\n",
       "    </tr>\n",
       "    <tr>\n",
       "      <th>top</th>\n",
       "      <td>2008-02-01</td>\n",
       "      <td>W</td>\n",
       "      <td>W</td>\n",
       "      <td>E</td>\n",
       "      <td>No</td>\n",
       "    </tr>\n",
       "    <tr>\n",
       "      <th>freq</th>\n",
       "      <td>1</td>\n",
       "      <td>1425</td>\n",
       "      <td>1260</td>\n",
       "      <td>624</td>\n",
       "      <td>2422</td>\n",
       "    </tr>\n",
       "  </tbody>\n",
       "</table>\n",
       "</div>"
      ],
      "text/plain": [
       "              date windgustdir winddir9am winddir3pm raintoday\n",
       "count         3271        3271       3271       3271      3271\n",
       "unique        3271          16         16         16         2\n",
       "top     2008-02-01           W          W          E        No\n",
       "freq             1        1425       1260        624      2422"
      ]
     },
     "execution_count": 8,
     "metadata": {},
     "output_type": "execute_result"
    }
   ],
   "source": [
    "# Descriptive Statistical Analysis\n",
    "df.describe(include=\"object\")"
   ]
  },
  {
   "cell_type": "code",
   "execution_count": 9,
   "metadata": {},
   "outputs": [
    {
     "data": {
      "text/plain": [
       "0   0.74\n",
       "1   0.26\n",
       "Name: raintomorrow, dtype: float64"
      ]
     },
     "execution_count": 9,
     "metadata": {},
     "output_type": "execute_result"
    }
   ],
   "source": [
    "df.raintomorrow.value_counts(normalize=True)"
   ]
  },
  {
   "cell_type": "code",
   "execution_count": 10,
   "metadata": {},
   "outputs": [
    {
     "data": {
      "text/plain": [
       "(3271, 22)"
      ]
     },
     "execution_count": 10,
     "metadata": {},
     "output_type": "execute_result"
    }
   ],
   "source": [
    "df.shape"
   ]
  },
  {
   "cell_type": "code",
   "execution_count": 11,
   "metadata": {},
   "outputs": [
    {
     "data": {
      "text/plain": [
       "Index(['date', 'mintemp', 'maxtemp', 'rainfall', 'evaporation', 'sunshine', 'windgustdir', 'windgustspeed', 'winddir9am', 'winddir3pm', 'windspeed9am', 'windspeed3pm', 'humidity9am', 'humidity3pm', 'pressure9am', 'pressure3pm', 'cloud9am', 'cloud3pm', 'temp9am', 'temp3pm', 'raintoday', 'raintomorrow'], dtype='object')"
      ]
     },
     "execution_count": 11,
     "metadata": {},
     "output_type": "execute_result"
    }
   ],
   "source": [
    "df.columns"
   ]
  },
  {
   "cell_type": "code",
   "execution_count": 12,
   "metadata": {},
   "outputs": [
    {
     "data": {
      "text/plain": [
       "date             0\n",
       "mintemp          0\n",
       "maxtemp          0\n",
       "rainfall         0\n",
       "evaporation      0\n",
       "sunshine         0\n",
       "windgustdir      0\n",
       "windgustspeed    0\n",
       "winddir9am       0\n",
       "winddir3pm       0\n",
       "windspeed9am     0\n",
       "windspeed3pm     0\n",
       "humidity9am      0\n",
       "humidity3pm      0\n",
       "pressure9am      0\n",
       "pressure3pm      0\n",
       "cloud9am         0\n",
       "cloud3pm         0\n",
       "temp9am          0\n",
       "temp3pm          0\n",
       "raintoday        0\n",
       "raintomorrow     0\n",
       "dtype: int64"
      ]
     },
     "execution_count": 12,
     "metadata": {},
     "output_type": "execute_result"
    }
   ],
   "source": [
    "df.isnull().sum()"
   ]
  },
  {
   "cell_type": "code",
   "execution_count": 13,
   "metadata": {},
   "outputs": [
    {
     "data": {
      "text/plain": [
       "0"
      ]
     },
     "execution_count": 13,
     "metadata": {},
     "output_type": "execute_result"
    }
   ],
   "source": [
    "df.duplicated().sum()"
   ]
  },
  {
   "cell_type": "markdown",
   "metadata": {},
   "source": [
    "## Data Visualization"
   ]
  },
  {
   "cell_type": "code",
   "execution_count": 14,
   "metadata": {
    "scrolled": false
   },
   "outputs": [
    {
     "data": {
      "image/png": "[encoded data removed]",
      "text/plain": [
       "<Figure size 1440x3240 with 44 Axes>"
      ]
     },
     "metadata": {},
     "output_type": "display_data"
    }
   ],
   "source": [
    "df.hist(bins=50, figsize=(20,45), grid=False, layout=(len(df.columns),2), edgecolor = 'black')\n",
    "plt.suptitle('Histogram Feature Distribution', x=0.5, y=1.02, ha='center', fontsize=20)\n",
    "plt.tight_layout()\n",
    "plt.show()"
   ]
  },
  {
   "cell_type": "code",
   "execution_count": 15,
   "metadata": {},
   "outputs": [
    {
     "data": {
      "image/png": "[encoded data removed]",
      "text/plain": [
       "<Figure size 1440x720 with 1 Axes>"
      ]
     },
     "metadata": {},
     "output_type": "display_data"
    }
   ],
   "source": [
    "df.boxplot(figsize=(20,10), color=\"blue\", fontsize = 15)\n",
    "plt.title('BoxPlots Feature Distribution', x=0.5, y=1.02, ha='center', fontsize=20)\n",
    "plt.tight_layout()\n",
    "plt.show()"
   ]
  },
  {
   "cell_type": "code",
   "execution_count": 17,
   "metadata": {},
   "outputs": [
    {
     "data": {
      "image/png": "[encoded data removed]",
      "text/plain": [
       "<Figure size 864x576 with 1 Axes>"
      ]
     },
     "metadata": {},
     "output_type": "display_data"
    }
   ],
   "source": [
    "fig, ax = plt.subplots(figsize=(12,8))\n",
    "sns.countplot(x=df.raintomorrow, data=df)\n",
    "plt.show()"
   ]
  },
  {
   "cell_type": "code",
   "execution_count": 18,
   "metadata": {},
   "outputs": [
    {
     "data": {
      "text/html": [
       "<div>\n",
       "<style scoped>\n",
       "    .dataframe tbody tr th:only-of-type {\n",
       "        vertical-align: middle;\n",
       "    }\n",
       "\n",
       "    .dataframe tbody tr th {\n",
       "        vertical-align: top;\n",
       "    }\n",
       "\n",
       "    .dataframe thead th {\n",
       "        text-align: right;\n",
       "    }\n",
       "</style>\n",
       "<table border=\"1\" class=\"dataframe\">\n",
       "  <thead>\n",
       "    <tr style=\"text-align: right;\">\n",
       "      <th></th>\n",
       "      <th>mintemp</th>\n",
       "      <th>maxtemp</th>\n",
       "      <th>rainfall</th>\n",
       "      <th>evaporation</th>\n",
       "      <th>sunshine</th>\n",
       "      <th>windgustspeed</th>\n",
       "      <th>windspeed9am</th>\n",
       "      <th>windspeed3pm</th>\n",
       "      <th>humidity9am</th>\n",
       "      <th>humidity3pm</th>\n",
       "      <th>pressure9am</th>\n",
       "      <th>pressure3pm</th>\n",
       "      <th>cloud9am</th>\n",
       "      <th>cloud3pm</th>\n",
       "      <th>temp9am</th>\n",
       "      <th>temp3pm</th>\n",
       "      <th>raintomorrow</th>\n",
       "    </tr>\n",
       "  </thead>\n",
       "  <tbody>\n",
       "    <tr>\n",
       "      <th>mintemp</th>\n",
       "      <td>1.00</td>\n",
       "      <td>0.77</td>\n",
       "      <td>0.01</td>\n",
       "      <td>0.57</td>\n",
       "      <td>-0.06</td>\n",
       "      <td>0.13</td>\n",
       "      <td>-0.30</td>\n",
       "      <td>0.23</td>\n",
       "      <td>0.05</td>\n",
       "      <td>0.27</td>\n",
       "      <td>-0.39</td>\n",
       "      <td>-0.35</td>\n",
       "      <td>0.24</td>\n",
       "      <td>0.16</td>\n",
       "      <td>0.94</td>\n",
       "      <td>0.75</td>\n",
       "      <td>0.08</td>\n",
       "    </tr>\n",
       "    <tr>\n",
       "      <th>maxtemp</th>\n",
       "      <td>0.77</td>\n",
       "      <td>1.00</td>\n",
       "      <td>-0.14</td>\n",
       "      <td>0.51</td>\n",
       "      <td>0.33</td>\n",
       "      <td>0.07</td>\n",
       "      <td>-0.35</td>\n",
       "      <td>0.16</td>\n",
       "      <td>-0.19</td>\n",
       "      <td>-0.15</td>\n",
       "      <td>-0.39</td>\n",
       "      <td>-0.42</td>\n",
       "      <td>-0.08</td>\n",
       "      <td>-0.10</td>\n",
       "      <td>0.86</td>\n",
       "      <td>0.96</td>\n",
       "      <td>-0.15</td>\n",
       "    </tr>\n",
       "    <tr>\n",
       "      <th>rainfall</th>\n",
       "      <td>0.01</td>\n",
       "      <td>-0.14</td>\n",
       "      <td>1.00</td>\n",
       "      <td>-0.11</td>\n",
       "      <td>-0.31</td>\n",
       "      <td>0.15</td>\n",
       "      <td>0.15</td>\n",
       "      <td>0.04</td>\n",
       "      <td>0.33</td>\n",
       "      <td>0.31</td>\n",
       "      <td>-0.04</td>\n",
       "      <td>0.00</td>\n",
       "      <td>0.25</td>\n",
       "      <td>0.20</td>\n",
       "      <td>-0.05</td>\n",
       "      <td>-0.14</td>\n",
       "      <td>0.30</td>\n",
       "    </tr>\n",
       "    <tr>\n",
       "      <th>evaporation</th>\n",
       "      <td>0.57</td>\n",
       "      <td>0.51</td>\n",
       "      <td>-0.11</td>\n",
       "      <td>1.00</td>\n",
       "      <td>0.18</td>\n",
       "      <td>0.25</td>\n",
       "      <td>-0.08</td>\n",
       "      <td>0.29</td>\n",
       "      <td>-0.40</td>\n",
       "      <td>-0.10</td>\n",
       "      <td>-0.34</td>\n",
       "      <td>-0.30</td>\n",
       "      <td>-0.04</td>\n",
       "      <td>-0.04</td>\n",
       "      <td>0.61</td>\n",
       "      <td>0.47</td>\n",
       "      <td>-0.07</td>\n",
       "    </tr>\n",
       "    <tr>\n",
       "      <th>sunshine</th>\n",
       "      <td>-0.06</td>\n",
       "      <td>0.33</td>\n",
       "      <td>-0.31</td>\n",
       "      <td>0.18</td>\n",
       "      <td>1.00</td>\n",
       "      <td>-0.03</td>\n",
       "      <td>-0.06</td>\n",
       "      <td>0.18</td>\n",
       "      <td>-0.49</td>\n",
       "      <td>-0.59</td>\n",
       "      <td>-0.05</td>\n",
       "      <td>-0.09</td>\n",
       "      <td>-0.67</td>\n",
       "      <td>-0.68</td>\n",
       "      <td>0.11</td>\n",
       "      <td>0.35</td>\n",
       "      <td>-0.53</td>\n",
       "    </tr>\n",
       "    <tr>\n",
       "      <th>windgustspeed</th>\n",
       "      <td>0.13</td>\n",
       "      <td>0.07</td>\n",
       "      <td>0.15</td>\n",
       "      <td>0.25</td>\n",
       "      <td>-0.03</td>\n",
       "      <td>1.00</td>\n",
       "      <td>0.26</td>\n",
       "      <td>0.51</td>\n",
       "      <td>-0.23</td>\n",
       "      <td>-0.10</td>\n",
       "      <td>-0.41</td>\n",
       "      <td>-0.35</td>\n",
       "      <td>0.02</td>\n",
       "      <td>0.04</td>\n",
       "      <td>0.16</td>\n",
       "      <td>0.04</td>\n",
       "      <td>0.15</td>\n",
       "    </tr>\n",
       "    <tr>\n",
       "      <th>windspeed9am</th>\n",
       "      <td>-0.30</td>\n",
       "      <td>-0.35</td>\n",
       "      <td>0.15</td>\n",
       "      <td>-0.08</td>\n",
       "      <td>-0.06</td>\n",
       "      <td>0.26</td>\n",
       "      <td>1.00</td>\n",
       "      <td>0.20</td>\n",
       "      <td>-0.19</td>\n",
       "      <td>-0.15</td>\n",
       "      <td>0.00</td>\n",
       "      <td>0.09</td>\n",
       "      <td>-0.06</td>\n",
       "      <td>-0.02</td>\n",
       "      <td>-0.33</td>\n",
       "      <td>-0.35</td>\n",
       "      <td>0.07</td>\n",
       "    </tr>\n",
       "    <tr>\n",
       "      <th>windspeed3pm</th>\n",
       "      <td>0.23</td>\n",
       "      <td>0.16</td>\n",
       "      <td>0.04</td>\n",
       "      <td>0.29</td>\n",
       "      <td>0.18</td>\n",
       "      <td>0.51</td>\n",
       "      <td>0.20</td>\n",
       "      <td>1.00</td>\n",
       "      <td>-0.29</td>\n",
       "      <td>-0.14</td>\n",
       "      <td>-0.33</td>\n",
       "      <td>-0.28</td>\n",
       "      <td>-0.05</td>\n",
       "      <td>-0.10</td>\n",
       "      <td>0.28</td>\n",
       "      <td>0.14</td>\n",
       "      <td>-0.01</td>\n",
       "    </tr>\n",
       "    <tr>\n",
       "      <th>humidity9am</th>\n",
       "      <td>0.05</td>\n",
       "      <td>-0.19</td>\n",
       "      <td>0.33</td>\n",
       "      <td>-0.40</td>\n",
       "      <td>-0.49</td>\n",
       "      <td>-0.23</td>\n",
       "      <td>-0.19</td>\n",
       "      <td>-0.29</td>\n",
       "      <td>1.00</td>\n",
       "      <td>0.66</td>\n",
       "      <td>0.26</td>\n",
       "      <td>0.25</td>\n",
       "      <td>0.43</td>\n",
       "      <td>0.33</td>\n",
       "      <td>-0.15</td>\n",
       "      <td>-0.16</td>\n",
       "      <td>0.34</td>\n",
       "    </tr>\n",
       "    <tr>\n",
       "      <th>humidity3pm</th>\n",
       "      <td>0.27</td>\n",
       "      <td>-0.15</td>\n",
       "      <td>0.31</td>\n",
       "      <td>-0.10</td>\n",
       "      <td>-0.59</td>\n",
       "      <td>-0.10</td>\n",
       "      <td>-0.15</td>\n",
       "      <td>-0.14</td>\n",
       "      <td>0.66</td>\n",
       "      <td>1.00</td>\n",
       "      <td>0.15</td>\n",
       "      <td>0.18</td>\n",
       "      <td>0.46</td>\n",
       "      <td>0.47</td>\n",
       "      <td>0.13</td>\n",
       "      <td>-0.21</td>\n",
       "      <td>0.48</td>\n",
       "    </tr>\n",
       "    <tr>\n",
       "      <th>pressure9am</th>\n",
       "      <td>-0.39</td>\n",
       "      <td>-0.39</td>\n",
       "      <td>-0.04</td>\n",
       "      <td>-0.34</td>\n",
       "      <td>-0.05</td>\n",
       "      <td>-0.41</td>\n",
       "      <td>0.00</td>\n",
       "      <td>-0.33</td>\n",
       "      <td>0.26</td>\n",
       "      <td>0.15</td>\n",
       "      <td>1.00</td>\n",
       "      <td>0.96</td>\n",
       "      <td>-0.02</td>\n",
       "      <td>-0.04</td>\n",
       "      <td>-0.42</td>\n",
       "      <td>-0.34</td>\n",
       "      <td>-0.03</td>\n",
       "    </tr>\n",
       "    <tr>\n",
       "      <th>pressure3pm</th>\n",
       "      <td>-0.35</td>\n",
       "      <td>-0.42</td>\n",
       "      <td>0.00</td>\n",
       "      <td>-0.30</td>\n",
       "      <td>-0.09</td>\n",
       "      <td>-0.35</td>\n",
       "      <td>0.09</td>\n",
       "      <td>-0.28</td>\n",
       "      <td>0.25</td>\n",
       "      <td>0.18</td>\n",
       "      <td>0.96</td>\n",
       "      <td>1.00</td>\n",
       "      <td>0.01</td>\n",
       "      <td>-0.00</td>\n",
       "      <td>-0.40</td>\n",
       "      <td>-0.39</td>\n",
       "      <td>0.01</td>\n",
       "    </tr>\n",
       "    <tr>\n",
       "      <th>cloud9am</th>\n",
       "      <td>0.24</td>\n",
       "      <td>-0.08</td>\n",
       "      <td>0.25</td>\n",
       "      <td>-0.04</td>\n",
       "      <td>-0.67</td>\n",
       "      <td>0.02</td>\n",
       "      <td>-0.06</td>\n",
       "      <td>-0.05</td>\n",
       "      <td>0.43</td>\n",
       "      <td>0.46</td>\n",
       "      <td>-0.02</td>\n",
       "      <td>0.01</td>\n",
       "      <td>1.00</td>\n",
       "      <td>0.60</td>\n",
       "      <td>0.09</td>\n",
       "      <td>-0.09</td>\n",
       "      <td>0.34</td>\n",
       "    </tr>\n",
       "    <tr>\n",
       "      <th>cloud3pm</th>\n",
       "      <td>0.16</td>\n",
       "      <td>-0.10</td>\n",
       "      <td>0.20</td>\n",
       "      <td>-0.04</td>\n",
       "      <td>-0.68</td>\n",
       "      <td>0.04</td>\n",
       "      <td>-0.02</td>\n",
       "      <td>-0.10</td>\n",
       "      <td>0.33</td>\n",
       "      <td>0.47</td>\n",
       "      <td>-0.04</td>\n",
       "      <td>-0.00</td>\n",
       "      <td>0.60</td>\n",
       "      <td>1.00</td>\n",
       "      <td>0.07</td>\n",
       "      <td>-0.14</td>\n",
       "      <td>0.42</td>\n",
       "    </tr>\n",
       "    <tr>\n",
       "      <th>temp9am</th>\n",
       "      <td>0.94</td>\n",
       "      <td>0.86</td>\n",
       "      <td>-0.05</td>\n",
       "      <td>0.61</td>\n",
       "      <td>0.11</td>\n",
       "      <td>0.16</td>\n",
       "      <td>-0.33</td>\n",
       "      <td>0.28</td>\n",
       "      <td>-0.15</td>\n",
       "      <td>0.13</td>\n",
       "      <td>-0.42</td>\n",
       "      <td>-0.40</td>\n",
       "      <td>0.09</td>\n",
       "      <td>0.07</td>\n",
       "      <td>1.00</td>\n",
       "      <td>0.83</td>\n",
       "      <td>0.00</td>\n",
       "    </tr>\n",
       "    <tr>\n",
       "      <th>temp3pm</th>\n",
       "      <td>0.75</td>\n",
       "      <td>0.96</td>\n",
       "      <td>-0.14</td>\n",
       "      <td>0.47</td>\n",
       "      <td>0.35</td>\n",
       "      <td>0.04</td>\n",
       "      <td>-0.35</td>\n",
       "      <td>0.14</td>\n",
       "      <td>-0.16</td>\n",
       "      <td>-0.21</td>\n",
       "      <td>-0.34</td>\n",
       "      <td>-0.39</td>\n",
       "      <td>-0.09</td>\n",
       "      <td>-0.14</td>\n",
       "      <td>0.83</td>\n",
       "      <td>1.00</td>\n",
       "      <td>-0.19</td>\n",
       "    </tr>\n",
       "    <tr>\n",
       "      <th>raintomorrow</th>\n",
       "      <td>0.08</td>\n",
       "      <td>-0.15</td>\n",
       "      <td>0.30</td>\n",
       "      <td>-0.07</td>\n",
       "      <td>-0.53</td>\n",
       "      <td>0.15</td>\n",
       "      <td>0.07</td>\n",
       "      <td>-0.01</td>\n",
       "      <td>0.34</td>\n",
       "      <td>0.48</td>\n",
       "      <td>-0.03</td>\n",
       "      <td>0.01</td>\n",
       "      <td>0.34</td>\n",
       "      <td>0.42</td>\n",
       "      <td>0.00</td>\n",
       "      <td>-0.19</td>\n",
       "      <td>1.00</td>\n",
       "    </tr>\n",
       "  </tbody>\n",
       "</table>\n",
       "</div>"
      ],
      "text/plain": [
       "               mintemp  maxtemp  rainfall  evaporation  sunshine  windgustspeed  windspeed9am  windspeed3pm  humidity9am  humidity3pm  pressure9am  pressure3pm  cloud9am  cloud3pm  temp9am  temp3pm  raintomorrow\n",
       "mintemp           1.00     0.77      0.01         0.57     -0.06           0.13         -0.30          0.23         0.05         0.27        -0.39        -0.35      0.24      0.16     0.94     0.75          0.08\n",
       "maxtemp           0.77     1.00     -0.14         0.51      0.33           0.07         -0.35          0.16        -0.19        -0.15        -0.39        -0.42     -0.08     -0.10     0.86     0.96         -0.15\n",
       "rainfall          0.01    -0.14      1.00        -0.11     -0.31           0.15          0.15          0.04         0.33         0.31        -0.04         0.00      0.25      0.20    -0.05    -0.14          0.30\n",
       "evaporation       0.57     0.51     -0.11         1.00      0.18           0.25         -0.08          0.29        -0.40        -0.10        -0.34        -0.30     -0.04     -0.04     0.61     0.47         -0.07\n",
       "sunshine         -0.06     0.33     -0.31         0.18      1.00          -0.03         -0.06          0.18        -0.49        -0.59        -0.05        -0.09     -0.67     -0.68     0.11     0.35         -0.53\n",
       "windgustspeed     0.13     0.07      0.15         0.25     -0.03           1.00          0.26          0.51        -0.23        -0.10        -0.41        -0.35      0.02      0.04     0.16     0.04          0.15\n",
       "windspeed9am     -0.30    -0.35      0.15        -0.08     -0.06           0.26          1.00          0.20        -0.19        -0.15         0.00         0.09     -0.06     -0.02    -0.33    -0.35          0.07\n",
       "windspeed3pm      0.23     0.16      0.04         0.29      0.18           0.51          0.20          1.00        -0.29        -0.14        -0.33        -0.28     -0.05     -0.10     0.28     0.14         -0.01\n",
       "humidity9am       0.05    -0.19      0.33        -0.40     -0.49          -0.23         -0.19         -0.29         1.00         0.66         0.26         0.25      0.43      0.33    -0.15    -0.16          0.34\n",
       "humidity3pm       0.27    -0.15      0.31        -0.10     -0.59          -0.10         -0.15         -0.14         0.66         1.00         0.15         0.18      0.46      0.47     0.13    -0.21          0.48\n",
       "pressure9am      -0.39    -0.39     -0.04        -0.34     -0.05          -0.41          0.00         -0.33         0.26         0.15         1.00         0.96     -0.02     -0.04    -0.42    -0.34         -0.03\n",
       "pressure3pm      -0.35    -0.42      0.00        -0.30     -0.09          -0.35          0.09         -0.28         0.25         0.18         0.96         1.00      0.01     -0.00    -0.40    -0.39          0.01\n",
       "cloud9am          0.24    -0.08      0.25        -0.04     -0.67           0.02         -0.06         -0.05         0.43         0.46        -0.02         0.01      1.00      0.60     0.09    -0.09          0.34\n",
       "cloud3pm          0.16    -0.10      0.20        -0.04     -0.68           0.04         -0.02         -0.10         0.33         0.47        -0.04        -0.00      0.60      1.00     0.07    -0.14          0.42\n",
       "temp9am           0.94     0.86     -0.05         0.61      0.11           0.16         -0.33          0.28        -0.15         0.13        -0.42        -0.40      0.09      0.07     1.00     0.83          0.00\n",
       "temp3pm           0.75     0.96     -0.14         0.47      0.35           0.04         -0.35          0.14        -0.16        -0.21        -0.34        -0.39     -0.09     -0.14     0.83     1.00         -0.19\n",
       "raintomorrow      0.08    -0.15      0.30        -0.07     -0.53           0.15          0.07         -0.01         0.34         0.48        -0.03         0.01      0.34      0.42     0.00    -0.19          1.00"
      ]
     },
     "execution_count": 18,
     "metadata": {},
     "output_type": "execute_result"
    }
   ],
   "source": [
    "df.corr()"
   ]
  },
  {
   "cell_type": "code",
   "execution_count": 19,
   "metadata": {},
   "outputs": [
    {
     "data": {
      "image/png": "[encoded data removed]",
      "text/plain": [
       "<Figure size 1152x648 with 2 Axes>"
      ]
     },
     "metadata": {},
     "output_type": "display_data"
    }
   ],
   "source": [
    "plt.figure(figsize=(16,9))\n",
    "sns.heatmap(df.corr(),cmap=\"coolwarm\",annot=True,fmt='.2f',linewidths=2)\n",
    "plt.title(\"Correlation Heatmap\", fontsize=20)\n",
    "plt.show()"
   ]
  },
  {
   "cell_type": "markdown",
   "metadata": {},
   "source": [
    "**==================================================================================================================**"
   ]
  },
  {
   "cell_type": "markdown",
   "metadata": {},
   "source": [
    "## Train Test Split"
   ]
  },
  {
   "cell_type": "markdown",
   "metadata": {},
   "source": [
    "We've prepared our data and we're ready to model. There's one last step before we can begin. We must split the data into features and target variable, and into training data and test data. We do this using the `train_test_split()` function. We'll put 25% of the data into our test set, and use the remaining 75% to train the model.\n",
    "\n",
    "Notice below that we include the argument `stratify=y`. If our master data has a class split of 80/20, stratifying ensures that this proportion is maintained in both the training and test data. `=y` tells the function that it should use the class ratio found in the `y` variable (our target).\n",
    "\n",
    "The less data you have overall, and the greater your class imbalance, the more important it is to stratify when you split the data. If we didn’t stratify, then the function would split the data randomly, and we could get an unlucky split that doesn’t get any of the minority class in the test data, which means we wouldn’t be able to effectively evaluate our model. Worst of all, we might not even realize what went wrong without doing some detective work.\n",
    "\n",
    "Lastly, we set a random seed so we and others can reproduce our work.\n",
    "\n",
    "<img src=\"trin-test.png\">"
   ]
  },
  {
   "cell_type": "code",
   "execution_count": 20,
   "metadata": {},
   "outputs": [
    {
     "data": {
      "text/plain": [
       "(3271, 22)"
      ]
     },
     "execution_count": 20,
     "metadata": {},
     "output_type": "execute_result"
    }
   ],
   "source": [
    "df.shape"
   ]
  },
  {
   "cell_type": "code",
   "execution_count": 21,
   "metadata": {},
   "outputs": [],
   "source": [
    "X = df.iloc[:,0:21]\n",
    "y = df.iloc[:,21]"
   ]
  },
  {
   "cell_type": "code",
   "execution_count": 22,
   "metadata": {},
   "outputs": [
    {
     "data": {
      "text/plain": [
       "(array([['2008-02-01', 19.5, 22.4, ..., 20.7, 20.9, 'Yes'],\n",
       "        ['2008-02-02', 19.5, 25.6, ..., 22.4, 24.8, 'Yes'],\n",
       "        ['2008-02-03', 21.6, 24.5, ..., 23.5, 23.0, 'Yes'],\n",
       "        ...,\n",
       "        ['2017-06-23', 9.4, 17.7, ..., 10.2, 17.3, 'No'],\n",
       "        ['2017-06-24', 10.1, 19.3, ..., 12.4, 19.0, 'No'],\n",
       "        ['2017-06-25', 7.6, 19.3, ..., 9.4, 18.8, 'No']], dtype=object),\n",
       " array([1, 1, 1, ..., 0, 0, 0], dtype=int64))"
      ]
     },
     "execution_count": 22,
     "metadata": {},
     "output_type": "execute_result"
    }
   ],
   "source": [
    "X.values, y.values"
   ]
  },
  {
   "cell_type": "code",
   "execution_count": 23,
   "metadata": {},
   "outputs": [],
   "source": [
    "X_train, X_test, y_train, y_test = train_test_split(X, y, test_size=0.2, random_state=0, stratify=y)"
   ]
  },
  {
   "cell_type": "code",
   "execution_count": 24,
   "metadata": {},
   "outputs": [
    {
     "data": {
      "text/plain": [
       "((2616, 21), (655, 21), (2616,), (655,))"
      ]
     },
     "execution_count": 24,
     "metadata": {},
     "output_type": "execute_result"
    }
   ],
   "source": [
    "X_train.shape, X_test.shape, y_train.shape, y_test.shape"
   ]
  },
  {
   "cell_type": "code",
   "execution_count": 25,
   "metadata": {},
   "outputs": [
    {
     "data": {
      "text/plain": [
       "(Counter({0: 1937, 1: 679}), Counter({0: 485, 1: 170}))"
      ]
     },
     "execution_count": 25,
     "metadata": {},
     "output_type": "execute_result"
    }
   ],
   "source": [
    "Counter(y_train), Counter(y_test)"
   ]
  },
  {
   "cell_type": "markdown",
   "metadata": {},
   "source": [
    "**==================================================================================================================**"
   ]
  },
  {
   "cell_type": "code",
   "execution_count": 26,
   "metadata": {},
   "outputs": [
    {
     "data": {
      "text/plain": [
       "0    2422\n",
       "1     849\n",
       "Name: raintomorrow, dtype: int64"
      ]
     },
     "execution_count": 26,
     "metadata": {},
     "output_type": "execute_result"
    }
   ],
   "source": [
    "y.value_counts()"
   ]
  },
  {
   "cell_type": "code",
   "execution_count": 27,
   "metadata": {},
   "outputs": [
    {
     "data": {
      "text/plain": [
       "2.852767962308598"
      ]
     },
     "execution_count": 27,
     "metadata": {},
     "output_type": "execute_result"
    }
   ],
   "source": [
    "(y == 0).sum() / (y == 1).sum() "
   ]
  },
  {
   "cell_type": "markdown",
   "metadata": {},
   "source": [
    "**=================================================================================================================**"
   ]
  },
  {
   "cell_type": "markdown",
   "metadata": {},
   "source": [
    "## Data Pipelines\n",
    "\n",
    "Data Pipelines simplify the steps of processing the data. We use the module <code>Pipeline</code> to create a pipeline. \n",
    "`Pipeline` lets you chain together multiple operators on your data that both have a `fit` method.\n",
    "\n",
    "### Combine multiple processing steps into a `Pipeline`\n",
    "\n",
    "A pipeline contains a series of steps, where a step is (\"name of step\", actual_model). The \"name of step\" string is only used to help you identify which step you are on, and to allow you to specify parameters at that step.  "
   ]
  },
  {
   "cell_type": "code",
   "execution_count": 28,
   "metadata": {},
   "outputs": [],
   "source": [
    "# Declare preprocessing functions\n",
    "\n",
    "#imp = SimpleImputer(missing_values=np.nan, strategy='mean')\n",
    "#ohe = OneHotEncoder()\n",
    "#oe = OrdinalEncoder()\n",
    "#ss = StandardScaler()\n",
    "#mm = MinMaxScaler()\n",
    "#skbest = SelectKBest()"
   ]
  },
  {
   "cell_type": "code",
   "execution_count": 29,
   "metadata": {},
   "outputs": [
    {
     "data": {
      "text/plain": [
       "['mintemp',\n",
       " 'maxtemp',\n",
       " 'rainfall',\n",
       " 'evaporation',\n",
       " 'sunshine',\n",
       " 'windgustspeed',\n",
       " 'windspeed9am',\n",
       " 'windspeed3pm',\n",
       " 'humidity9am',\n",
       " 'humidity3pm',\n",
       " 'pressure9am',\n",
       " 'pressure3pm',\n",
       " 'cloud9am',\n",
       " 'cloud3pm',\n",
       " 'temp9am',\n",
       " 'temp3pm',\n",
       " 'raintomorrow']"
      ]
     },
     "execution_count": 29,
     "metadata": {},
     "output_type": "execute_result"
    }
   ],
   "source": [
    "list(df.select_dtypes(include=[\"int64\",\"float64\"]))"
   ]
  },
  {
   "cell_type": "code",
   "execution_count": 30,
   "metadata": {},
   "outputs": [
    {
     "data": {
      "text/plain": [
       "['date', 'windgustdir', 'winddir9am', 'winddir3pm', 'raintoday']"
      ]
     },
     "execution_count": 30,
     "metadata": {},
     "output_type": "execute_result"
    }
   ],
   "source": [
    "list(df.select_dtypes(include=[\"bool\",\"object\"]))"
   ]
  },
  {
   "cell_type": "code",
   "execution_count": 31,
   "metadata": {},
   "outputs": [],
   "source": [
    "dropcols = ['date']"
   ]
  },
  {
   "cell_type": "code",
   "execution_count": 32,
   "metadata": {},
   "outputs": [],
   "source": [
    "numcols = ['mintemp', 'maxtemp', 'rainfall', 'evaporation', 'sunshine', 'windgustspeed', 'windspeed9am', 'windspeed3pm',\n",
    " 'humidity9am', 'humidity3pm', 'pressure9am', 'pressure3pm', 'cloud9am', 'cloud3pm', 'temp9am', 'temp3pm']"
   ]
  },
  {
   "cell_type": "code",
   "execution_count": 33,
   "metadata": {},
   "outputs": [],
   "source": [
    "catcols = ['windgustdir', 'winddir9am', 'winddir3pm', 'raintoday']"
   ]
  },
  {
   "cell_type": "code",
   "execution_count": 34,
   "metadata": {},
   "outputs": [],
   "source": [
    "# We create the preprocessing pipelines for both\n",
    "# numerical and categorical data\n",
    "\n",
    "\n",
    "drop_transformer = ColumnTransformer(transformers=\n",
    "                                    (\"dropcolumns\", \"drop\", dropcols)\n",
    "                                    )\n",
    "\n",
    "numeric_transformer = Pipeline(steps=[\n",
    "                              #(\"imputer\", SimpleImputer(missing_values=np.nan, strategy='mean')),\n",
    "                              #(\"scalar\", StandardScaler()),\n",
    "                               (\"minmax\", MinMaxScaler()),\n",
    "])\n",
    "\n",
    "categorical_transformer = Pipeline(steps=[\n",
    "    \n",
    "                                  #(\"imputer\", SimpleImputer(strategy=\"most_frequent\")),\n",
    "                                  #(\"onehot\", OneHotEncoder(sparse_output=False, drop ='if_binary')),\n",
    "                                   (\"ordinal\", OrdinalEncoder(categories='auto'))\n",
    "    \n",
    "    \n",
    "])"
   ]
  },
  {
   "cell_type": "code",
   "execution_count": 35,
   "metadata": {},
   "outputs": [],
   "source": [
    "preprocessor = ColumnTransformer(\n",
    "               transformers=[\n",
    "                           (\"dropcolumns\", \"drop\", dropcols),\n",
    "                           (\"numerical\", numeric_transformer, numcols),\n",
    "                           (\"categorical\", categorical_transformer, catcols),\n",
    "                   \n",
    "                            ],\n",
    "               remainder=\"passthrough\",\n",
    "               verbose_feature_names_out=False)"
   ]
  },
  {
   "cell_type": "markdown",
   "metadata": {},
   "source": [
    "**=================================================================================================================**"
   ]
  },
  {
   "cell_type": "markdown",
   "metadata": {},
   "source": [
    "# Linear Regression"
   ]
  },
  {
   "cell_type": "code",
   "execution_count": 36,
   "metadata": {},
   "outputs": [],
   "source": [
    "lrpipeline = Pipeline(steps=\n",
    "                     [\n",
    "                      (\"preprocessing\", preprocessor),  \n",
    "                      ( \"linreg\",  LinearRegression())\n",
    "                     ])"
   ]
  },
  {
   "cell_type": "code",
   "execution_count": 37,
   "metadata": {},
   "outputs": [
    {
     "data": {
      "text/html": [
       "<style>#sk-container-id-1 {color: black;background-color: white;}#sk-container-id-1 pre{padding: 0;}#sk-container-id-1 div.sk-toggleable {background-color: white;}#sk-container-id-1 label.sk-toggleable__label {cursor: pointer;display: block;width: 100%;margin-bottom: 0;padding: 0.3em;box-sizing: border-box;text-align: center;}#sk-container-id-1 label.sk-toggleable__label-arrow:before {content: \"▸\";float: left;margin-right: 0.25em;color: #696969;}#sk-container-id-1 label.sk-toggleable__label-arrow:hover:before {color: black;}#sk-container-id-1 div.sk-estimator:hover label.sk-toggleable__label-arrow:before {color: black;}#sk-container-id-1 div.sk-toggleable__content {max-height: 0;max-width: 0;overflow: hidden;text-align: left;background-color: #f0f8ff;}#sk-container-id-1 div.sk-toggleable__content pre {margin: 0.2em;color: black;border-radius: 0.25em;background-color: #f0f8ff;}#sk-container-id-1 input.sk-toggleable__control:checked~div.sk-toggleable__content {max-height: 200px;max-width: 100%;overflow: auto;}#sk-container-id-1 input.sk-toggleable__control:checked~label.sk-toggleable__label-arrow:before {content: \"▾\";}#sk-container-id-1 div.sk-estimator input.sk-toggleable__control:checked~label.sk-toggleable__label {background-color: #d4ebff;}#sk-container-id-1 div.sk-label input.sk-toggleable__control:checked~label.sk-toggleable__label {background-color: #d4ebff;}#sk-container-id-1 input.sk-hidden--visually {border: 0;clip: rect(1px 1px 1px 1px);clip: rect(1px, 1px, 1px, 1px);height: 1px;margin: -1px;overflow: hidden;padding: 0;position: absolute;width: 1px;}#sk-container-id-1 div.sk-estimator {font-family: monospace;background-color: #f0f8ff;border: 1px dotted black;border-radius: 0.25em;box-sizing: border-box;margin-bottom: 0.5em;}#sk-container-id-1 div.sk-estimator:hover {background-color: #d4ebff;}#sk-container-id-1 div.sk-parallel-item::after {content: \"\";width: 100%;border-bottom: 1px solid gray;flex-grow: 1;}#sk-container-id-1 div.sk-label:hover label.sk-toggleable__label {background-color: #d4ebff;}#sk-container-id-1 div.sk-serial::before {content: \"\";position: absolute;border-left: 1px solid gray;box-sizing: border-box;top: 0;bottom: 0;left: 50%;z-index: 0;}#sk-container-id-1 div.sk-serial {display: flex;flex-direction: column;align-items: center;background-color: white;padding-right: 0.2em;padding-left: 0.2em;position: relative;}#sk-container-id-1 div.sk-item {position: relative;z-index: 1;}#sk-container-id-1 div.sk-parallel {display: flex;align-items: stretch;justify-content: center;background-color: white;position: relative;}#sk-container-id-1 div.sk-item::before, #sk-container-id-1 div.sk-parallel-item::before {content: \"\";position: absolute;border-left: 1px solid gray;box-sizing: border-box;top: 0;bottom: 0;left: 50%;z-index: -1;}#sk-container-id-1 div.sk-parallel-item {display: flex;flex-direction: column;z-index: 1;position: relative;background-color: white;}#sk-container-id-1 div.sk-parallel-item:first-child::after {align-self: flex-end;width: 50%;}#sk-container-id-1 div.sk-parallel-item:last-child::after {align-self: flex-start;width: 50%;}#sk-container-id-1 div.sk-parallel-item:only-child::after {width: 0;}#sk-container-id-1 div.sk-dashed-wrapped {border: 1px dashed gray;margin: 0 0.4em 0.5em 0.4em;box-sizing: border-box;padding-bottom: 0.4em;background-color: white;}#sk-container-id-1 div.sk-label label {font-family: monospace;font-weight: bold;display: inline-block;line-height: 1.2em;}#sk-container-id-1 div.sk-label-container {text-align: center;}#sk-container-id-1 div.sk-container {/* jupyter's `normalize.less` sets `[hidden] { display: none; }` but bootstrap.min.css set `[hidden] { display: none !important; }` so we also need the `!important` here to be able to override the default hidden behavior on the sphinx rendered scikit-learn.org. See: https://github.com/scikit-learn/scikit-learn/issues/21755 */display: inline-block !important;position: relative;}#sk-container-id-1 div.sk-text-repr-fallback {display: none;}</style><div id=\"sk-container-id-1\" class=\"sk-top-container\"><div class=\"sk-text-repr-fallback\"><pre>Pipeline(steps=[(&#x27;preprocessing&#x27;,\n",
       "                 ColumnTransformer(remainder=&#x27;passthrough&#x27;,\n",
       "                                   transformers=[(&#x27;dropcolumns&#x27;, &#x27;drop&#x27;,\n",
       "                                                  [&#x27;date&#x27;]),\n",
       "                                                 (&#x27;numerical&#x27;,\n",
       "                                                  Pipeline(steps=[(&#x27;minmax&#x27;,\n",
       "                                                                   MinMaxScaler())]),\n",
       "                                                  [&#x27;mintemp&#x27;, &#x27;maxtemp&#x27;,\n",
       "                                                   &#x27;rainfall&#x27;, &#x27;evaporation&#x27;,\n",
       "                                                   &#x27;sunshine&#x27;, &#x27;windgustspeed&#x27;,\n",
       "                                                   &#x27;windspeed9am&#x27;,\n",
       "                                                   &#x27;windspeed3pm&#x27;,\n",
       "                                                   &#x27;humidity9am&#x27;, &#x27;humidity3pm&#x27;,\n",
       "                                                   &#x27;pressure9am&#x27;, &#x27;pressure3pm&#x27;,\n",
       "                                                   &#x27;cloud9am&#x27;, &#x27;cloud3pm&#x27;,\n",
       "                                                   &#x27;temp9am&#x27;, &#x27;temp3pm&#x27;]),\n",
       "                                                 (&#x27;categorical&#x27;,\n",
       "                                                  Pipeline(steps=[(&#x27;ordinal&#x27;,\n",
       "                                                                   OrdinalEncoder())]),\n",
       "                                                  [&#x27;windgustdir&#x27;, &#x27;winddir9am&#x27;,\n",
       "                                                   &#x27;winddir3pm&#x27;,\n",
       "                                                   &#x27;raintoday&#x27;])],\n",
       "                                   verbose_feature_names_out=False)),\n",
       "                (&#x27;linreg&#x27;, LinearRegression())])</pre><b>In a Jupyter environment, please rerun this cell to show the HTML representation or trust the notebook. <br />On GitHub, the HTML representation is unable to render, please try loading this page with nbviewer.org.</b></div><div class=\"sk-container\" hidden><div class=\"sk-item sk-dashed-wrapped\"><div class=\"sk-label-container\"><div class=\"sk-label sk-toggleable\"><input class=\"sk-toggleable__control sk-hidden--visually\" id=\"sk-estimator-id-1\" type=\"checkbox\" ><label for=\"sk-estimator-id-1\" class=\"sk-toggleable__label sk-toggleable__label-arrow\">Pipeline</label><div class=\"sk-toggleable__content\"><pre>Pipeline(steps=[(&#x27;preprocessing&#x27;,\n",
       "                 ColumnTransformer(remainder=&#x27;passthrough&#x27;,\n",
       "                                   transformers=[(&#x27;dropcolumns&#x27;, &#x27;drop&#x27;,\n",
       "                                                  [&#x27;date&#x27;]),\n",
       "                                                 (&#x27;numerical&#x27;,\n",
       "                                                  Pipeline(steps=[(&#x27;minmax&#x27;,\n",
       "                                                                   MinMaxScaler())]),\n",
       "                                                  [&#x27;mintemp&#x27;, &#x27;maxtemp&#x27;,\n",
       "                                                   &#x27;rainfall&#x27;, &#x27;evaporation&#x27;,\n",
       "                                                   &#x27;sunshine&#x27;, &#x27;windgustspeed&#x27;,\n",
       "                                                   &#x27;windspeed9am&#x27;,\n",
       "                                                   &#x27;windspeed3pm&#x27;,\n",
       "                                                   &#x27;humidity9am&#x27;, &#x27;humidity3pm&#x27;,\n",
       "                                                   &#x27;pressure9am&#x27;, &#x27;pressure3pm&#x27;,\n",
       "                                                   &#x27;cloud9am&#x27;, &#x27;cloud3pm&#x27;,\n",
       "                                                   &#x27;temp9am&#x27;, &#x27;temp3pm&#x27;]),\n",
       "                                                 (&#x27;categorical&#x27;,\n",
       "                                                  Pipeline(steps=[(&#x27;ordinal&#x27;,\n",
       "                                                                   OrdinalEncoder())]),\n",
       "                                                  [&#x27;windgustdir&#x27;, &#x27;winddir9am&#x27;,\n",
       "                                                   &#x27;winddir3pm&#x27;,\n",
       "                                                   &#x27;raintoday&#x27;])],\n",
       "                                   verbose_feature_names_out=False)),\n",
       "                (&#x27;linreg&#x27;, LinearRegression())])</pre></div></div></div><div class=\"sk-serial\"><div class=\"sk-item sk-dashed-wrapped\"><div class=\"sk-label-container\"><div class=\"sk-label sk-toggleable\"><input class=\"sk-toggleable__control sk-hidden--visually\" id=\"sk-estimator-id-2\" type=\"checkbox\" ><label for=\"sk-estimator-id-2\" class=\"sk-toggleable__label sk-toggleable__label-arrow\">preprocessing: ColumnTransformer</label><div class=\"sk-toggleable__content\"><pre>ColumnTransformer(remainder=&#x27;passthrough&#x27;,\n",
       "                  transformers=[(&#x27;dropcolumns&#x27;, &#x27;drop&#x27;, [&#x27;date&#x27;]),\n",
       "                                (&#x27;numerical&#x27;,\n",
       "                                 Pipeline(steps=[(&#x27;minmax&#x27;, MinMaxScaler())]),\n",
       "                                 [&#x27;mintemp&#x27;, &#x27;maxtemp&#x27;, &#x27;rainfall&#x27;,\n",
       "                                  &#x27;evaporation&#x27;, &#x27;sunshine&#x27;, &#x27;windgustspeed&#x27;,\n",
       "                                  &#x27;windspeed9am&#x27;, &#x27;windspeed3pm&#x27;, &#x27;humidity9am&#x27;,\n",
       "                                  &#x27;humidity3pm&#x27;, &#x27;pressure9am&#x27;, &#x27;pressure3pm&#x27;,\n",
       "                                  &#x27;cloud9am&#x27;, &#x27;cloud3pm&#x27;, &#x27;temp9am&#x27;,\n",
       "                                  &#x27;temp3pm&#x27;]),\n",
       "                                (&#x27;categorical&#x27;,\n",
       "                                 Pipeline(steps=[(&#x27;ordinal&#x27;,\n",
       "                                                  OrdinalEncoder())]),\n",
       "                                 [&#x27;windgustdir&#x27;, &#x27;winddir9am&#x27;, &#x27;winddir3pm&#x27;,\n",
       "                                  &#x27;raintoday&#x27;])],\n",
       "                  verbose_feature_names_out=False)</pre></div></div></div><div class=\"sk-parallel\"><div class=\"sk-parallel-item\"><div class=\"sk-item\"><div class=\"sk-label-container\"><div class=\"sk-label sk-toggleable\"><input class=\"sk-toggleable__control sk-hidden--visually\" id=\"sk-estimator-id-3\" type=\"checkbox\" ><label for=\"sk-estimator-id-3\" class=\"sk-toggleable__label sk-toggleable__label-arrow\">dropcolumns</label><div class=\"sk-toggleable__content\"><pre>[&#x27;date&#x27;]</pre></div></div></div><div class=\"sk-serial\"><div class=\"sk-item\"><div class=\"sk-estimator sk-toggleable\"><input class=\"sk-toggleable__control sk-hidden--visually\" id=\"sk-estimator-id-4\" type=\"checkbox\" ><label for=\"sk-estimator-id-4\" class=\"sk-toggleable__label sk-toggleable__label-arrow\">drop</label><div class=\"sk-toggleable__content\"><pre>drop</pre></div></div></div></div></div></div><div class=\"sk-parallel-item\"><div class=\"sk-item\"><div class=\"sk-label-container\"><div class=\"sk-label sk-toggleable\"><input class=\"sk-toggleable__control sk-hidden--visually\" id=\"sk-estimator-id-5\" type=\"checkbox\" ><label for=\"sk-estimator-id-5\" class=\"sk-toggleable__label sk-toggleable__label-arrow\">numerical</label><div class=\"sk-toggleable__content\"><pre>[&#x27;mintemp&#x27;, &#x27;maxtemp&#x27;, &#x27;rainfall&#x27;, &#x27;evaporation&#x27;, &#x27;sunshine&#x27;, &#x27;windgustspeed&#x27;, &#x27;windspeed9am&#x27;, &#x27;windspeed3pm&#x27;, &#x27;humidity9am&#x27;, &#x27;humidity3pm&#x27;, &#x27;pressure9am&#x27;, &#x27;pressure3pm&#x27;, &#x27;cloud9am&#x27;, &#x27;cloud3pm&#x27;, &#x27;temp9am&#x27;, &#x27;temp3pm&#x27;]</pre></div></div></div><div class=\"sk-serial\"><div class=\"sk-item\"><div class=\"sk-serial\"><div class=\"sk-item\"><div class=\"sk-estimator sk-toggleable\"><input class=\"sk-toggleable__control sk-hidden--visually\" id=\"sk-estimator-id-6\" type=\"checkbox\" ><label for=\"sk-estimator-id-6\" class=\"sk-toggleable__label sk-toggleable__label-arrow\">MinMaxScaler</label><div class=\"sk-toggleable__content\"><pre>MinMaxScaler()</pre></div></div></div></div></div></div></div></div><div class=\"sk-parallel-item\"><div class=\"sk-item\"><div class=\"sk-label-container\"><div class=\"sk-label sk-toggleable\"><input class=\"sk-toggleable__control sk-hidden--visually\" id=\"sk-estimator-id-7\" type=\"checkbox\" ><label for=\"sk-estimator-id-7\" class=\"sk-toggleable__label sk-toggleable__label-arrow\">categorical</label><div class=\"sk-toggleable__content\"><pre>[&#x27;windgustdir&#x27;, &#x27;winddir9am&#x27;, &#x27;winddir3pm&#x27;, &#x27;raintoday&#x27;]</pre></div></div></div><div class=\"sk-serial\"><div class=\"sk-item\"><div class=\"sk-serial\"><div class=\"sk-item\"><div class=\"sk-estimator sk-toggleable\"><input class=\"sk-toggleable__control sk-hidden--visually\" id=\"sk-estimator-id-8\" type=\"checkbox\" ><label for=\"sk-estimator-id-8\" class=\"sk-toggleable__label sk-toggleable__label-arrow\">OrdinalEncoder</label><div class=\"sk-toggleable__content\"><pre>OrdinalEncoder()</pre></div></div></div></div></div></div></div></div><div class=\"sk-parallel-item\"><div class=\"sk-item\"><div class=\"sk-label-container\"><div class=\"sk-label sk-toggleable\"><input class=\"sk-toggleable__control sk-hidden--visually\" id=\"sk-estimator-id-9\" type=\"checkbox\" ><label for=\"sk-estimator-id-9\" class=\"sk-toggleable__label sk-toggleable__label-arrow\">remainder</label><div class=\"sk-toggleable__content\"><pre>[]</pre></div></div></div><div class=\"sk-serial\"><div class=\"sk-item\"><div class=\"sk-estimator sk-toggleable\"><input class=\"sk-toggleable__control sk-hidden--visually\" id=\"sk-estimator-id-10\" type=\"checkbox\" ><label for=\"sk-estimator-id-10\" class=\"sk-toggleable__label sk-toggleable__label-arrow\">passthrough</label><div class=\"sk-toggleable__content\"><pre>passthrough</pre></div></div></div></div></div></div></div></div><div class=\"sk-item\"><div class=\"sk-estimator sk-toggleable\"><input class=\"sk-toggleable__control sk-hidden--visually\" id=\"sk-estimator-id-11\" type=\"checkbox\" ><label for=\"sk-estimator-id-11\" class=\"sk-toggleable__label sk-toggleable__label-arrow\">LinearRegression</label><div class=\"sk-toggleable__content\"><pre>LinearRegression()</pre></div></div></div></div></div></div></div>"
      ],
      "text/plain": [
       "Pipeline(steps=[('preprocessing',\n",
       "                 ColumnTransformer(remainder='passthrough',\n",
       "                                   transformers=[('dropcolumns', 'drop',\n",
       "                                                  ['date']),\n",
       "                                                 ('numerical',\n",
       "                                                  Pipeline(steps=[('minmax',\n",
       "                                                                   MinMaxScaler())]),\n",
       "                                                  ['mintemp', 'maxtemp',\n",
       "                                                   'rainfall', 'evaporation',\n",
       "                                                   'sunshine', 'windgustspeed',\n",
       "                                                   'windspeed9am',\n",
       "                                                   'windspeed3pm',\n",
       "                                                   'humidity9am', 'humidity3pm',\n",
       "                                                   'pressure9am', 'pressure3pm',\n",
       "                                                   'cloud9am', 'cloud3pm',\n",
       "                                                   'temp9am', 'temp3pm']),\n",
       "                                                 ('categorical',\n",
       "                                                  Pipeline(steps=[('ordinal',\n",
       "                                                                   OrdinalEncoder())]),\n",
       "                                                  ['windgustdir', 'winddir9am',\n",
       "                                                   'winddir3pm',\n",
       "                                                   'raintoday'])],\n",
       "                                   verbose_feature_names_out=False)),\n",
       "                ('linreg', LinearRegression())])"
      ]
     },
     "execution_count": 37,
     "metadata": {},
     "output_type": "execute_result"
    }
   ],
   "source": [
    "lrpipeline.fit(X_train,y_train)"
   ]
  },
  {
   "cell_type": "code",
   "execution_count": 38,
   "metadata": {},
   "outputs": [
    {
     "data": {
      "text/plain": [
       "array([ 0.06274677,  0.9693418 ,  0.77266864,  0.44409362, -0.01836328])"
      ]
     },
     "execution_count": 38,
     "metadata": {},
     "output_type": "execute_result"
    }
   ],
   "source": [
    "lrpipeline.predict(X_test)[0:5]"
   ]
  },
  {
   "cell_type": "code",
   "execution_count": 39,
   "metadata": {},
   "outputs": [],
   "source": [
    "lr_pred = lrpipeline.predict(X_test)"
   ]
  },
  {
   "cell_type": "code",
   "execution_count": 40,
   "metadata": {},
   "outputs": [
    {
     "name": "stdout",
     "output_type": "stream",
     "text": [
      "MAE: 0.266\n",
      "MSE: 0.126\n",
      "R2: 0.345\n"
     ]
    }
   ],
   "source": [
    "print(\"MAE:\", \"%.3f\" % mean_absolute_error(y_test, lr_pred))\n",
    "print(\"MSE:\", \"%.3f\" % mean_squared_error(y_test, lr_pred))\n",
    "print(\"R2:\", \"%.3f\" % r2_score(y_test, lr_pred))"
   ]
  },
  {
   "cell_type": "code",
   "execution_count": 41,
   "metadata": {},
   "outputs": [
    {
     "data": {
      "text/html": [
       "<div>\n",
       "<style scoped>\n",
       "    .dataframe tbody tr th:only-of-type {\n",
       "        vertical-align: middle;\n",
       "    }\n",
       "\n",
       "    .dataframe tbody tr th {\n",
       "        vertical-align: top;\n",
       "    }\n",
       "\n",
       "    .dataframe thead th {\n",
       "        text-align: right;\n",
       "    }\n",
       "</style>\n",
       "<table border=\"1\" class=\"dataframe\">\n",
       "  <thead>\n",
       "    <tr style=\"text-align: right;\">\n",
       "      <th></th>\n",
       "      <th>Model</th>\n",
       "      <th>MAE</th>\n",
       "      <th>MSE</th>\n",
       "      <th>R2</th>\n",
       "    </tr>\n",
       "  </thead>\n",
       "  <tbody>\n",
       "    <tr>\n",
       "      <th>0</th>\n",
       "      <td>Linear Regression</td>\n",
       "      <td>0.27</td>\n",
       "      <td>0.13</td>\n",
       "      <td>0.35</td>\n",
       "    </tr>\n",
       "  </tbody>\n",
       "</table>\n",
       "</div>"
      ],
      "text/plain": [
       "               Model  MAE  MSE   R2\n",
       "0  Linear Regression 0.27 0.13 0.35"
      ]
     },
     "execution_count": 41,
     "metadata": {},
     "output_type": "execute_result"
    }
   ],
   "source": [
    "lrtable = pd.DataFrame()\n",
    "lrtable = lrtable.append({'Model': \"Linear Regression\",\n",
    "                        'MAE':  mean_absolute_error(y_test, lr_pred),\n",
    "                        'MSE': mean_squared_error(y_test, lr_pred),\n",
    "                        'R2': r2_score(y_test, lr_pred),\n",
    "                        \n",
    "                      },\n",
    "                        ignore_index=True)\n",
    "                     \n",
    "lrtable"
   ]
  },
  {
   "cell_type": "markdown",
   "metadata": {},
   "source": [
    "**=================================================================================================================**"
   ]
  },
  {
   "cell_type": "markdown",
   "metadata": {},
   "source": [
    "# KNN"
   ]
  },
  {
   "cell_type": "code",
   "execution_count": 42,
   "metadata": {},
   "outputs": [],
   "source": [
    "knnpipeline = Pipeline(steps=\n",
    "                     [\n",
    "                      (\"preprocessing\", preprocessor),  \n",
    "                      ( \"knn\",  KNeighborsClassifier(n_neighbors=4, n_jobs=-1))\n",
    "                     ])"
   ]
  },
  {
   "cell_type": "code",
   "execution_count": 43,
   "metadata": {},
   "outputs": [
    {
     "data": {
      "text/html": [
       "<style>#sk-container-id-2 {color: black;background-color: white;}#sk-container-id-2 pre{padding: 0;}#sk-container-id-2 div.sk-toggleable {background-color: white;}#sk-container-id-2 label.sk-toggleable__label {cursor: pointer;display: block;width: 100%;margin-bottom: 0;padding: 0.3em;box-sizing: border-box;text-align: center;}#sk-container-id-2 label.sk-toggleable__label-arrow:before {content: \"▸\";float: left;margin-right: 0.25em;color: #696969;}#sk-container-id-2 label.sk-toggleable__label-arrow:hover:before {color: black;}#sk-container-id-2 div.sk-estimator:hover label.sk-toggleable__label-arrow:before {color: black;}#sk-container-id-2 div.sk-toggleable__content {max-height: 0;max-width: 0;overflow: hidden;text-align: left;background-color: #f0f8ff;}#sk-container-id-2 div.sk-toggleable__content pre {margin: 0.2em;color: black;border-radius: 0.25em;background-color: #f0f8ff;}#sk-container-id-2 input.sk-toggleable__control:checked~div.sk-toggleable__content {max-height: 200px;max-width: 100%;overflow: auto;}#sk-container-id-2 input.sk-toggleable__control:checked~label.sk-toggleable__label-arrow:before {content: \"▾\";}#sk-container-id-2 div.sk-estimator input.sk-toggleable__control:checked~label.sk-toggleable__label {background-color: #d4ebff;}#sk-container-id-2 div.sk-label input.sk-toggleable__control:checked~label.sk-toggleable__label {background-color: #d4ebff;}#sk-container-id-2 input.sk-hidden--visually {border: 0;clip: rect(1px 1px 1px 1px);clip: rect(1px, 1px, 1px, 1px);height: 1px;margin: -1px;overflow: hidden;padding: 0;position: absolute;width: 1px;}#sk-container-id-2 div.sk-estimator {font-family: monospace;background-color: #f0f8ff;border: 1px dotted black;border-radius: 0.25em;box-sizing: border-box;margin-bottom: 0.5em;}#sk-container-id-2 div.sk-estimator:hover {background-color: #d4ebff;}#sk-container-id-2 div.sk-parallel-item::after {content: \"\";width: 100%;border-bottom: 1px solid gray;flex-grow: 1;}#sk-container-id-2 div.sk-label:hover label.sk-toggleable__label {background-color: #d4ebff;}#sk-container-id-2 div.sk-serial::before {content: \"\";position: absolute;border-left: 1px solid gray;box-sizing: border-box;top: 0;bottom: 0;left: 50%;z-index: 0;}#sk-container-id-2 div.sk-serial {display: flex;flex-direction: column;align-items: center;background-color: white;padding-right: 0.2em;padding-left: 0.2em;position: relative;}#sk-container-id-2 div.sk-item {position: relative;z-index: 1;}#sk-container-id-2 div.sk-parallel {display: flex;align-items: stretch;justify-content: center;background-color: white;position: relative;}#sk-container-id-2 div.sk-item::before, #sk-container-id-2 div.sk-parallel-item::before {content: \"\";position: absolute;border-left: 1px solid gray;box-sizing: border-box;top: 0;bottom: 0;left: 50%;z-index: -1;}#sk-container-id-2 div.sk-parallel-item {display: flex;flex-direction: column;z-index: 1;position: relative;background-color: white;}#sk-container-id-2 div.sk-parallel-item:first-child::after {align-self: flex-end;width: 50%;}#sk-container-id-2 div.sk-parallel-item:last-child::after {align-self: flex-start;width: 50%;}#sk-container-id-2 div.sk-parallel-item:only-child::after {width: 0;}#sk-container-id-2 div.sk-dashed-wrapped {border: 1px dashed gray;margin: 0 0.4em 0.5em 0.4em;box-sizing: border-box;padding-bottom: 0.4em;background-color: white;}#sk-container-id-2 div.sk-label label {font-family: monospace;font-weight: bold;display: inline-block;line-height: 1.2em;}#sk-container-id-2 div.sk-label-container {text-align: center;}#sk-container-id-2 div.sk-container {/* jupyter's `normalize.less` sets `[hidden] { display: none; }` but bootstrap.min.css set `[hidden] { display: none !important; }` so we also need the `!important` here to be able to override the default hidden behavior on the sphinx rendered scikit-learn.org. See: https://github.com/scikit-learn/scikit-learn/issues/21755 */display: inline-block !important;position: relative;}#sk-container-id-2 div.sk-text-repr-fallback {display: none;}</style><div id=\"sk-container-id-2\" class=\"sk-top-container\"><div class=\"sk-text-repr-fallback\"><pre>Pipeline(steps=[(&#x27;preprocessing&#x27;,\n",
       "                 ColumnTransformer(remainder=&#x27;passthrough&#x27;,\n",
       "                                   transformers=[(&#x27;dropcolumns&#x27;, &#x27;drop&#x27;,\n",
       "                                                  [&#x27;date&#x27;]),\n",
       "                                                 (&#x27;numerical&#x27;,\n",
       "                                                  Pipeline(steps=[(&#x27;minmax&#x27;,\n",
       "                                                                   MinMaxScaler())]),\n",
       "                                                  [&#x27;mintemp&#x27;, &#x27;maxtemp&#x27;,\n",
       "                                                   &#x27;rainfall&#x27;, &#x27;evaporation&#x27;,\n",
       "                                                   &#x27;sunshine&#x27;, &#x27;windgustspeed&#x27;,\n",
       "                                                   &#x27;windspeed9am&#x27;,\n",
       "                                                   &#x27;windspeed3pm&#x27;,\n",
       "                                                   &#x27;humidity9am&#x27;, &#x27;humidity3pm&#x27;,\n",
       "                                                   &#x27;pressure9am&#x27;, &#x27;pressure3pm&#x27;,\n",
       "                                                   &#x27;cloud9am&#x27;, &#x27;cloud3pm&#x27;,\n",
       "                                                   &#x27;temp9am&#x27;, &#x27;temp3pm&#x27;]),\n",
       "                                                 (&#x27;categorical&#x27;,\n",
       "                                                  Pipeline(steps=[(&#x27;ordinal&#x27;,\n",
       "                                                                   OrdinalEncoder())]),\n",
       "                                                  [&#x27;windgustdir&#x27;, &#x27;winddir9am&#x27;,\n",
       "                                                   &#x27;winddir3pm&#x27;,\n",
       "                                                   &#x27;raintoday&#x27;])],\n",
       "                                   verbose_feature_names_out=False)),\n",
       "                (&#x27;knn&#x27;, KNeighborsClassifier(n_jobs=-1, n_neighbors=4))])</pre><b>In a Jupyter environment, please rerun this cell to show the HTML representation or trust the notebook. <br />On GitHub, the HTML representation is unable to render, please try loading this page with nbviewer.org.</b></div><div class=\"sk-container\" hidden><div class=\"sk-item sk-dashed-wrapped\"><div class=\"sk-label-container\"><div class=\"sk-label sk-toggleable\"><input class=\"sk-toggleable__control sk-hidden--visually\" id=\"sk-estimator-id-12\" type=\"checkbox\" ><label for=\"sk-estimator-id-12\" class=\"sk-toggleable__label sk-toggleable__label-arrow\">Pipeline</label><div class=\"sk-toggleable__content\"><pre>Pipeline(steps=[(&#x27;preprocessing&#x27;,\n",
       "                 ColumnTransformer(remainder=&#x27;passthrough&#x27;,\n",
       "                                   transformers=[(&#x27;dropcolumns&#x27;, &#x27;drop&#x27;,\n",
       "                                                  [&#x27;date&#x27;]),\n",
       "                                                 (&#x27;numerical&#x27;,\n",
       "                                                  Pipeline(steps=[(&#x27;minmax&#x27;,\n",
       "                                                                   MinMaxScaler())]),\n",
       "                                                  [&#x27;mintemp&#x27;, &#x27;maxtemp&#x27;,\n",
       "                                                   &#x27;rainfall&#x27;, &#x27;evaporation&#x27;,\n",
       "                                                   &#x27;sunshine&#x27;, &#x27;windgustspeed&#x27;,\n",
       "                                                   &#x27;windspeed9am&#x27;,\n",
       "                                                   &#x27;windspeed3pm&#x27;,\n",
       "                                                   &#x27;humidity9am&#x27;, &#x27;humidity3pm&#x27;,\n",
       "                                                   &#x27;pressure9am&#x27;, &#x27;pressure3pm&#x27;,\n",
       "                                                   &#x27;cloud9am&#x27;, &#x27;cloud3pm&#x27;,\n",
       "                                                   &#x27;temp9am&#x27;, &#x27;temp3pm&#x27;]),\n",
       "                                                 (&#x27;categorical&#x27;,\n",
       "                                                  Pipeline(steps=[(&#x27;ordinal&#x27;,\n",
       "                                                                   OrdinalEncoder())]),\n",
       "                                                  [&#x27;windgustdir&#x27;, &#x27;winddir9am&#x27;,\n",
       "                                                   &#x27;winddir3pm&#x27;,\n",
       "                                                   &#x27;raintoday&#x27;])],\n",
       "                                   verbose_feature_names_out=False)),\n",
       "                (&#x27;knn&#x27;, KNeighborsClassifier(n_jobs=-1, n_neighbors=4))])</pre></div></div></div><div class=\"sk-serial\"><div class=\"sk-item sk-dashed-wrapped\"><div class=\"sk-label-container\"><div class=\"sk-label sk-toggleable\"><input class=\"sk-toggleable__control sk-hidden--visually\" id=\"sk-estimator-id-13\" type=\"checkbox\" ><label for=\"sk-estimator-id-13\" class=\"sk-toggleable__label sk-toggleable__label-arrow\">preprocessing: ColumnTransformer</label><div class=\"sk-toggleable__content\"><pre>ColumnTransformer(remainder=&#x27;passthrough&#x27;,\n",
       "                  transformers=[(&#x27;dropcolumns&#x27;, &#x27;drop&#x27;, [&#x27;date&#x27;]),\n",
       "                                (&#x27;numerical&#x27;,\n",
       "                                 Pipeline(steps=[(&#x27;minmax&#x27;, MinMaxScaler())]),\n",
       "                                 [&#x27;mintemp&#x27;, &#x27;maxtemp&#x27;, &#x27;rainfall&#x27;,\n",
       "                                  &#x27;evaporation&#x27;, &#x27;sunshine&#x27;, &#x27;windgustspeed&#x27;,\n",
       "                                  &#x27;windspeed9am&#x27;, &#x27;windspeed3pm&#x27;, &#x27;humidity9am&#x27;,\n",
       "                                  &#x27;humidity3pm&#x27;, &#x27;pressure9am&#x27;, &#x27;pressure3pm&#x27;,\n",
       "                                  &#x27;cloud9am&#x27;, &#x27;cloud3pm&#x27;, &#x27;temp9am&#x27;,\n",
       "                                  &#x27;temp3pm&#x27;]),\n",
       "                                (&#x27;categorical&#x27;,\n",
       "                                 Pipeline(steps=[(&#x27;ordinal&#x27;,\n",
       "                                                  OrdinalEncoder())]),\n",
       "                                 [&#x27;windgustdir&#x27;, &#x27;winddir9am&#x27;, &#x27;winddir3pm&#x27;,\n",
       "                                  &#x27;raintoday&#x27;])],\n",
       "                  verbose_feature_names_out=False)</pre></div></div></div><div class=\"sk-parallel\"><div class=\"sk-parallel-item\"><div class=\"sk-item\"><div class=\"sk-label-container\"><div class=\"sk-label sk-toggleable\"><input class=\"sk-toggleable__control sk-hidden--visually\" id=\"sk-estimator-id-14\" type=\"checkbox\" ><label for=\"sk-estimator-id-14\" class=\"sk-toggleable__label sk-toggleable__label-arrow\">dropcolumns</label><div class=\"sk-toggleable__content\"><pre>[&#x27;date&#x27;]</pre></div></div></div><div class=\"sk-serial\"><div class=\"sk-item\"><div class=\"sk-estimator sk-toggleable\"><input class=\"sk-toggleable__control sk-hidden--visually\" id=\"sk-estimator-id-15\" type=\"checkbox\" ><label for=\"sk-estimator-id-15\" class=\"sk-toggleable__label sk-toggleable__label-arrow\">drop</label><div class=\"sk-toggleable__content\"><pre>drop</pre></div></div></div></div></div></div><div class=\"sk-parallel-item\"><div class=\"sk-item\"><div class=\"sk-label-container\"><div class=\"sk-label sk-toggleable\"><input class=\"sk-toggleable__control sk-hidden--visually\" id=\"sk-estimator-id-16\" type=\"checkbox\" ><label for=\"sk-estimator-id-16\" class=\"sk-toggleable__label sk-toggleable__label-arrow\">numerical</label><div class=\"sk-toggleable__content\"><pre>[&#x27;mintemp&#x27;, &#x27;maxtemp&#x27;, &#x27;rainfall&#x27;, &#x27;evaporation&#x27;, &#x27;sunshine&#x27;, &#x27;windgustspeed&#x27;, &#x27;windspeed9am&#x27;, &#x27;windspeed3pm&#x27;, &#x27;humidity9am&#x27;, &#x27;humidity3pm&#x27;, &#x27;pressure9am&#x27;, &#x27;pressure3pm&#x27;, &#x27;cloud9am&#x27;, &#x27;cloud3pm&#x27;, &#x27;temp9am&#x27;, &#x27;temp3pm&#x27;]</pre></div></div></div><div class=\"sk-serial\"><div class=\"sk-item\"><div class=\"sk-serial\"><div class=\"sk-item\"><div class=\"sk-estimator sk-toggleable\"><input class=\"sk-toggleable__control sk-hidden--visually\" id=\"sk-estimator-id-17\" type=\"checkbox\" ><label for=\"sk-estimator-id-17\" class=\"sk-toggleable__label sk-toggleable__label-arrow\">MinMaxScaler</label><div class=\"sk-toggleable__content\"><pre>MinMaxScaler()</pre></div></div></div></div></div></div></div></div><div class=\"sk-parallel-item\"><div class=\"sk-item\"><div class=\"sk-label-container\"><div class=\"sk-label sk-toggleable\"><input class=\"sk-toggleable__control sk-hidden--visually\" id=\"sk-estimator-id-18\" type=\"checkbox\" ><label for=\"sk-estimator-id-18\" class=\"sk-toggleable__label sk-toggleable__label-arrow\">categorical</label><div class=\"sk-toggleable__content\"><pre>[&#x27;windgustdir&#x27;, &#x27;winddir9am&#x27;, &#x27;winddir3pm&#x27;, &#x27;raintoday&#x27;]</pre></div></div></div><div class=\"sk-serial\"><div class=\"sk-item\"><div class=\"sk-serial\"><div class=\"sk-item\"><div class=\"sk-estimator sk-toggleable\"><input class=\"sk-toggleable__control sk-hidden--visually\" id=\"sk-estimator-id-19\" type=\"checkbox\" ><label for=\"sk-estimator-id-19\" class=\"sk-toggleable__label sk-toggleable__label-arrow\">OrdinalEncoder</label><div class=\"sk-toggleable__content\"><pre>OrdinalEncoder()</pre></div></div></div></div></div></div></div></div><div class=\"sk-parallel-item\"><div class=\"sk-item\"><div class=\"sk-label-container\"><div class=\"sk-label sk-toggleable\"><input class=\"sk-toggleable__control sk-hidden--visually\" id=\"sk-estimator-id-20\" type=\"checkbox\" ><label for=\"sk-estimator-id-20\" class=\"sk-toggleable__label sk-toggleable__label-arrow\">remainder</label><div class=\"sk-toggleable__content\"><pre>[]</pre></div></div></div><div class=\"sk-serial\"><div class=\"sk-item\"><div class=\"sk-estimator sk-toggleable\"><input class=\"sk-toggleable__control sk-hidden--visually\" id=\"sk-estimator-id-21\" type=\"checkbox\" ><label for=\"sk-estimator-id-21\" class=\"sk-toggleable__label sk-toggleable__label-arrow\">passthrough</label><div class=\"sk-toggleable__content\"><pre>passthrough</pre></div></div></div></div></div></div></div></div><div class=\"sk-item\"><div class=\"sk-estimator sk-toggleable\"><input class=\"sk-toggleable__control sk-hidden--visually\" id=\"sk-estimator-id-22\" type=\"checkbox\" ><label for=\"sk-estimator-id-22\" class=\"sk-toggleable__label sk-toggleable__label-arrow\">KNeighborsClassifier</label><div class=\"sk-toggleable__content\"><pre>KNeighborsClassifier(n_jobs=-1, n_neighbors=4)</pre></div></div></div></div></div></div></div>"
      ],
      "text/plain": [
       "Pipeline(steps=[('preprocessing',\n",
       "                 ColumnTransformer(remainder='passthrough',\n",
       "                                   transformers=[('dropcolumns', 'drop',\n",
       "                                                  ['date']),\n",
       "                                                 ('numerical',\n",
       "                                                  Pipeline(steps=[('minmax',\n",
       "                                                                   MinMaxScaler())]),\n",
       "                                                  ['mintemp', 'maxtemp',\n",
       "                                                   'rainfall', 'evaporation',\n",
       "                                                   'sunshine', 'windgustspeed',\n",
       "                                                   'windspeed9am',\n",
       "                                                   'windspeed3pm',\n",
       "                                                   'humidity9am', 'humidity3pm',\n",
       "                                                   'pressure9am', 'pressure3pm',\n",
       "                                                   'cloud9am', 'cloud3pm',\n",
       "                                                   'temp9am', 'temp3pm']),\n",
       "                                                 ('categorical',\n",
       "                                                  Pipeline(steps=[('ordinal',\n",
       "                                                                   OrdinalEncoder())]),\n",
       "                                                  ['windgustdir', 'winddir9am',\n",
       "                                                   'winddir3pm',\n",
       "                                                   'raintoday'])],\n",
       "                                   verbose_feature_names_out=False)),\n",
       "                ('knn', KNeighborsClassifier(n_jobs=-1, n_neighbors=4))])"
      ]
     },
     "execution_count": 43,
     "metadata": {},
     "output_type": "execute_result"
    }
   ],
   "source": [
    "knnpipeline.fit(X_train,y_train)"
   ]
  },
  {
   "cell_type": "code",
   "execution_count": 44,
   "metadata": {},
   "outputs": [
    {
     "data": {
      "text/plain": [
       "array([0, 0, 1, 0, 0], dtype=int64)"
      ]
     },
     "execution_count": 44,
     "metadata": {},
     "output_type": "execute_result"
    }
   ],
   "source": [
    "knnpipeline.predict(X_test)[0:5]"
   ]
  },
  {
   "cell_type": "code",
   "execution_count": 45,
   "metadata": {},
   "outputs": [],
   "source": [
    "knn_pred = knnpipeline.predict(X_test)"
   ]
  },
  {
   "cell_type": "code",
   "execution_count": 46,
   "metadata": {},
   "outputs": [
    {
     "name": "stdout",
     "output_type": "stream",
     "text": [
      "KNN Classifier\n",
      "\n",
      "Accuracy: 0.777\n",
      "Jaccard Score: 0.247\n",
      "F1 Score: 0.397\n"
     ]
    }
   ],
   "source": [
    "print(\"KNN Classifier\\n\")\n",
    "print(\"Accuracy:\", \"%.3f\" % accuracy_score(y_test, knn_pred))\n",
    "print(\"Jaccard Score:\", \"%.3f\" % jaccard_score(y_test, knn_pred))\n",
    "print(\"F1 Score:\", \"%.3f\" % f1_score(y_test, knn_pred))"
   ]
  },
  {
   "cell_type": "code",
   "execution_count": 47,
   "metadata": {},
   "outputs": [
    {
     "data": {
      "text/html": [
       "<div>\n",
       "<style scoped>\n",
       "    .dataframe tbody tr th:only-of-type {\n",
       "        vertical-align: middle;\n",
       "    }\n",
       "\n",
       "    .dataframe tbody tr th {\n",
       "        vertical-align: top;\n",
       "    }\n",
       "\n",
       "    .dataframe thead th {\n",
       "        text-align: right;\n",
       "    }\n",
       "</style>\n",
       "<table border=\"1\" class=\"dataframe\">\n",
       "  <thead>\n",
       "    <tr style=\"text-align: right;\">\n",
       "      <th></th>\n",
       "      <th>Model</th>\n",
       "      <th>F1</th>\n",
       "      <th>Jaccard Score</th>\n",
       "      <th>Accuracy</th>\n",
       "    </tr>\n",
       "  </thead>\n",
       "  <tbody>\n",
       "    <tr>\n",
       "      <th>0</th>\n",
       "      <td>KNN Classification</td>\n",
       "      <td>0.40</td>\n",
       "      <td>0.25</td>\n",
       "      <td>0.78</td>\n",
       "    </tr>\n",
       "  </tbody>\n",
       "</table>\n",
       "</div>"
      ],
      "text/plain": [
       "                Model   F1  Jaccard Score  Accuracy\n",
       "0  KNN Classification 0.40           0.25      0.78"
      ]
     },
     "execution_count": 47,
     "metadata": {},
     "output_type": "execute_result"
    }
   ],
   "source": [
    "knntable = pd.DataFrame()\n",
    "knntable = knntable.append({'Model': \"KNN Classification\",\n",
    "                        'F1':  f1_score(y_test, knn_pred),\n",
    "                        'Jaccard Score': jaccard_score(y_test, knn_pred),\n",
    "                        'Accuracy': accuracy_score(y_test, knn_pred)\n",
    "                      },\n",
    "                        ignore_index=True)\n",
    "                     \n",
    "knntable"
   ]
  },
  {
   "cell_type": "markdown",
   "metadata": {},
   "source": [
    "# Decision Tree"
   ]
  },
  {
   "cell_type": "code",
   "execution_count": 48,
   "metadata": {},
   "outputs": [],
   "source": [
    "dtpipeline = Pipeline(steps=[\n",
    "                        (\"preprocessor\", preprocessor),\n",
    "                        (\"decisiontree\", DecisionTreeClassifier(random_state=0, class_weight={0:1, 1:3}))\n",
    "                    \n",
    "])"
   ]
  },
  {
   "cell_type": "code",
   "execution_count": 49,
   "metadata": {},
   "outputs": [
    {
     "data": {
      "text/html": [
       "<style>#sk-container-id-3 {color: black;background-color: white;}#sk-container-id-3 pre{padding: 0;}#sk-container-id-3 div.sk-toggleable {background-color: white;}#sk-container-id-3 label.sk-toggleable__label {cursor: pointer;display: block;width: 100%;margin-bottom: 0;padding: 0.3em;box-sizing: border-box;text-align: center;}#sk-container-id-3 label.sk-toggleable__label-arrow:before {content: \"▸\";float: left;margin-right: 0.25em;color: #696969;}#sk-container-id-3 label.sk-toggleable__label-arrow:hover:before {color: black;}#sk-container-id-3 div.sk-estimator:hover label.sk-toggleable__label-arrow:before {color: black;}#sk-container-id-3 div.sk-toggleable__content {max-height: 0;max-width: 0;overflow: hidden;text-align: left;background-color: #f0f8ff;}#sk-container-id-3 div.sk-toggleable__content pre {margin: 0.2em;color: black;border-radius: 0.25em;background-color: #f0f8ff;}#sk-container-id-3 input.sk-toggleable__control:checked~div.sk-toggleable__content {max-height: 200px;max-width: 100%;overflow: auto;}#sk-container-id-3 input.sk-toggleable__control:checked~label.sk-toggleable__label-arrow:before {content: \"▾\";}#sk-container-id-3 div.sk-estimator input.sk-toggleable__control:checked~label.sk-toggleable__label {background-color: #d4ebff;}#sk-container-id-3 div.sk-label input.sk-toggleable__control:checked~label.sk-toggleable__label {background-color: #d4ebff;}#sk-container-id-3 input.sk-hidden--visually {border: 0;clip: rect(1px 1px 1px 1px);clip: rect(1px, 1px, 1px, 1px);height: 1px;margin: -1px;overflow: hidden;padding: 0;position: absolute;width: 1px;}#sk-container-id-3 div.sk-estimator {font-family: monospace;background-color: #f0f8ff;border: 1px dotted black;border-radius: 0.25em;box-sizing: border-box;margin-bottom: 0.5em;}#sk-container-id-3 div.sk-estimator:hover {background-color: #d4ebff;}#sk-container-id-3 div.sk-parallel-item::after {content: \"\";width: 100%;border-bottom: 1px solid gray;flex-grow: 1;}#sk-container-id-3 div.sk-label:hover label.sk-toggleable__label {background-color: #d4ebff;}#sk-container-id-3 div.sk-serial::before {content: \"\";position: absolute;border-left: 1px solid gray;box-sizing: border-box;top: 0;bottom: 0;left: 50%;z-index: 0;}#sk-container-id-3 div.sk-serial {display: flex;flex-direction: column;align-items: center;background-color: white;padding-right: 0.2em;padding-left: 0.2em;position: relative;}#sk-container-id-3 div.sk-item {position: relative;z-index: 1;}#sk-container-id-3 div.sk-parallel {display: flex;align-items: stretch;justify-content: center;background-color: white;position: relative;}#sk-container-id-3 div.sk-item::before, #sk-container-id-3 div.sk-parallel-item::before {content: \"\";position: absolute;border-left: 1px solid gray;box-sizing: border-box;top: 0;bottom: 0;left: 50%;z-index: -1;}#sk-container-id-3 div.sk-parallel-item {display: flex;flex-direction: column;z-index: 1;position: relative;background-color: white;}#sk-container-id-3 div.sk-parallel-item:first-child::after {align-self: flex-end;width: 50%;}#sk-container-id-3 div.sk-parallel-item:last-child::after {align-self: flex-start;width: 50%;}#sk-container-id-3 div.sk-parallel-item:only-child::after {width: 0;}#sk-container-id-3 div.sk-dashed-wrapped {border: 1px dashed gray;margin: 0 0.4em 0.5em 0.4em;box-sizing: border-box;padding-bottom: 0.4em;background-color: white;}#sk-container-id-3 div.sk-label label {font-family: monospace;font-weight: bold;display: inline-block;line-height: 1.2em;}#sk-container-id-3 div.sk-label-container {text-align: center;}#sk-container-id-3 div.sk-container {/* jupyter's `normalize.less` sets `[hidden] { display: none; }` but bootstrap.min.css set `[hidden] { display: none !important; }` so we also need the `!important` here to be able to override the default hidden behavior on the sphinx rendered scikit-learn.org. See: https://github.com/scikit-learn/scikit-learn/issues/21755 */display: inline-block !important;position: relative;}#sk-container-id-3 div.sk-text-repr-fallback {display: none;}</style><div id=\"sk-container-id-3\" class=\"sk-top-container\"><div class=\"sk-text-repr-fallback\"><pre>Pipeline(steps=[(&#x27;preprocessor&#x27;,\n",
       "                 ColumnTransformer(remainder=&#x27;passthrough&#x27;,\n",
       "                                   transformers=[(&#x27;dropcolumns&#x27;, &#x27;drop&#x27;,\n",
       "                                                  [&#x27;date&#x27;]),\n",
       "                                                 (&#x27;numerical&#x27;,\n",
       "                                                  Pipeline(steps=[(&#x27;minmax&#x27;,\n",
       "                                                                   MinMaxScaler())]),\n",
       "                                                  [&#x27;mintemp&#x27;, &#x27;maxtemp&#x27;,\n",
       "                                                   &#x27;rainfall&#x27;, &#x27;evaporation&#x27;,\n",
       "                                                   &#x27;sunshine&#x27;, &#x27;windgustspeed&#x27;,\n",
       "                                                   &#x27;windspeed9am&#x27;,\n",
       "                                                   &#x27;windspeed3pm&#x27;,\n",
       "                                                   &#x27;humidity9am&#x27;, &#x27;humidity3pm&#x27;,\n",
       "                                                   &#x27;pressure9am&#x27;, &#x27;pressure3pm&#x27;,\n",
       "                                                   &#x27;cloud9am&#x27;, &#x27;cloud3pm&#x27;,\n",
       "                                                   &#x27;temp9am&#x27;, &#x27;temp3pm&#x27;]),\n",
       "                                                 (&#x27;categorical&#x27;,\n",
       "                                                  Pipeline(steps=[(&#x27;ordinal&#x27;,\n",
       "                                                                   OrdinalEncoder())]),\n",
       "                                                  [&#x27;windgustdir&#x27;, &#x27;winddir9am&#x27;,\n",
       "                                                   &#x27;winddir3pm&#x27;,\n",
       "                                                   &#x27;raintoday&#x27;])],\n",
       "                                   verbose_feature_names_out=False)),\n",
       "                (&#x27;decisiontree&#x27;,\n",
       "                 DecisionTreeClassifier(class_weight={0: 1, 1: 3},\n",
       "                                        random_state=0))])</pre><b>In a Jupyter environment, please rerun this cell to show the HTML representation or trust the notebook. <br />On GitHub, the HTML representation is unable to render, please try loading this page with nbviewer.org.</b></div><div class=\"sk-container\" hidden><div class=\"sk-item sk-dashed-wrapped\"><div class=\"sk-label-container\"><div class=\"sk-label sk-toggleable\"><input class=\"sk-toggleable__control sk-hidden--visually\" id=\"sk-estimator-id-23\" type=\"checkbox\" ><label for=\"sk-estimator-id-23\" class=\"sk-toggleable__label sk-toggleable__label-arrow\">Pipeline</label><div class=\"sk-toggleable__content\"><pre>Pipeline(steps=[(&#x27;preprocessor&#x27;,\n",
       "                 ColumnTransformer(remainder=&#x27;passthrough&#x27;,\n",
       "                                   transformers=[(&#x27;dropcolumns&#x27;, &#x27;drop&#x27;,\n",
       "                                                  [&#x27;date&#x27;]),\n",
       "                                                 (&#x27;numerical&#x27;,\n",
       "                                                  Pipeline(steps=[(&#x27;minmax&#x27;,\n",
       "                                                                   MinMaxScaler())]),\n",
       "                                                  [&#x27;mintemp&#x27;, &#x27;maxtemp&#x27;,\n",
       "                                                   &#x27;rainfall&#x27;, &#x27;evaporation&#x27;,\n",
       "                                                   &#x27;sunshine&#x27;, &#x27;windgustspeed&#x27;,\n",
       "                                                   &#x27;windspeed9am&#x27;,\n",
       "                                                   &#x27;windspeed3pm&#x27;,\n",
       "                                                   &#x27;humidity9am&#x27;, &#x27;humidity3pm&#x27;,\n",
       "                                                   &#x27;pressure9am&#x27;, &#x27;pressure3pm&#x27;,\n",
       "                                                   &#x27;cloud9am&#x27;, &#x27;cloud3pm&#x27;,\n",
       "                                                   &#x27;temp9am&#x27;, &#x27;temp3pm&#x27;]),\n",
       "                                                 (&#x27;categorical&#x27;,\n",
       "                                                  Pipeline(steps=[(&#x27;ordinal&#x27;,\n",
       "                                                                   OrdinalEncoder())]),\n",
       "                                                  [&#x27;windgustdir&#x27;, &#x27;winddir9am&#x27;,\n",
       "                                                   &#x27;winddir3pm&#x27;,\n",
       "                                                   &#x27;raintoday&#x27;])],\n",
       "                                   verbose_feature_names_out=False)),\n",
       "                (&#x27;decisiontree&#x27;,\n",
       "                 DecisionTreeClassifier(class_weight={0: 1, 1: 3},\n",
       "                                        random_state=0))])</pre></div></div></div><div class=\"sk-serial\"><div class=\"sk-item sk-dashed-wrapped\"><div class=\"sk-label-container\"><div class=\"sk-label sk-toggleable\"><input class=\"sk-toggleable__control sk-hidden--visually\" id=\"sk-estimator-id-24\" type=\"checkbox\" ><label for=\"sk-estimator-id-24\" class=\"sk-toggleable__label sk-toggleable__label-arrow\">preprocessor: ColumnTransformer</label><div class=\"sk-toggleable__content\"><pre>ColumnTransformer(remainder=&#x27;passthrough&#x27;,\n",
       "                  transformers=[(&#x27;dropcolumns&#x27;, &#x27;drop&#x27;, [&#x27;date&#x27;]),\n",
       "                                (&#x27;numerical&#x27;,\n",
       "                                 Pipeline(steps=[(&#x27;minmax&#x27;, MinMaxScaler())]),\n",
       "                                 [&#x27;mintemp&#x27;, &#x27;maxtemp&#x27;, &#x27;rainfall&#x27;,\n",
       "                                  &#x27;evaporation&#x27;, &#x27;sunshine&#x27;, &#x27;windgustspeed&#x27;,\n",
       "                                  &#x27;windspeed9am&#x27;, &#x27;windspeed3pm&#x27;, &#x27;humidity9am&#x27;,\n",
       "                                  &#x27;humidity3pm&#x27;, &#x27;pressure9am&#x27;, &#x27;pressure3pm&#x27;,\n",
       "                                  &#x27;cloud9am&#x27;, &#x27;cloud3pm&#x27;, &#x27;temp9am&#x27;,\n",
       "                                  &#x27;temp3pm&#x27;]),\n",
       "                                (&#x27;categorical&#x27;,\n",
       "                                 Pipeline(steps=[(&#x27;ordinal&#x27;,\n",
       "                                                  OrdinalEncoder())]),\n",
       "                                 [&#x27;windgustdir&#x27;, &#x27;winddir9am&#x27;, &#x27;winddir3pm&#x27;,\n",
       "                                  &#x27;raintoday&#x27;])],\n",
       "                  verbose_feature_names_out=False)</pre></div></div></div><div class=\"sk-parallel\"><div class=\"sk-parallel-item\"><div class=\"sk-item\"><div class=\"sk-label-container\"><div class=\"sk-label sk-toggleable\"><input class=\"sk-toggleable__control sk-hidden--visually\" id=\"sk-estimator-id-25\" type=\"checkbox\" ><label for=\"sk-estimator-id-25\" class=\"sk-toggleable__label sk-toggleable__label-arrow\">dropcolumns</label><div class=\"sk-toggleable__content\"><pre>[&#x27;date&#x27;]</pre></div></div></div><div class=\"sk-serial\"><div class=\"sk-item\"><div class=\"sk-estimator sk-toggleable\"><input class=\"sk-toggleable__control sk-hidden--visually\" id=\"sk-estimator-id-26\" type=\"checkbox\" ><label for=\"sk-estimator-id-26\" class=\"sk-toggleable__label sk-toggleable__label-arrow\">drop</label><div class=\"sk-toggleable__content\"><pre>drop</pre></div></div></div></div></div></div><div class=\"sk-parallel-item\"><div class=\"sk-item\"><div class=\"sk-label-container\"><div class=\"sk-label sk-toggleable\"><input class=\"sk-toggleable__control sk-hidden--visually\" id=\"sk-estimator-id-27\" type=\"checkbox\" ><label for=\"sk-estimator-id-27\" class=\"sk-toggleable__label sk-toggleable__label-arrow\">numerical</label><div class=\"sk-toggleable__content\"><pre>[&#x27;mintemp&#x27;, &#x27;maxtemp&#x27;, &#x27;rainfall&#x27;, &#x27;evaporation&#x27;, &#x27;sunshine&#x27;, &#x27;windgustspeed&#x27;, &#x27;windspeed9am&#x27;, &#x27;windspeed3pm&#x27;, &#x27;humidity9am&#x27;, &#x27;humidity3pm&#x27;, &#x27;pressure9am&#x27;, &#x27;pressure3pm&#x27;, &#x27;cloud9am&#x27;, &#x27;cloud3pm&#x27;, &#x27;temp9am&#x27;, &#x27;temp3pm&#x27;]</pre></div></div></div><div class=\"sk-serial\"><div class=\"sk-item\"><div class=\"sk-serial\"><div class=\"sk-item\"><div class=\"sk-estimator sk-toggleable\"><input class=\"sk-toggleable__control sk-hidden--visually\" id=\"sk-estimator-id-28\" type=\"checkbox\" ><label for=\"sk-estimator-id-28\" class=\"sk-toggleable__label sk-toggleable__label-arrow\">MinMaxScaler</label><div class=\"sk-toggleable__content\"><pre>MinMaxScaler()</pre></div></div></div></div></div></div></div></div><div class=\"sk-parallel-item\"><div class=\"sk-item\"><div class=\"sk-label-container\"><div class=\"sk-label sk-toggleable\"><input class=\"sk-toggleable__control sk-hidden--visually\" id=\"sk-estimator-id-29\" type=\"checkbox\" ><label for=\"sk-estimator-id-29\" class=\"sk-toggleable__label sk-toggleable__label-arrow\">categorical</label><div class=\"sk-toggleable__content\"><pre>[&#x27;windgustdir&#x27;, &#x27;winddir9am&#x27;, &#x27;winddir3pm&#x27;, &#x27;raintoday&#x27;]</pre></div></div></div><div class=\"sk-serial\"><div class=\"sk-item\"><div class=\"sk-serial\"><div class=\"sk-item\"><div class=\"sk-estimator sk-toggleable\"><input class=\"sk-toggleable__control sk-hidden--visually\" id=\"sk-estimator-id-30\" type=\"checkbox\" ><label for=\"sk-estimator-id-30\" class=\"sk-toggleable__label sk-toggleable__label-arrow\">OrdinalEncoder</label><div class=\"sk-toggleable__content\"><pre>OrdinalEncoder()</pre></div></div></div></div></div></div></div></div><div class=\"sk-parallel-item\"><div class=\"sk-item\"><div class=\"sk-label-container\"><div class=\"sk-label sk-toggleable\"><input class=\"sk-toggleable__control sk-hidden--visually\" id=\"sk-estimator-id-31\" type=\"checkbox\" ><label for=\"sk-estimator-id-31\" class=\"sk-toggleable__label sk-toggleable__label-arrow\">remainder</label><div class=\"sk-toggleable__content\"><pre>[]</pre></div></div></div><div class=\"sk-serial\"><div class=\"sk-item\"><div class=\"sk-estimator sk-toggleable\"><input class=\"sk-toggleable__control sk-hidden--visually\" id=\"sk-estimator-id-32\" type=\"checkbox\" ><label for=\"sk-estimator-id-32\" class=\"sk-toggleable__label sk-toggleable__label-arrow\">passthrough</label><div class=\"sk-toggleable__content\"><pre>passthrough</pre></div></div></div></div></div></div></div></div><div class=\"sk-item\"><div class=\"sk-estimator sk-toggleable\"><input class=\"sk-toggleable__control sk-hidden--visually\" id=\"sk-estimator-id-33\" type=\"checkbox\" ><label for=\"sk-estimator-id-33\" class=\"sk-toggleable__label sk-toggleable__label-arrow\">DecisionTreeClassifier</label><div class=\"sk-toggleable__content\"><pre>DecisionTreeClassifier(class_weight={0: 1, 1: 3}, random_state=0)</pre></div></div></div></div></div></div></div>"
      ],
      "text/plain": [
       "Pipeline(steps=[('preprocessor',\n",
       "                 ColumnTransformer(remainder='passthrough',\n",
       "                                   transformers=[('dropcolumns', 'drop',\n",
       "                                                  ['date']),\n",
       "                                                 ('numerical',\n",
       "                                                  Pipeline(steps=[('minmax',\n",
       "                                                                   MinMaxScaler())]),\n",
       "                                                  ['mintemp', 'maxtemp',\n",
       "                                                   'rainfall', 'evaporation',\n",
       "                                                   'sunshine', 'windgustspeed',\n",
       "                                                   'windspeed9am',\n",
       "                                                   'windspeed3pm',\n",
       "                                                   'humidity9am', 'humidity3pm',\n",
       "                                                   'pressure9am', 'pressure3pm',\n",
       "                                                   'cloud9am', 'cloud3pm',\n",
       "                                                   'temp9am', 'temp3pm']),\n",
       "                                                 ('categorical',\n",
       "                                                  Pipeline(steps=[('ordinal',\n",
       "                                                                   OrdinalEncoder())]),\n",
       "                                                  ['windgustdir', 'winddir9am',\n",
       "                                                   'winddir3pm',\n",
       "                                                   'raintoday'])],\n",
       "                                   verbose_feature_names_out=False)),\n",
       "                ('decisiontree',\n",
       "                 DecisionTreeClassifier(class_weight={0: 1, 1: 3},\n",
       "                                        random_state=0))])"
      ]
     },
     "execution_count": 49,
     "metadata": {},
     "output_type": "execute_result"
    }
   ],
   "source": [
    "dtpipeline.fit(X_train, y_train)"
   ]
  },
  {
   "cell_type": "code",
   "execution_count": 50,
   "metadata": {},
   "outputs": [],
   "source": [
    "dtpred = dtpipeline.predict(X_test)"
   ]
  },
  {
   "cell_type": "code",
   "execution_count": 51,
   "metadata": {},
   "outputs": [
    {
     "data": {
      "text/plain": [
       "array([0, 1, 1, 1, 0], dtype=int64)"
      ]
     },
     "execution_count": 51,
     "metadata": {},
     "output_type": "execute_result"
    }
   ],
   "source": [
    "dtpred[0:5]"
   ]
  },
  {
   "cell_type": "code",
   "execution_count": 52,
   "metadata": {},
   "outputs": [
    {
     "name": "stdout",
     "output_type": "stream",
     "text": [
      "Decision Tree Classifier\n",
      "\n",
      "Accuracy: 0.750\n",
      "Jaccard Score: 0.352\n",
      "F1 Score: 0.520\n"
     ]
    }
   ],
   "source": [
    "print(\"Decision Tree Classifier\\n\")\n",
    "print(\"Accuracy:\", \"%.3f\" % accuracy_score(y_test, dtpred))\n",
    "print(\"Jaccard Score:\", \"%.3f\" % jaccard_score(y_test, dtpred))\n",
    "print(\"F1 Score:\", \"%.3f\" % f1_score(y_test, dtpred))"
   ]
  },
  {
   "cell_type": "code",
   "execution_count": 53,
   "metadata": {},
   "outputs": [
    {
     "data": {
      "text/html": [
       "<div>\n",
       "<style scoped>\n",
       "    .dataframe tbody tr th:only-of-type {\n",
       "        vertical-align: middle;\n",
       "    }\n",
       "\n",
       "    .dataframe tbody tr th {\n",
       "        vertical-align: top;\n",
       "    }\n",
       "\n",
       "    .dataframe thead th {\n",
       "        text-align: right;\n",
       "    }\n",
       "</style>\n",
       "<table border=\"1\" class=\"dataframe\">\n",
       "  <thead>\n",
       "    <tr style=\"text-align: right;\">\n",
       "      <th></th>\n",
       "      <th>Model</th>\n",
       "      <th>F1</th>\n",
       "      <th>Jaccard Score</th>\n",
       "      <th>Accuracy</th>\n",
       "    </tr>\n",
       "  </thead>\n",
       "  <tbody>\n",
       "    <tr>\n",
       "      <th>0</th>\n",
       "      <td>Decision Tree Classifier</td>\n",
       "      <td>0.52</td>\n",
       "      <td>0.35</td>\n",
       "      <td>0.75</td>\n",
       "    </tr>\n",
       "  </tbody>\n",
       "</table>\n",
       "</div>"
      ],
      "text/plain": [
       "                      Model   F1  Jaccard Score  Accuracy\n",
       "0  Decision Tree Classifier 0.52           0.35      0.75"
      ]
     },
     "execution_count": 53,
     "metadata": {},
     "output_type": "execute_result"
    }
   ],
   "source": [
    "dttable = pd.DataFrame()\n",
    "dttable = dttable.append({'Model': \"Decision Tree Classifier\",\n",
    "                        'F1':  f1_score(y_test, dtpred),\n",
    "                        'Jaccard Score': jaccard_score(y_test, dtpred),\n",
    "                        'Accuracy': accuracy_score(y_test, dtpred)\n",
    "                      },\n",
    "                        ignore_index=True)\n",
    "                     \n",
    "dttable"
   ]
  },
  {
   "cell_type": "markdown",
   "metadata": {},
   "source": [
    "**=================================================================================================================**"
   ]
  },
  {
   "cell_type": "markdown",
   "metadata": {},
   "source": [
    "# Logistic Regression"
   ]
  },
  {
   "cell_type": "code",
   "execution_count": 54,
   "metadata": {},
   "outputs": [],
   "source": [
    "logrpipeline = Pipeline(steps=\n",
    "                     [\n",
    "                      (\"preprocessing\", preprocessor),  \n",
    "                      ( \"logreg\",  LogisticRegression(random_state=0, class_weight={0:1, 1:3}, solver=\"liblinear\"))\n",
    "                     ])"
   ]
  },
  {
   "cell_type": "code",
   "execution_count": 55,
   "metadata": {},
   "outputs": [
    {
     "data": {
      "text/html": [
       "<style>#sk-container-id-4 {color: black;background-color: white;}#sk-container-id-4 pre{padding: 0;}#sk-container-id-4 div.sk-toggleable {background-color: white;}#sk-container-id-4 label.sk-toggleable__label {cursor: pointer;display: block;width: 100%;margin-bottom: 0;padding: 0.3em;box-sizing: border-box;text-align: center;}#sk-container-id-4 label.sk-toggleable__label-arrow:before {content: \"▸\";float: left;margin-right: 0.25em;color: #696969;}#sk-container-id-4 label.sk-toggleable__label-arrow:hover:before {color: black;}#sk-container-id-4 div.sk-estimator:hover label.sk-toggleable__label-arrow:before {color: black;}#sk-container-id-4 div.sk-toggleable__content {max-height: 0;max-width: 0;overflow: hidden;text-align: left;background-color: #f0f8ff;}#sk-container-id-4 div.sk-toggleable__content pre {margin: 0.2em;color: black;border-radius: 0.25em;background-color: #f0f8ff;}#sk-container-id-4 input.sk-toggleable__control:checked~div.sk-toggleable__content {max-height: 200px;max-width: 100%;overflow: auto;}#sk-container-id-4 input.sk-toggleable__control:checked~label.sk-toggleable__label-arrow:before {content: \"▾\";}#sk-container-id-4 div.sk-estimator input.sk-toggleable__control:checked~label.sk-toggleable__label {background-color: #d4ebff;}#sk-container-id-4 div.sk-label input.sk-toggleable__control:checked~label.sk-toggleable__label {background-color: #d4ebff;}#sk-container-id-4 input.sk-hidden--visually {border: 0;clip: rect(1px 1px 1px 1px);clip: rect(1px, 1px, 1px, 1px);height: 1px;margin: -1px;overflow: hidden;padding: 0;position: absolute;width: 1px;}#sk-container-id-4 div.sk-estimator {font-family: monospace;background-color: #f0f8ff;border: 1px dotted black;border-radius: 0.25em;box-sizing: border-box;margin-bottom: 0.5em;}#sk-container-id-4 div.sk-estimator:hover {background-color: #d4ebff;}#sk-container-id-4 div.sk-parallel-item::after {content: \"\";width: 100%;border-bottom: 1px solid gray;flex-grow: 1;}#sk-container-id-4 div.sk-label:hover label.sk-toggleable__label {background-color: #d4ebff;}#sk-container-id-4 div.sk-serial::before {content: \"\";position: absolute;border-left: 1px solid gray;box-sizing: border-box;top: 0;bottom: 0;left: 50%;z-index: 0;}#sk-container-id-4 div.sk-serial {display: flex;flex-direction: column;align-items: center;background-color: white;padding-right: 0.2em;padding-left: 0.2em;position: relative;}#sk-container-id-4 div.sk-item {position: relative;z-index: 1;}#sk-container-id-4 div.sk-parallel {display: flex;align-items: stretch;justify-content: center;background-color: white;position: relative;}#sk-container-id-4 div.sk-item::before, #sk-container-id-4 div.sk-parallel-item::before {content: \"\";position: absolute;border-left: 1px solid gray;box-sizing: border-box;top: 0;bottom: 0;left: 50%;z-index: -1;}#sk-container-id-4 div.sk-parallel-item {display: flex;flex-direction: column;z-index: 1;position: relative;background-color: white;}#sk-container-id-4 div.sk-parallel-item:first-child::after {align-self: flex-end;width: 50%;}#sk-container-id-4 div.sk-parallel-item:last-child::after {align-self: flex-start;width: 50%;}#sk-container-id-4 div.sk-parallel-item:only-child::after {width: 0;}#sk-container-id-4 div.sk-dashed-wrapped {border: 1px dashed gray;margin: 0 0.4em 0.5em 0.4em;box-sizing: border-box;padding-bottom: 0.4em;background-color: white;}#sk-container-id-4 div.sk-label label {font-family: monospace;font-weight: bold;display: inline-block;line-height: 1.2em;}#sk-container-id-4 div.sk-label-container {text-align: center;}#sk-container-id-4 div.sk-container {/* jupyter's `normalize.less` sets `[hidden] { display: none; }` but bootstrap.min.css set `[hidden] { display: none !important; }` so we also need the `!important` here to be able to override the default hidden behavior on the sphinx rendered scikit-learn.org. See: https://github.com/scikit-learn/scikit-learn/issues/21755 */display: inline-block !important;position: relative;}#sk-container-id-4 div.sk-text-repr-fallback {display: none;}</style><div id=\"sk-container-id-4\" class=\"sk-top-container\"><div class=\"sk-text-repr-fallback\"><pre>Pipeline(steps=[(&#x27;preprocessing&#x27;,\n",
       "                 ColumnTransformer(remainder=&#x27;passthrough&#x27;,\n",
       "                                   transformers=[(&#x27;dropcolumns&#x27;, &#x27;drop&#x27;,\n",
       "                                                  [&#x27;date&#x27;]),\n",
       "                                                 (&#x27;numerical&#x27;,\n",
       "                                                  Pipeline(steps=[(&#x27;minmax&#x27;,\n",
       "                                                                   MinMaxScaler())]),\n",
       "                                                  [&#x27;mintemp&#x27;, &#x27;maxtemp&#x27;,\n",
       "                                                   &#x27;rainfall&#x27;, &#x27;evaporation&#x27;,\n",
       "                                                   &#x27;sunshine&#x27;, &#x27;windgustspeed&#x27;,\n",
       "                                                   &#x27;windspeed9am&#x27;,\n",
       "                                                   &#x27;windspeed3pm&#x27;,\n",
       "                                                   &#x27;humidity9am&#x27;, &#x27;humidity3pm&#x27;,\n",
       "                                                   &#x27;pressure9am&#x27;, &#x27;pressure3pm&#x27;,\n",
       "                                                   &#x27;cloud9am&#x27;, &#x27;cloud3pm&#x27;,\n",
       "                                                   &#x27;temp9am&#x27;, &#x27;temp3pm&#x27;]),\n",
       "                                                 (&#x27;categorical&#x27;,\n",
       "                                                  Pipeline(steps=[(&#x27;ordinal&#x27;,\n",
       "                                                                   OrdinalEncoder())]),\n",
       "                                                  [&#x27;windgustdir&#x27;, &#x27;winddir9am&#x27;,\n",
       "                                                   &#x27;winddir3pm&#x27;,\n",
       "                                                   &#x27;raintoday&#x27;])],\n",
       "                                   verbose_feature_names_out=False)),\n",
       "                (&#x27;logreg&#x27;,\n",
       "                 LogisticRegression(class_weight={0: 1, 1: 3}, random_state=0,\n",
       "                                    solver=&#x27;liblinear&#x27;))])</pre><b>In a Jupyter environment, please rerun this cell to show the HTML representation or trust the notebook. <br />On GitHub, the HTML representation is unable to render, please try loading this page with nbviewer.org.</b></div><div class=\"sk-container\" hidden><div class=\"sk-item sk-dashed-wrapped\"><div class=\"sk-label-container\"><div class=\"sk-label sk-toggleable\"><input class=\"sk-toggleable__control sk-hidden--visually\" id=\"sk-estimator-id-34\" type=\"checkbox\" ><label for=\"sk-estimator-id-34\" class=\"sk-toggleable__label sk-toggleable__label-arrow\">Pipeline</label><div class=\"sk-toggleable__content\"><pre>Pipeline(steps=[(&#x27;preprocessing&#x27;,\n",
       "                 ColumnTransformer(remainder=&#x27;passthrough&#x27;,\n",
       "                                   transformers=[(&#x27;dropcolumns&#x27;, &#x27;drop&#x27;,\n",
       "                                                  [&#x27;date&#x27;]),\n",
       "                                                 (&#x27;numerical&#x27;,\n",
       "                                                  Pipeline(steps=[(&#x27;minmax&#x27;,\n",
       "                                                                   MinMaxScaler())]),\n",
       "                                                  [&#x27;mintemp&#x27;, &#x27;maxtemp&#x27;,\n",
       "                                                   &#x27;rainfall&#x27;, &#x27;evaporation&#x27;,\n",
       "                                                   &#x27;sunshine&#x27;, &#x27;windgustspeed&#x27;,\n",
       "                                                   &#x27;windspeed9am&#x27;,\n",
       "                                                   &#x27;windspeed3pm&#x27;,\n",
       "                                                   &#x27;humidity9am&#x27;, &#x27;humidity3pm&#x27;,\n",
       "                                                   &#x27;pressure9am&#x27;, &#x27;pressure3pm&#x27;,\n",
       "                                                   &#x27;cloud9am&#x27;, &#x27;cloud3pm&#x27;,\n",
       "                                                   &#x27;temp9am&#x27;, &#x27;temp3pm&#x27;]),\n",
       "                                                 (&#x27;categorical&#x27;,\n",
       "                                                  Pipeline(steps=[(&#x27;ordinal&#x27;,\n",
       "                                                                   OrdinalEncoder())]),\n",
       "                                                  [&#x27;windgustdir&#x27;, &#x27;winddir9am&#x27;,\n",
       "                                                   &#x27;winddir3pm&#x27;,\n",
       "                                                   &#x27;raintoday&#x27;])],\n",
       "                                   verbose_feature_names_out=False)),\n",
       "                (&#x27;logreg&#x27;,\n",
       "                 LogisticRegression(class_weight={0: 1, 1: 3}, random_state=0,\n",
       "                                    solver=&#x27;liblinear&#x27;))])</pre></div></div></div><div class=\"sk-serial\"><div class=\"sk-item sk-dashed-wrapped\"><div class=\"sk-label-container\"><div class=\"sk-label sk-toggleable\"><input class=\"sk-toggleable__control sk-hidden--visually\" id=\"sk-estimator-id-35\" type=\"checkbox\" ><label for=\"sk-estimator-id-35\" class=\"sk-toggleable__label sk-toggleable__label-arrow\">preprocessing: ColumnTransformer</label><div class=\"sk-toggleable__content\"><pre>ColumnTransformer(remainder=&#x27;passthrough&#x27;,\n",
       "                  transformers=[(&#x27;dropcolumns&#x27;, &#x27;drop&#x27;, [&#x27;date&#x27;]),\n",
       "                                (&#x27;numerical&#x27;,\n",
       "                                 Pipeline(steps=[(&#x27;minmax&#x27;, MinMaxScaler())]),\n",
       "                                 [&#x27;mintemp&#x27;, &#x27;maxtemp&#x27;, &#x27;rainfall&#x27;,\n",
       "                                  &#x27;evaporation&#x27;, &#x27;sunshine&#x27;, &#x27;windgustspeed&#x27;,\n",
       "                                  &#x27;windspeed9am&#x27;, &#x27;windspeed3pm&#x27;, &#x27;humidity9am&#x27;,\n",
       "                                  &#x27;humidity3pm&#x27;, &#x27;pressure9am&#x27;, &#x27;pressure3pm&#x27;,\n",
       "                                  &#x27;cloud9am&#x27;, &#x27;cloud3pm&#x27;, &#x27;temp9am&#x27;,\n",
       "                                  &#x27;temp3pm&#x27;]),\n",
       "                                (&#x27;categorical&#x27;,\n",
       "                                 Pipeline(steps=[(&#x27;ordinal&#x27;,\n",
       "                                                  OrdinalEncoder())]),\n",
       "                                 [&#x27;windgustdir&#x27;, &#x27;winddir9am&#x27;, &#x27;winddir3pm&#x27;,\n",
       "                                  &#x27;raintoday&#x27;])],\n",
       "                  verbose_feature_names_out=False)</pre></div></div></div><div class=\"sk-parallel\"><div class=\"sk-parallel-item\"><div class=\"sk-item\"><div class=\"sk-label-container\"><div class=\"sk-label sk-toggleable\"><input class=\"sk-toggleable__control sk-hidden--visually\" id=\"sk-estimator-id-36\" type=\"checkbox\" ><label for=\"sk-estimator-id-36\" class=\"sk-toggleable__label sk-toggleable__label-arrow\">dropcolumns</label><div class=\"sk-toggleable__content\"><pre>[&#x27;date&#x27;]</pre></div></div></div><div class=\"sk-serial\"><div class=\"sk-item\"><div class=\"sk-estimator sk-toggleable\"><input class=\"sk-toggleable__control sk-hidden--visually\" id=\"sk-estimator-id-37\" type=\"checkbox\" ><label for=\"sk-estimator-id-37\" class=\"sk-toggleable__label sk-toggleable__label-arrow\">drop</label><div class=\"sk-toggleable__content\"><pre>drop</pre></div></div></div></div></div></div><div class=\"sk-parallel-item\"><div class=\"sk-item\"><div class=\"sk-label-container\"><div class=\"sk-label sk-toggleable\"><input class=\"sk-toggleable__control sk-hidden--visually\" id=\"sk-estimator-id-38\" type=\"checkbox\" ><label for=\"sk-estimator-id-38\" class=\"sk-toggleable__label sk-toggleable__label-arrow\">numerical</label><div class=\"sk-toggleable__content\"><pre>[&#x27;mintemp&#x27;, &#x27;maxtemp&#x27;, &#x27;rainfall&#x27;, &#x27;evaporation&#x27;, &#x27;sunshine&#x27;, &#x27;windgustspeed&#x27;, &#x27;windspeed9am&#x27;, &#x27;windspeed3pm&#x27;, &#x27;humidity9am&#x27;, &#x27;humidity3pm&#x27;, &#x27;pressure9am&#x27;, &#x27;pressure3pm&#x27;, &#x27;cloud9am&#x27;, &#x27;cloud3pm&#x27;, &#x27;temp9am&#x27;, &#x27;temp3pm&#x27;]</pre></div></div></div><div class=\"sk-serial\"><div class=\"sk-item\"><div class=\"sk-serial\"><div class=\"sk-item\"><div class=\"sk-estimator sk-toggleable\"><input class=\"sk-toggleable__control sk-hidden--visually\" id=\"sk-estimator-id-39\" type=\"checkbox\" ><label for=\"sk-estimator-id-39\" class=\"sk-toggleable__label sk-toggleable__label-arrow\">MinMaxScaler</label><div class=\"sk-toggleable__content\"><pre>MinMaxScaler()</pre></div></div></div></div></div></div></div></div><div class=\"sk-parallel-item\"><div class=\"sk-item\"><div class=\"sk-label-container\"><div class=\"sk-label sk-toggleable\"><input class=\"sk-toggleable__control sk-hidden--visually\" id=\"sk-estimator-id-40\" type=\"checkbox\" ><label for=\"sk-estimator-id-40\" class=\"sk-toggleable__label sk-toggleable__label-arrow\">categorical</label><div class=\"sk-toggleable__content\"><pre>[&#x27;windgustdir&#x27;, &#x27;winddir9am&#x27;, &#x27;winddir3pm&#x27;, &#x27;raintoday&#x27;]</pre></div></div></div><div class=\"sk-serial\"><div class=\"sk-item\"><div class=\"sk-serial\"><div class=\"sk-item\"><div class=\"sk-estimator sk-toggleable\"><input class=\"sk-toggleable__control sk-hidden--visually\" id=\"sk-estimator-id-41\" type=\"checkbox\" ><label for=\"sk-estimator-id-41\" class=\"sk-toggleable__label sk-toggleable__label-arrow\">OrdinalEncoder</label><div class=\"sk-toggleable__content\"><pre>OrdinalEncoder()</pre></div></div></div></div></div></div></div></div><div class=\"sk-parallel-item\"><div class=\"sk-item\"><div class=\"sk-label-container\"><div class=\"sk-label sk-toggleable\"><input class=\"sk-toggleable__control sk-hidden--visually\" id=\"sk-estimator-id-42\" type=\"checkbox\" ><label for=\"sk-estimator-id-42\" class=\"sk-toggleable__label sk-toggleable__label-arrow\">remainder</label><div class=\"sk-toggleable__content\"><pre>[]</pre></div></div></div><div class=\"sk-serial\"><div class=\"sk-item\"><div class=\"sk-estimator sk-toggleable\"><input class=\"sk-toggleable__control sk-hidden--visually\" id=\"sk-estimator-id-43\" type=\"checkbox\" ><label for=\"sk-estimator-id-43\" class=\"sk-toggleable__label sk-toggleable__label-arrow\">passthrough</label><div class=\"sk-toggleable__content\"><pre>passthrough</pre></div></div></div></div></div></div></div></div><div class=\"sk-item\"><div class=\"sk-estimator sk-toggleable\"><input class=\"sk-toggleable__control sk-hidden--visually\" id=\"sk-estimator-id-44\" type=\"checkbox\" ><label for=\"sk-estimator-id-44\" class=\"sk-toggleable__label sk-toggleable__label-arrow\">LogisticRegression</label><div class=\"sk-toggleable__content\"><pre>LogisticRegression(class_weight={0: 1, 1: 3}, random_state=0,\n",
       "                   solver=&#x27;liblinear&#x27;)</pre></div></div></div></div></div></div></div>"
      ],
      "text/plain": [
       "Pipeline(steps=[('preprocessing',\n",
       "                 ColumnTransformer(remainder='passthrough',\n",
       "                                   transformers=[('dropcolumns', 'drop',\n",
       "                                                  ['date']),\n",
       "                                                 ('numerical',\n",
       "                                                  Pipeline(steps=[('minmax',\n",
       "                                                                   MinMaxScaler())]),\n",
       "                                                  ['mintemp', 'maxtemp',\n",
       "                                                   'rainfall', 'evaporation',\n",
       "                                                   'sunshine', 'windgustspeed',\n",
       "                                                   'windspeed9am',\n",
       "                                                   'windspeed3pm',\n",
       "                                                   'humidity9am', 'humidity3pm',\n",
       "                                                   'pressure9am', 'pressure3pm',\n",
       "                                                   'cloud9am', 'cloud3pm',\n",
       "                                                   'temp9am', 'temp3pm']),\n",
       "                                                 ('categorical',\n",
       "                                                  Pipeline(steps=[('ordinal',\n",
       "                                                                   OrdinalEncoder())]),\n",
       "                                                  ['windgustdir', 'winddir9am',\n",
       "                                                   'winddir3pm',\n",
       "                                                   'raintoday'])],\n",
       "                                   verbose_feature_names_out=False)),\n",
       "                ('logreg',\n",
       "                 LogisticRegression(class_weight={0: 1, 1: 3}, random_state=0,\n",
       "                                    solver='liblinear'))])"
      ]
     },
     "execution_count": 55,
     "metadata": {},
     "output_type": "execute_result"
    }
   ],
   "source": [
    "logrpipeline.fit(X_train,y_train)"
   ]
  },
  {
   "cell_type": "code",
   "execution_count": 56,
   "metadata": {},
   "outputs": [],
   "source": [
    "logr_pred = logrpipeline.predict(X_test)"
   ]
  },
  {
   "cell_type": "code",
   "execution_count": 57,
   "metadata": {},
   "outputs": [],
   "source": [
    "logr_proba = logrpipeline.predict_proba(X_test)"
   ]
  },
  {
   "cell_type": "code",
   "execution_count": 58,
   "metadata": {},
   "outputs": [
    {
     "data": {
      "text/plain": [
       "array([0, 1, 1, 1, 0], dtype=int64)"
      ]
     },
     "execution_count": 58,
     "metadata": {},
     "output_type": "execute_result"
    }
   ],
   "source": [
    "logr_pred[0:5]"
   ]
  },
  {
   "cell_type": "code",
   "execution_count": 59,
   "metadata": {},
   "outputs": [
    {
     "data": {
      "text/plain": [
       "array([[0.88049369, 0.11950631],\n",
       "       [0.02318631, 0.97681369],\n",
       "       [0.10519224, 0.89480776],\n",
       "       [0.29282371, 0.70717629],\n",
       "       [0.92207827, 0.07792173]])"
      ]
     },
     "execution_count": 59,
     "metadata": {},
     "output_type": "execute_result"
    }
   ],
   "source": [
    "logr_proba[0:5]"
   ]
  },
  {
   "cell_type": "code",
   "execution_count": 60,
   "metadata": {},
   "outputs": [
    {
     "name": "stdout",
     "output_type": "stream",
     "text": [
      "Logistic Classifier\n",
      "\n",
      "Accuracy: 0.771\n",
      "Jaccard Score: 0.462\n",
      "F1 Score: 0.632\n",
      "Log Loss Score: 0.476\n"
     ]
    }
   ],
   "source": [
    "print(\"Logistic Classifier\\n\")\n",
    "print(\"Accuracy:\", \"%.3f\" % accuracy_score(y_test, logr_pred))\n",
    "print(\"Jaccard Score:\", \"%.3f\" % jaccard_score(y_test, logr_pred))\n",
    "print(\"F1 Score:\", \"%.3f\" % f1_score(y_test, logr_pred))\n",
    "print(\"Log Loss Score:\", \"%.3f\" % log_loss(y_test, logr_proba))"
   ]
  },
  {
   "cell_type": "code",
   "execution_count": 61,
   "metadata": {},
   "outputs": [
    {
     "data": {
      "text/html": [
       "<div>\n",
       "<style scoped>\n",
       "    .dataframe tbody tr th:only-of-type {\n",
       "        vertical-align: middle;\n",
       "    }\n",
       "\n",
       "    .dataframe tbody tr th {\n",
       "        vertical-align: top;\n",
       "    }\n",
       "\n",
       "    .dataframe thead th {\n",
       "        text-align: right;\n",
       "    }\n",
       "</style>\n",
       "<table border=\"1\" class=\"dataframe\">\n",
       "  <thead>\n",
       "    <tr style=\"text-align: right;\">\n",
       "      <th></th>\n",
       "      <th>Model</th>\n",
       "      <th>F1</th>\n",
       "      <th>Jaccard Score</th>\n",
       "      <th>Accuracy</th>\n",
       "      <th>Log Loss</th>\n",
       "    </tr>\n",
       "  </thead>\n",
       "  <tbody>\n",
       "    <tr>\n",
       "      <th>0</th>\n",
       "      <td>Logistic Classifier</td>\n",
       "      <td>0.63</td>\n",
       "      <td>0.46</td>\n",
       "      <td>0.77</td>\n",
       "      <td>0.48</td>\n",
       "    </tr>\n",
       "  </tbody>\n",
       "</table>\n",
       "</div>"
      ],
      "text/plain": [
       "                 Model   F1  Jaccard Score  Accuracy  Log Loss\n",
       "0  Logistic Classifier 0.63           0.46      0.77      0.48"
      ]
     },
     "execution_count": 61,
     "metadata": {},
     "output_type": "execute_result"
    }
   ],
   "source": [
    "logtable = pd.DataFrame()\n",
    "logtable = logtable.append({'Model': \"Logistic Classifier\",\n",
    "                        'F1':  f1_score(y_test, logr_pred),\n",
    "                        'Jaccard Score': jaccard_score(y_test, logr_pred),\n",
    "                        'Accuracy': accuracy_score(y_test, logr_pred),\n",
    "                        'Log Loss' :  log_loss(y_test, logr_proba)   \n",
    "                      },\n",
    "                        ignore_index=True)\n",
    "                     \n",
    "logtable"
   ]
  },
  {
   "cell_type": "markdown",
   "metadata": {},
   "source": [
    "**==================================================================================================================**"
   ]
  },
  {
   "cell_type": "markdown",
   "metadata": {},
   "source": [
    "# SVM"
   ]
  },
  {
   "cell_type": "code",
   "execution_count": 62,
   "metadata": {},
   "outputs": [],
   "source": [
    "svmpipeline = Pipeline(steps=\n",
    "                     [\n",
    "                      (\"preprocessing\", preprocessor),  \n",
    "                      ( \"svm\",  SVC(kernel='sigmoid', random_state=0, class_weight={0:1, 1:3}))\n",
    "                     ])"
   ]
  },
  {
   "cell_type": "code",
   "execution_count": 63,
   "metadata": {},
   "outputs": [
    {
     "data": {
      "text/html": [
       "<style>#sk-container-id-5 {color: black;background-color: white;}#sk-container-id-5 pre{padding: 0;}#sk-container-id-5 div.sk-toggleable {background-color: white;}#sk-container-id-5 label.sk-toggleable__label {cursor: pointer;display: block;width: 100%;margin-bottom: 0;padding: 0.3em;box-sizing: border-box;text-align: center;}#sk-container-id-5 label.sk-toggleable__label-arrow:before {content: \"▸\";float: left;margin-right: 0.25em;color: #696969;}#sk-container-id-5 label.sk-toggleable__label-arrow:hover:before {color: black;}#sk-container-id-5 div.sk-estimator:hover label.sk-toggleable__label-arrow:before {color: black;}#sk-container-id-5 div.sk-toggleable__content {max-height: 0;max-width: 0;overflow: hidden;text-align: left;background-color: #f0f8ff;}#sk-container-id-5 div.sk-toggleable__content pre {margin: 0.2em;color: black;border-radius: 0.25em;background-color: #f0f8ff;}#sk-container-id-5 input.sk-toggleable__control:checked~div.sk-toggleable__content {max-height: 200px;max-width: 100%;overflow: auto;}#sk-container-id-5 input.sk-toggleable__control:checked~label.sk-toggleable__label-arrow:before {content: \"▾\";}#sk-container-id-5 div.sk-estimator input.sk-toggleable__control:checked~label.sk-toggleable__label {background-color: #d4ebff;}#sk-container-id-5 div.sk-label input.sk-toggleable__control:checked~label.sk-toggleable__label {background-color: #d4ebff;}#sk-container-id-5 input.sk-hidden--visually {border: 0;clip: rect(1px 1px 1px 1px);clip: rect(1px, 1px, 1px, 1px);height: 1px;margin: -1px;overflow: hidden;padding: 0;position: absolute;width: 1px;}#sk-container-id-5 div.sk-estimator {font-family: monospace;background-color: #f0f8ff;border: 1px dotted black;border-radius: 0.25em;box-sizing: border-box;margin-bottom: 0.5em;}#sk-container-id-5 div.sk-estimator:hover {background-color: #d4ebff;}#sk-container-id-5 div.sk-parallel-item::after {content: \"\";width: 100%;border-bottom: 1px solid gray;flex-grow: 1;}#sk-container-id-5 div.sk-label:hover label.sk-toggleable__label {background-color: #d4ebff;}#sk-container-id-5 div.sk-serial::before {content: \"\";position: absolute;border-left: 1px solid gray;box-sizing: border-box;top: 0;bottom: 0;left: 50%;z-index: 0;}#sk-container-id-5 div.sk-serial {display: flex;flex-direction: column;align-items: center;background-color: white;padding-right: 0.2em;padding-left: 0.2em;position: relative;}#sk-container-id-5 div.sk-item {position: relative;z-index: 1;}#sk-container-id-5 div.sk-parallel {display: flex;align-items: stretch;justify-content: center;background-color: white;position: relative;}#sk-container-id-5 div.sk-item::before, #sk-container-id-5 div.sk-parallel-item::before {content: \"\";position: absolute;border-left: 1px solid gray;box-sizing: border-box;top: 0;bottom: 0;left: 50%;z-index: -1;}#sk-container-id-5 div.sk-parallel-item {display: flex;flex-direction: column;z-index: 1;position: relative;background-color: white;}#sk-container-id-5 div.sk-parallel-item:first-child::after {align-self: flex-end;width: 50%;}#sk-container-id-5 div.sk-parallel-item:last-child::after {align-self: flex-start;width: 50%;}#sk-container-id-5 div.sk-parallel-item:only-child::after {width: 0;}#sk-container-id-5 div.sk-dashed-wrapped {border: 1px dashed gray;margin: 0 0.4em 0.5em 0.4em;box-sizing: border-box;padding-bottom: 0.4em;background-color: white;}#sk-container-id-5 div.sk-label label {font-family: monospace;font-weight: bold;display: inline-block;line-height: 1.2em;}#sk-container-id-5 div.sk-label-container {text-align: center;}#sk-container-id-5 div.sk-container {/* jupyter's `normalize.less` sets `[hidden] { display: none; }` but bootstrap.min.css set `[hidden] { display: none !important; }` so we also need the `!important` here to be able to override the default hidden behavior on the sphinx rendered scikit-learn.org. See: https://github.com/scikit-learn/scikit-learn/issues/21755 */display: inline-block !important;position: relative;}#sk-container-id-5 div.sk-text-repr-fallback {display: none;}</style><div id=\"sk-container-id-5\" class=\"sk-top-container\"><div class=\"sk-text-repr-fallback\"><pre>Pipeline(steps=[(&#x27;preprocessing&#x27;,\n",
       "                 ColumnTransformer(remainder=&#x27;passthrough&#x27;,\n",
       "                                   transformers=[(&#x27;dropcolumns&#x27;, &#x27;drop&#x27;,\n",
       "                                                  [&#x27;date&#x27;]),\n",
       "                                                 (&#x27;numerical&#x27;,\n",
       "                                                  Pipeline(steps=[(&#x27;minmax&#x27;,\n",
       "                                                                   MinMaxScaler())]),\n",
       "                                                  [&#x27;mintemp&#x27;, &#x27;maxtemp&#x27;,\n",
       "                                                   &#x27;rainfall&#x27;, &#x27;evaporation&#x27;,\n",
       "                                                   &#x27;sunshine&#x27;, &#x27;windgustspeed&#x27;,\n",
       "                                                   &#x27;windspeed9am&#x27;,\n",
       "                                                   &#x27;windspeed3pm&#x27;,\n",
       "                                                   &#x27;humidity9am&#x27;, &#x27;humidity3pm&#x27;,\n",
       "                                                   &#x27;pressure9am&#x27;, &#x27;pressure3pm&#x27;,\n",
       "                                                   &#x27;cloud9am&#x27;, &#x27;cloud3pm&#x27;,\n",
       "                                                   &#x27;temp9am&#x27;, &#x27;temp3pm&#x27;]),\n",
       "                                                 (&#x27;categorical&#x27;,\n",
       "                                                  Pipeline(steps=[(&#x27;ordinal&#x27;,\n",
       "                                                                   OrdinalEncoder())]),\n",
       "                                                  [&#x27;windgustdir&#x27;, &#x27;winddir9am&#x27;,\n",
       "                                                   &#x27;winddir3pm&#x27;,\n",
       "                                                   &#x27;raintoday&#x27;])],\n",
       "                                   verbose_feature_names_out=False)),\n",
       "                (&#x27;svm&#x27;,\n",
       "                 SVC(class_weight={0: 1, 1: 3}, kernel=&#x27;sigmoid&#x27;,\n",
       "                     random_state=0))])</pre><b>In a Jupyter environment, please rerun this cell to show the HTML representation or trust the notebook. <br />On GitHub, the HTML representation is unable to render, please try loading this page with nbviewer.org.</b></div><div class=\"sk-container\" hidden><div class=\"sk-item sk-dashed-wrapped\"><div class=\"sk-label-container\"><div class=\"sk-label sk-toggleable\"><input class=\"sk-toggleable__control sk-hidden--visually\" id=\"sk-estimator-id-45\" type=\"checkbox\" ><label for=\"sk-estimator-id-45\" class=\"sk-toggleable__label sk-toggleable__label-arrow\">Pipeline</label><div class=\"sk-toggleable__content\"><pre>Pipeline(steps=[(&#x27;preprocessing&#x27;,\n",
       "                 ColumnTransformer(remainder=&#x27;passthrough&#x27;,\n",
       "                                   transformers=[(&#x27;dropcolumns&#x27;, &#x27;drop&#x27;,\n",
       "                                                  [&#x27;date&#x27;]),\n",
       "                                                 (&#x27;numerical&#x27;,\n",
       "                                                  Pipeline(steps=[(&#x27;minmax&#x27;,\n",
       "                                                                   MinMaxScaler())]),\n",
       "                                                  [&#x27;mintemp&#x27;, &#x27;maxtemp&#x27;,\n",
       "                                                   &#x27;rainfall&#x27;, &#x27;evaporation&#x27;,\n",
       "                                                   &#x27;sunshine&#x27;, &#x27;windgustspeed&#x27;,\n",
       "                                                   &#x27;windspeed9am&#x27;,\n",
       "                                                   &#x27;windspeed3pm&#x27;,\n",
       "                                                   &#x27;humidity9am&#x27;, &#x27;humidity3pm&#x27;,\n",
       "                                                   &#x27;pressure9am&#x27;, &#x27;pressure3pm&#x27;,\n",
       "                                                   &#x27;cloud9am&#x27;, &#x27;cloud3pm&#x27;,\n",
       "                                                   &#x27;temp9am&#x27;, &#x27;temp3pm&#x27;]),\n",
       "                                                 (&#x27;categorical&#x27;,\n",
       "                                                  Pipeline(steps=[(&#x27;ordinal&#x27;,\n",
       "                                                                   OrdinalEncoder())]),\n",
       "                                                  [&#x27;windgustdir&#x27;, &#x27;winddir9am&#x27;,\n",
       "                                                   &#x27;winddir3pm&#x27;,\n",
       "                                                   &#x27;raintoday&#x27;])],\n",
       "                                   verbose_feature_names_out=False)),\n",
       "                (&#x27;svm&#x27;,\n",
       "                 SVC(class_weight={0: 1, 1: 3}, kernel=&#x27;sigmoid&#x27;,\n",
       "                     random_state=0))])</pre></div></div></div><div class=\"sk-serial\"><div class=\"sk-item sk-dashed-wrapped\"><div class=\"sk-label-container\"><div class=\"sk-label sk-toggleable\"><input class=\"sk-toggleable__control sk-hidden--visually\" id=\"sk-estimator-id-46\" type=\"checkbox\" ><label for=\"sk-estimator-id-46\" class=\"sk-toggleable__label sk-toggleable__label-arrow\">preprocessing: ColumnTransformer</label><div class=\"sk-toggleable__content\"><pre>ColumnTransformer(remainder=&#x27;passthrough&#x27;,\n",
       "                  transformers=[(&#x27;dropcolumns&#x27;, &#x27;drop&#x27;, [&#x27;date&#x27;]),\n",
       "                                (&#x27;numerical&#x27;,\n",
       "                                 Pipeline(steps=[(&#x27;minmax&#x27;, MinMaxScaler())]),\n",
       "                                 [&#x27;mintemp&#x27;, &#x27;maxtemp&#x27;, &#x27;rainfall&#x27;,\n",
       "                                  &#x27;evaporation&#x27;, &#x27;sunshine&#x27;, &#x27;windgustspeed&#x27;,\n",
       "                                  &#x27;windspeed9am&#x27;, &#x27;windspeed3pm&#x27;, &#x27;humidity9am&#x27;,\n",
       "                                  &#x27;humidity3pm&#x27;, &#x27;pressure9am&#x27;, &#x27;pressure3pm&#x27;,\n",
       "                                  &#x27;cloud9am&#x27;, &#x27;cloud3pm&#x27;, &#x27;temp9am&#x27;,\n",
       "                                  &#x27;temp3pm&#x27;]),\n",
       "                                (&#x27;categorical&#x27;,\n",
       "                                 Pipeline(steps=[(&#x27;ordinal&#x27;,\n",
       "                                                  OrdinalEncoder())]),\n",
       "                                 [&#x27;windgustdir&#x27;, &#x27;winddir9am&#x27;, &#x27;winddir3pm&#x27;,\n",
       "                                  &#x27;raintoday&#x27;])],\n",
       "                  verbose_feature_names_out=False)</pre></div></div></div><div class=\"sk-parallel\"><div class=\"sk-parallel-item\"><div class=\"sk-item\"><div class=\"sk-label-container\"><div class=\"sk-label sk-toggleable\"><input class=\"sk-toggleable__control sk-hidden--visually\" id=\"sk-estimator-id-47\" type=\"checkbox\" ><label for=\"sk-estimator-id-47\" class=\"sk-toggleable__label sk-toggleable__label-arrow\">dropcolumns</label><div class=\"sk-toggleable__content\"><pre>[&#x27;date&#x27;]</pre></div></div></div><div class=\"sk-serial\"><div class=\"sk-item\"><div class=\"sk-estimator sk-toggleable\"><input class=\"sk-toggleable__control sk-hidden--visually\" id=\"sk-estimator-id-48\" type=\"checkbox\" ><label for=\"sk-estimator-id-48\" class=\"sk-toggleable__label sk-toggleable__label-arrow\">drop</label><div class=\"sk-toggleable__content\"><pre>drop</pre></div></div></div></div></div></div><div class=\"sk-parallel-item\"><div class=\"sk-item\"><div class=\"sk-label-container\"><div class=\"sk-label sk-toggleable\"><input class=\"sk-toggleable__control sk-hidden--visually\" id=\"sk-estimator-id-49\" type=\"checkbox\" ><label for=\"sk-estimator-id-49\" class=\"sk-toggleable__label sk-toggleable__label-arrow\">numerical</label><div class=\"sk-toggleable__content\"><pre>[&#x27;mintemp&#x27;, &#x27;maxtemp&#x27;, &#x27;rainfall&#x27;, &#x27;evaporation&#x27;, &#x27;sunshine&#x27;, &#x27;windgustspeed&#x27;, &#x27;windspeed9am&#x27;, &#x27;windspeed3pm&#x27;, &#x27;humidity9am&#x27;, &#x27;humidity3pm&#x27;, &#x27;pressure9am&#x27;, &#x27;pressure3pm&#x27;, &#x27;cloud9am&#x27;, &#x27;cloud3pm&#x27;, &#x27;temp9am&#x27;, &#x27;temp3pm&#x27;]</pre></div></div></div><div class=\"sk-serial\"><div class=\"sk-item\"><div class=\"sk-serial\"><div class=\"sk-item\"><div class=\"sk-estimator sk-toggleable\"><input class=\"sk-toggleable__control sk-hidden--visually\" id=\"sk-estimator-id-50\" type=\"checkbox\" ><label for=\"sk-estimator-id-50\" class=\"sk-toggleable__label sk-toggleable__label-arrow\">MinMaxScaler</label><div class=\"sk-toggleable__content\"><pre>MinMaxScaler()</pre></div></div></div></div></div></div></div></div><div class=\"sk-parallel-item\"><div class=\"sk-item\"><div class=\"sk-label-container\"><div class=\"sk-label sk-toggleable\"><input class=\"sk-toggleable__control sk-hidden--visually\" id=\"sk-estimator-id-51\" type=\"checkbox\" ><label for=\"sk-estimator-id-51\" class=\"sk-toggleable__label sk-toggleable__label-arrow\">categorical</label><div class=\"sk-toggleable__content\"><pre>[&#x27;windgustdir&#x27;, &#x27;winddir9am&#x27;, &#x27;winddir3pm&#x27;, &#x27;raintoday&#x27;]</pre></div></div></div><div class=\"sk-serial\"><div class=\"sk-item\"><div class=\"sk-serial\"><div class=\"sk-item\"><div class=\"sk-estimator sk-toggleable\"><input class=\"sk-toggleable__control sk-hidden--visually\" id=\"sk-estimator-id-52\" type=\"checkbox\" ><label for=\"sk-estimator-id-52\" class=\"sk-toggleable__label sk-toggleable__label-arrow\">OrdinalEncoder</label><div class=\"sk-toggleable__content\"><pre>OrdinalEncoder()</pre></div></div></div></div></div></div></div></div><div class=\"sk-parallel-item\"><div class=\"sk-item\"><div class=\"sk-label-container\"><div class=\"sk-label sk-toggleable\"><input class=\"sk-toggleable__control sk-hidden--visually\" id=\"sk-estimator-id-53\" type=\"checkbox\" ><label for=\"sk-estimator-id-53\" class=\"sk-toggleable__label sk-toggleable__label-arrow\">remainder</label><div class=\"sk-toggleable__content\"><pre>[]</pre></div></div></div><div class=\"sk-serial\"><div class=\"sk-item\"><div class=\"sk-estimator sk-toggleable\"><input class=\"sk-toggleable__control sk-hidden--visually\" id=\"sk-estimator-id-54\" type=\"checkbox\" ><label for=\"sk-estimator-id-54\" class=\"sk-toggleable__label sk-toggleable__label-arrow\">passthrough</label><div class=\"sk-toggleable__content\"><pre>passthrough</pre></div></div></div></div></div></div></div></div><div class=\"sk-item\"><div class=\"sk-estimator sk-toggleable\"><input class=\"sk-toggleable__control sk-hidden--visually\" id=\"sk-estimator-id-55\" type=\"checkbox\" ><label for=\"sk-estimator-id-55\" class=\"sk-toggleable__label sk-toggleable__label-arrow\">SVC</label><div class=\"sk-toggleable__content\"><pre>SVC(class_weight={0: 1, 1: 3}, kernel=&#x27;sigmoid&#x27;, random_state=0)</pre></div></div></div></div></div></div></div>"
      ],
      "text/plain": [
       "Pipeline(steps=[('preprocessing',\n",
       "                 ColumnTransformer(remainder='passthrough',\n",
       "                                   transformers=[('dropcolumns', 'drop',\n",
       "                                                  ['date']),\n",
       "                                                 ('numerical',\n",
       "                                                  Pipeline(steps=[('minmax',\n",
       "                                                                   MinMaxScaler())]),\n",
       "                                                  ['mintemp', 'maxtemp',\n",
       "                                                   'rainfall', 'evaporation',\n",
       "                                                   'sunshine', 'windgustspeed',\n",
       "                                                   'windspeed9am',\n",
       "                                                   'windspeed3pm',\n",
       "                                                   'humidity9am', 'humidity3pm',\n",
       "                                                   'pressure9am', 'pressure3pm',\n",
       "                                                   'cloud9am', 'cloud3pm',\n",
       "                                                   'temp9am', 'temp3pm']),\n",
       "                                                 ('categorical',\n",
       "                                                  Pipeline(steps=[('ordinal',\n",
       "                                                                   OrdinalEncoder())]),\n",
       "                                                  ['windgustdir', 'winddir9am',\n",
       "                                                   'winddir3pm',\n",
       "                                                   'raintoday'])],\n",
       "                                   verbose_feature_names_out=False)),\n",
       "                ('svm',\n",
       "                 SVC(class_weight={0: 1, 1: 3}, kernel='sigmoid',\n",
       "                     random_state=0))])"
      ]
     },
     "execution_count": 63,
     "metadata": {},
     "output_type": "execute_result"
    }
   ],
   "source": [
    "svmpipeline.fit(X_train,y_train)"
   ]
  },
  {
   "cell_type": "code",
   "execution_count": 64,
   "metadata": {},
   "outputs": [],
   "source": [
    "svm_pred = svmpipeline.predict(X_test)"
   ]
  },
  {
   "cell_type": "code",
   "execution_count": 65,
   "metadata": {},
   "outputs": [
    {
     "name": "stdout",
     "output_type": "stream",
     "text": [
      "Support Vector Classifier\n",
      "\n",
      "Accuracy: 0.456\n",
      "Jaccard Score: 0.205\n",
      "F1 Score: 0.341\n"
     ]
    }
   ],
   "source": [
    "print(\"Support Vector Classifier\\n\")\n",
    "print(\"Accuracy:\", \"%.3f\" % accuracy_score(y_test, svm_pred))\n",
    "print(\"Jaccard Score:\", \"%.3f\" % jaccard_score(y_test, svm_pred))\n",
    "print(\"F1 Score:\", \"%.3f\" % f1_score(y_test, svm_pred))"
   ]
  },
  {
   "cell_type": "code",
   "execution_count": 66,
   "metadata": {},
   "outputs": [
    {
     "data": {
      "text/html": [
       "<div>\n",
       "<style scoped>\n",
       "    .dataframe tbody tr th:only-of-type {\n",
       "        vertical-align: middle;\n",
       "    }\n",
       "\n",
       "    .dataframe tbody tr th {\n",
       "        vertical-align: top;\n",
       "    }\n",
       "\n",
       "    .dataframe thead th {\n",
       "        text-align: right;\n",
       "    }\n",
       "</style>\n",
       "<table border=\"1\" class=\"dataframe\">\n",
       "  <thead>\n",
       "    <tr style=\"text-align: right;\">\n",
       "      <th></th>\n",
       "      <th>Model</th>\n",
       "      <th>F1</th>\n",
       "      <th>Jaccard Score</th>\n",
       "      <th>Accuracy</th>\n",
       "    </tr>\n",
       "  </thead>\n",
       "  <tbody>\n",
       "    <tr>\n",
       "      <th>0</th>\n",
       "      <td>SVM Classifier</td>\n",
       "      <td>0.34</td>\n",
       "      <td>0.21</td>\n",
       "      <td>0.46</td>\n",
       "    </tr>\n",
       "  </tbody>\n",
       "</table>\n",
       "</div>"
      ],
      "text/plain": [
       "            Model   F1  Jaccard Score  Accuracy\n",
       "0  SVM Classifier 0.34           0.21      0.46"
      ]
     },
     "execution_count": 66,
     "metadata": {},
     "output_type": "execute_result"
    }
   ],
   "source": [
    "svmtable = pd.DataFrame()\n",
    "svmtable = svmtable.append({'Model': \"SVM Classifier\",\n",
    "                        'F1':  f1_score(y_test, svm_pred),\n",
    "                        'Jaccard Score': jaccard_score(y_test, svm_pred),\n",
    "                        'Accuracy': accuracy_score(y_test, svm_pred),\n",
    "                          \n",
    "                      },\n",
    "                        ignore_index=True)\n",
    "                     \n",
    "svmtable"
   ]
  },
  {
   "cell_type": "markdown",
   "metadata": {},
   "source": [
    "**=================================================================================================================**"
   ]
  },
  {
   "cell_type": "markdown",
   "metadata": {},
   "source": [
    "# Model Comparison Report\n",
    "\n",
    "Create a table of results to compare model performance."
   ]
  },
  {
   "cell_type": "code",
   "execution_count": 67,
   "metadata": {},
   "outputs": [],
   "source": [
    "all_tables = pd.concat([lrtable,knntable,dttable,logtable,svmtable], axis=0)"
   ]
  },
  {
   "cell_type": "code",
   "execution_count": 68,
   "metadata": {},
   "outputs": [
    {
     "data": {
      "text/html": [
       "<div>\n",
       "<style scoped>\n",
       "    .dataframe tbody tr th:only-of-type {\n",
       "        vertical-align: middle;\n",
       "    }\n",
       "\n",
       "    .dataframe tbody tr th {\n",
       "        vertical-align: top;\n",
       "    }\n",
       "\n",
       "    .dataframe thead th {\n",
       "        text-align: right;\n",
       "    }\n",
       "</style>\n",
       "<table border=\"1\" class=\"dataframe\">\n",
       "  <thead>\n",
       "    <tr style=\"text-align: right;\">\n",
       "      <th></th>\n",
       "      <th>Model</th>\n",
       "      <th>MAE</th>\n",
       "      <th>MSE</th>\n",
       "      <th>R2</th>\n",
       "      <th>F1</th>\n",
       "      <th>Jaccard Score</th>\n",
       "      <th>Accuracy</th>\n",
       "      <th>Log Loss</th>\n",
       "    </tr>\n",
       "  </thead>\n",
       "  <tbody>\n",
       "    <tr>\n",
       "      <th>0</th>\n",
       "      <td>Linear Regression</td>\n",
       "      <td>0.27</td>\n",
       "      <td>0.13</td>\n",
       "      <td>0.35</td>\n",
       "      <td>NaN</td>\n",
       "      <td>NaN</td>\n",
       "      <td>NaN</td>\n",
       "      <td>NaN</td>\n",
       "    </tr>\n",
       "    <tr>\n",
       "      <th>0</th>\n",
       "      <td>KNN Classification</td>\n",
       "      <td>NaN</td>\n",
       "      <td>NaN</td>\n",
       "      <td>NaN</td>\n",
       "      <td>0.40</td>\n",
       "      <td>0.25</td>\n",
       "      <td>0.78</td>\n",
       "      <td>NaN</td>\n",
       "    </tr>\n",
       "    <tr>\n",
       "      <th>0</th>\n",
       "      <td>Decision Tree Classifier</td>\n",
       "      <td>NaN</td>\n",
       "      <td>NaN</td>\n",
       "      <td>NaN</td>\n",
       "      <td>0.52</td>\n",
       "      <td>0.35</td>\n",
       "      <td>0.75</td>\n",
       "      <td>NaN</td>\n",
       "    </tr>\n",
       "    <tr>\n",
       "      <th>0</th>\n",
       "      <td>Logistic Classifier</td>\n",
       "      <td>NaN</td>\n",
       "      <td>NaN</td>\n",
       "      <td>NaN</td>\n",
       "      <td>0.63</td>\n",
       "      <td>0.46</td>\n",
       "      <td>0.77</td>\n",
       "      <td>0.48</td>\n",
       "    </tr>\n",
       "    <tr>\n",
       "      <th>0</th>\n",
       "      <td>SVM Classifier</td>\n",
       "      <td>NaN</td>\n",
       "      <td>NaN</td>\n",
       "      <td>NaN</td>\n",
       "      <td>0.34</td>\n",
       "      <td>0.21</td>\n",
       "      <td>0.46</td>\n",
       "      <td>NaN</td>\n",
       "    </tr>\n",
       "  </tbody>\n",
       "</table>\n",
       "</div>"
      ],
      "text/plain": [
       "                      Model  MAE  MSE   R2   F1  Jaccard Score  Accuracy  Log Loss\n",
       "0         Linear Regression 0.27 0.13 0.35  NaN            NaN       NaN       NaN\n",
       "0        KNN Classification  NaN  NaN  NaN 0.40           0.25      0.78       NaN\n",
       "0  Decision Tree Classifier  NaN  NaN  NaN 0.52           0.35      0.75       NaN\n",
       "0       Logistic Classifier  NaN  NaN  NaN 0.63           0.46      0.77      0.48\n",
       "0            SVM Classifier  NaN  NaN  NaN 0.34           0.21      0.46       NaN"
      ]
     },
     "execution_count": 68,
     "metadata": {},
     "output_type": "execute_result"
    }
   ],
   "source": [
    "all_tables"
   ]
  },
  {
   "cell_type": "markdown",
   "metadata": {},
   "source": [
    "**=================================================================================================================**"
   ]
  },
  {
   "cell_type": "markdown",
   "metadata": {},
   "source": [
    "# Methods treating imbalance dataset overview\n",
    "\n",
    "Different techniques used:\n",
    "\n",
    "- Random Undersampling: RandomUnderSampler(sampling_strategy='auto', random_state=None, replacement=False)\n",
    "\n",
    "- Condensed Nearest Neighbours (CNN): CondensedNearestNeighbour(sampling_strategy='auto', random_state=None, n_neighbors=None, n_seeds_S=1, n_jobs=None)\n",
    "\n",
    "- Tomek Links\n",
    "- One Sided Selection\n",
    "- Edited Nearest Neighbours\n",
    "- Repeated Edited Nearest Neighbours\n",
    "- All KNN\n",
    "- Neighbourhood Cleaning Rule\n",
    "- NearMiss\n",
    "- Instance Hardness Threshold\n",
    "\n",
    "\n",
    "<img src=\"How-to-Choose-a-Metric-for-Imbalanced-Classification-latest.png\">\n",
    "\n",
    "<img src = \"How-to-Spot-Check-Imbalanced-Machine-Learning-Algorithms.png\">\n",
    "\n",
    "<img src = \"How-to-Spot-Check-Machine-Learning-Algorithms.png\">"
   ]
  },
  {
   "cell_type": "markdown",
   "metadata": {},
   "source": [
    "**=================================================================================================================**"
   ]
  },
  {
   "cell_type": "markdown",
   "metadata": {},
   "source": [
    "# Imblearn Methods\n",
    "\n",
    "## Random Under-Sampling\n",
    "\n",
    "Undersampling can be defined as removing some observations of the majority class. This is done until the majority and minority class is balanced out.\n",
    "\n",
    "Undersampling can be a good choice when you have a ton of data -think millions of rows. But a drawback to undersampling is that we are removing information that may be valuable.\n",
    "\n",
    "## Random Over-Sampling\n",
    "\n",
    "Oversampling can be defined as adding more copies to the minority class. Oversampling can be a good choice when you don’t have a ton of data to work with.\n",
    "\n",
    "A con to consider when undersampling is that it can cause overfitting and poor generalization to your test set.\n",
    "\n",
    "## Under-Sampling: Tomek Links\n",
    "\n",
    "Tomek links are pairs of very close instances but of opposite classes. Removing the instances of the majority class of each pair increases the space between the two classes, facilitating the classification process.\n",
    "\n",
    "## Synthetic Minority Oversampling Technique (SMOTE)\n",
    "\n",
    "This technique generates synthetic data for the minority class.\n",
    "\n",
    "SMOTE (Synthetic Minority Oversampling Technique) works by randomly picking a point from the minority class and computing the k-nearest neighbors for this point. The synthetic points are added between the chosen point and its neighbors.\n",
    "\n",
    "\n",
    "## SMOTE + ENN and SMOTE + Tomek Links\n",
    "\n",
    "Combined used of SMOTE and ENN or Tomek Links to amplify the minority class and remove noisy observations that might be created.\n",
    "\n",
    "```\n",
    "# Define oversampling strategy.\n",
    "\n",
    "SMOTE = SMOTE()\n",
    "\n",
    "# Fit and apply the transform.\n",
    "\n",
    "X_train_SMOTE, y_train_SMOTE = SMOTE.fit_resample(X_train, y_train)\n",
    "X_train_SMOTE = pd.DataFrame(X_train_SMOTE,\n",
    "                             columns = X_train.columns)\n",
    "\n",
    "print('After oversampling: ', Counter(y_train_SMOTE))\n",
    "```\n"
   ]
  },
  {
   "cell_type": "markdown",
   "metadata": {},
   "source": [
    "**=================================================================================================================**"
   ]
  },
  {
   "cell_type": "markdown",
   "metadata": {},
   "source": [
    "# Balanced Bagging Classifer"
   ]
  },
  {
   "cell_type": "code",
   "execution_count": 69,
   "metadata": {},
   "outputs": [],
   "source": [
    "bbclogpipeline = Pipeline(steps=\n",
    "                             [\n",
    "                              (\"preprocessing\", preprocessor),\n",
    "                              (\"skbest\", SelectKBest(f_classif, k=10)),   \n",
    "                              (\"bbc\",   BalancedBaggingClassifier(estimator=LogisticRegression(class_weight={0:1, 1:3}),\n",
    "                                                                  n_estimators=100,\n",
    "                                                                  max_samples=1.0, max_features=1.0,\n",
    "                                                                  sampling_strategy=\"auto\", n_jobs=-1,\n",
    "                                                                  random_state=0\n",
    "                                                                  ))\n",
    "                             ])"
   ]
  },
  {
   "cell_type": "code",
   "execution_count": 70,
   "metadata": {},
   "outputs": [
    {
     "data": {
      "text/html": [
       "<style>#sk-container-id-6 {color: black;background-color: white;}#sk-container-id-6 pre{padding: 0;}#sk-container-id-6 div.sk-toggleable {background-color: white;}#sk-container-id-6 label.sk-toggleable__label {cursor: pointer;display: block;width: 100%;margin-bottom: 0;padding: 0.3em;box-sizing: border-box;text-align: center;}#sk-container-id-6 label.sk-toggleable__label-arrow:before {content: \"▸\";float: left;margin-right: 0.25em;color: #696969;}#sk-container-id-6 label.sk-toggleable__label-arrow:hover:before {color: black;}#sk-container-id-6 div.sk-estimator:hover label.sk-toggleable__label-arrow:before {color: black;}#sk-container-id-6 div.sk-toggleable__content {max-height: 0;max-width: 0;overflow: hidden;text-align: left;background-color: #f0f8ff;}#sk-container-id-6 div.sk-toggleable__content pre {margin: 0.2em;color: black;border-radius: 0.25em;background-color: #f0f8ff;}#sk-container-id-6 input.sk-toggleable__control:checked~div.sk-toggleable__content {max-height: 200px;max-width: 100%;overflow: auto;}#sk-container-id-6 input.sk-toggleable__control:checked~label.sk-toggleable__label-arrow:before {content: \"▾\";}#sk-container-id-6 div.sk-estimator input.sk-toggleable__control:checked~label.sk-toggleable__label {background-color: #d4ebff;}#sk-container-id-6 div.sk-label input.sk-toggleable__control:checked~label.sk-toggleable__label {background-color: #d4ebff;}#sk-container-id-6 input.sk-hidden--visually {border: 0;clip: rect(1px 1px 1px 1px);clip: rect(1px, 1px, 1px, 1px);height: 1px;margin: -1px;overflow: hidden;padding: 0;position: absolute;width: 1px;}#sk-container-id-6 div.sk-estimator {font-family: monospace;background-color: #f0f8ff;border: 1px dotted black;border-radius: 0.25em;box-sizing: border-box;margin-bottom: 0.5em;}#sk-container-id-6 div.sk-estimator:hover {background-color: #d4ebff;}#sk-container-id-6 div.sk-parallel-item::after {content: \"\";width: 100%;border-bottom: 1px solid gray;flex-grow: 1;}#sk-container-id-6 div.sk-label:hover label.sk-toggleable__label {background-color: #d4ebff;}#sk-container-id-6 div.sk-serial::before {content: \"\";position: absolute;border-left: 1px solid gray;box-sizing: border-box;top: 0;bottom: 0;left: 50%;z-index: 0;}#sk-container-id-6 div.sk-serial {display: flex;flex-direction: column;align-items: center;background-color: white;padding-right: 0.2em;padding-left: 0.2em;position: relative;}#sk-container-id-6 div.sk-item {position: relative;z-index: 1;}#sk-container-id-6 div.sk-parallel {display: flex;align-items: stretch;justify-content: center;background-color: white;position: relative;}#sk-container-id-6 div.sk-item::before, #sk-container-id-6 div.sk-parallel-item::before {content: \"\";position: absolute;border-left: 1px solid gray;box-sizing: border-box;top: 0;bottom: 0;left: 50%;z-index: -1;}#sk-container-id-6 div.sk-parallel-item {display: flex;flex-direction: column;z-index: 1;position: relative;background-color: white;}#sk-container-id-6 div.sk-parallel-item:first-child::after {align-self: flex-end;width: 50%;}#sk-container-id-6 div.sk-parallel-item:last-child::after {align-self: flex-start;width: 50%;}#sk-container-id-6 div.sk-parallel-item:only-child::after {width: 0;}#sk-container-id-6 div.sk-dashed-wrapped {border: 1px dashed gray;margin: 0 0.4em 0.5em 0.4em;box-sizing: border-box;padding-bottom: 0.4em;background-color: white;}#sk-container-id-6 div.sk-label label {font-family: monospace;font-weight: bold;display: inline-block;line-height: 1.2em;}#sk-container-id-6 div.sk-label-container {text-align: center;}#sk-container-id-6 div.sk-container {/* jupyter's `normalize.less` sets `[hidden] { display: none; }` but bootstrap.min.css set `[hidden] { display: none !important; }` so we also need the `!important` here to be able to override the default hidden behavior on the sphinx rendered scikit-learn.org. See: https://github.com/scikit-learn/scikit-learn/issues/21755 */display: inline-block !important;position: relative;}#sk-container-id-6 div.sk-text-repr-fallback {display: none;}</style><div id=\"sk-container-id-6\" class=\"sk-top-container\"><div class=\"sk-text-repr-fallback\"><pre>Pipeline(steps=[(&#x27;preprocessing&#x27;,\n",
       "                 ColumnTransformer(remainder=&#x27;passthrough&#x27;,\n",
       "                                   transformers=[(&#x27;dropcolumns&#x27;, &#x27;drop&#x27;,\n",
       "                                                  [&#x27;date&#x27;]),\n",
       "                                                 (&#x27;numerical&#x27;,\n",
       "                                                  Pipeline(steps=[(&#x27;minmax&#x27;,\n",
       "                                                                   MinMaxScaler())]),\n",
       "                                                  [&#x27;mintemp&#x27;, &#x27;maxtemp&#x27;,\n",
       "                                                   &#x27;rainfall&#x27;, &#x27;evaporation&#x27;,\n",
       "                                                   &#x27;sunshine&#x27;, &#x27;windgustspeed&#x27;,\n",
       "                                                   &#x27;windspeed9am&#x27;,\n",
       "                                                   &#x27;windspeed3pm&#x27;,\n",
       "                                                   &#x27;humidity9am&#x27;, &#x27;humidity3pm&#x27;,\n",
       "                                                   &#x27;pressure9am&#x27;, &#x27;pressure3pm&#x27;,\n",
       "                                                   &#x27;cloud9am&#x27;, &#x27;cloud3pm&#x27;,\n",
       "                                                   &#x27;temp9am&#x27;, &#x27;temp3pm&#x27;]),\n",
       "                                                 (&#x27;categorical&#x27;,\n",
       "                                                  Pipeline(steps=[(&#x27;ordinal&#x27;,\n",
       "                                                                   OrdinalEncoder())]),\n",
       "                                                  [&#x27;windgustdir&#x27;, &#x27;winddir9am&#x27;,\n",
       "                                                   &#x27;winddir3pm&#x27;,\n",
       "                                                   &#x27;raintoday&#x27;])],\n",
       "                                   verbose_feature_names_out=False)),\n",
       "                (&#x27;skbest&#x27;, SelectKBest()),\n",
       "                (&#x27;bbc&#x27;,\n",
       "                 BalancedBaggingClassifier(estimator=LogisticRegression(class_weight={0: 1,\n",
       "                                                                                      1: 3}),\n",
       "                                           n_estimators=100, n_jobs=-1,\n",
       "                                           random_state=0))])</pre><b>In a Jupyter environment, please rerun this cell to show the HTML representation or trust the notebook. <br />On GitHub, the HTML representation is unable to render, please try loading this page with nbviewer.org.</b></div><div class=\"sk-container\" hidden><div class=\"sk-item sk-dashed-wrapped\"><div class=\"sk-label-container\"><div class=\"sk-label sk-toggleable\"><input class=\"sk-toggleable__control sk-hidden--visually\" id=\"sk-estimator-id-56\" type=\"checkbox\" ><label for=\"sk-estimator-id-56\" class=\"sk-toggleable__label sk-toggleable__label-arrow\">Pipeline</label><div class=\"sk-toggleable__content\"><pre>Pipeline(steps=[(&#x27;preprocessing&#x27;,\n",
       "                 ColumnTransformer(remainder=&#x27;passthrough&#x27;,\n",
       "                                   transformers=[(&#x27;dropcolumns&#x27;, &#x27;drop&#x27;,\n",
       "                                                  [&#x27;date&#x27;]),\n",
       "                                                 (&#x27;numerical&#x27;,\n",
       "                                                  Pipeline(steps=[(&#x27;minmax&#x27;,\n",
       "                                                                   MinMaxScaler())]),\n",
       "                                                  [&#x27;mintemp&#x27;, &#x27;maxtemp&#x27;,\n",
       "                                                   &#x27;rainfall&#x27;, &#x27;evaporation&#x27;,\n",
       "                                                   &#x27;sunshine&#x27;, &#x27;windgustspeed&#x27;,\n",
       "                                                   &#x27;windspeed9am&#x27;,\n",
       "                                                   &#x27;windspeed3pm&#x27;,\n",
       "                                                   &#x27;humidity9am&#x27;, &#x27;humidity3pm&#x27;,\n",
       "                                                   &#x27;pressure9am&#x27;, &#x27;pressure3pm&#x27;,\n",
       "                                                   &#x27;cloud9am&#x27;, &#x27;cloud3pm&#x27;,\n",
       "                                                   &#x27;temp9am&#x27;, &#x27;temp3pm&#x27;]),\n",
       "                                                 (&#x27;categorical&#x27;,\n",
       "                                                  Pipeline(steps=[(&#x27;ordinal&#x27;,\n",
       "                                                                   OrdinalEncoder())]),\n",
       "                                                  [&#x27;windgustdir&#x27;, &#x27;winddir9am&#x27;,\n",
       "                                                   &#x27;winddir3pm&#x27;,\n",
       "                                                   &#x27;raintoday&#x27;])],\n",
       "                                   verbose_feature_names_out=False)),\n",
       "                (&#x27;skbest&#x27;, SelectKBest()),\n",
       "                (&#x27;bbc&#x27;,\n",
       "                 BalancedBaggingClassifier(estimator=LogisticRegression(class_weight={0: 1,\n",
       "                                                                                      1: 3}),\n",
       "                                           n_estimators=100, n_jobs=-1,\n",
       "                                           random_state=0))])</pre></div></div></div><div class=\"sk-serial\"><div class=\"sk-item sk-dashed-wrapped\"><div class=\"sk-label-container\"><div class=\"sk-label sk-toggleable\"><input class=\"sk-toggleable__control sk-hidden--visually\" id=\"sk-estimator-id-57\" type=\"checkbox\" ><label for=\"sk-estimator-id-57\" class=\"sk-toggleable__label sk-toggleable__label-arrow\">preprocessing: ColumnTransformer</label><div class=\"sk-toggleable__content\"><pre>ColumnTransformer(remainder=&#x27;passthrough&#x27;,\n",
       "                  transformers=[(&#x27;dropcolumns&#x27;, &#x27;drop&#x27;, [&#x27;date&#x27;]),\n",
       "                                (&#x27;numerical&#x27;,\n",
       "                                 Pipeline(steps=[(&#x27;minmax&#x27;, MinMaxScaler())]),\n",
       "                                 [&#x27;mintemp&#x27;, &#x27;maxtemp&#x27;, &#x27;rainfall&#x27;,\n",
       "                                  &#x27;evaporation&#x27;, &#x27;sunshine&#x27;, &#x27;windgustspeed&#x27;,\n",
       "                                  &#x27;windspeed9am&#x27;, &#x27;windspeed3pm&#x27;, &#x27;humidity9am&#x27;,\n",
       "                                  &#x27;humidity3pm&#x27;, &#x27;pressure9am&#x27;, &#x27;pressure3pm&#x27;,\n",
       "                                  &#x27;cloud9am&#x27;, &#x27;cloud3pm&#x27;, &#x27;temp9am&#x27;,\n",
       "                                  &#x27;temp3pm&#x27;]),\n",
       "                                (&#x27;categorical&#x27;,\n",
       "                                 Pipeline(steps=[(&#x27;ordinal&#x27;,\n",
       "                                                  OrdinalEncoder())]),\n",
       "                                 [&#x27;windgustdir&#x27;, &#x27;winddir9am&#x27;, &#x27;winddir3pm&#x27;,\n",
       "                                  &#x27;raintoday&#x27;])],\n",
       "                  verbose_feature_names_out=False)</pre></div></div></div><div class=\"sk-parallel\"><div class=\"sk-parallel-item\"><div class=\"sk-item\"><div class=\"sk-label-container\"><div class=\"sk-label sk-toggleable\"><input class=\"sk-toggleable__control sk-hidden--visually\" id=\"sk-estimator-id-58\" type=\"checkbox\" ><label for=\"sk-estimator-id-58\" class=\"sk-toggleable__label sk-toggleable__label-arrow\">dropcolumns</label><div class=\"sk-toggleable__content\"><pre>[&#x27;date&#x27;]</pre></div></div></div><div class=\"sk-serial\"><div class=\"sk-item\"><div class=\"sk-estimator sk-toggleable\"><input class=\"sk-toggleable__control sk-hidden--visually\" id=\"sk-estimator-id-59\" type=\"checkbox\" ><label for=\"sk-estimator-id-59\" class=\"sk-toggleable__label sk-toggleable__label-arrow\">drop</label><div class=\"sk-toggleable__content\"><pre>drop</pre></div></div></div></div></div></div><div class=\"sk-parallel-item\"><div class=\"sk-item\"><div class=\"sk-label-container\"><div class=\"sk-label sk-toggleable\"><input class=\"sk-toggleable__control sk-hidden--visually\" id=\"sk-estimator-id-60\" type=\"checkbox\" ><label for=\"sk-estimator-id-60\" class=\"sk-toggleable__label sk-toggleable__label-arrow\">numerical</label><div class=\"sk-toggleable__content\"><pre>[&#x27;mintemp&#x27;, &#x27;maxtemp&#x27;, &#x27;rainfall&#x27;, &#x27;evaporation&#x27;, &#x27;sunshine&#x27;, &#x27;windgustspeed&#x27;, &#x27;windspeed9am&#x27;, &#x27;windspeed3pm&#x27;, &#x27;humidity9am&#x27;, &#x27;humidity3pm&#x27;, &#x27;pressure9am&#x27;, &#x27;pressure3pm&#x27;, &#x27;cloud9am&#x27;, &#x27;cloud3pm&#x27;, &#x27;temp9am&#x27;, &#x27;temp3pm&#x27;]</pre></div></div></div><div class=\"sk-serial\"><div class=\"sk-item\"><div class=\"sk-serial\"><div class=\"sk-item\"><div class=\"sk-estimator sk-toggleable\"><input class=\"sk-toggleable__control sk-hidden--visually\" id=\"sk-estimator-id-61\" type=\"checkbox\" ><label for=\"sk-estimator-id-61\" class=\"sk-toggleable__label sk-toggleable__label-arrow\">MinMaxScaler</label><div class=\"sk-toggleable__content\"><pre>MinMaxScaler()</pre></div></div></div></div></div></div></div></div><div class=\"sk-parallel-item\"><div class=\"sk-item\"><div class=\"sk-label-container\"><div class=\"sk-label sk-toggleable\"><input class=\"sk-toggleable__control sk-hidden--visually\" id=\"sk-estimator-id-62\" type=\"checkbox\" ><label for=\"sk-estimator-id-62\" class=\"sk-toggleable__label sk-toggleable__label-arrow\">categorical</label><div class=\"sk-toggleable__content\"><pre>[&#x27;windgustdir&#x27;, &#x27;winddir9am&#x27;, &#x27;winddir3pm&#x27;, &#x27;raintoday&#x27;]</pre></div></div></div><div class=\"sk-serial\"><div class=\"sk-item\"><div class=\"sk-serial\"><div class=\"sk-item\"><div class=\"sk-estimator sk-toggleable\"><input class=\"sk-toggleable__control sk-hidden--visually\" id=\"sk-estimator-id-63\" type=\"checkbox\" ><label for=\"sk-estimator-id-63\" class=\"sk-toggleable__label sk-toggleable__label-arrow\">OrdinalEncoder</label><div class=\"sk-toggleable__content\"><pre>OrdinalEncoder()</pre></div></div></div></div></div></div></div></div><div class=\"sk-parallel-item\"><div class=\"sk-item\"><div class=\"sk-label-container\"><div class=\"sk-label sk-toggleable\"><input class=\"sk-toggleable__control sk-hidden--visually\" id=\"sk-estimator-id-64\" type=\"checkbox\" ><label for=\"sk-estimator-id-64\" class=\"sk-toggleable__label sk-toggleable__label-arrow\">remainder</label><div class=\"sk-toggleable__content\"><pre>[]</pre></div></div></div><div class=\"sk-serial\"><div class=\"sk-item\"><div class=\"sk-estimator sk-toggleable\"><input class=\"sk-toggleable__control sk-hidden--visually\" id=\"sk-estimator-id-65\" type=\"checkbox\" ><label for=\"sk-estimator-id-65\" class=\"sk-toggleable__label sk-toggleable__label-arrow\">passthrough</label><div class=\"sk-toggleable__content\"><pre>passthrough</pre></div></div></div></div></div></div></div></div><div class=\"sk-item\"><div class=\"sk-estimator sk-toggleable\"><input class=\"sk-toggleable__control sk-hidden--visually\" id=\"sk-estimator-id-66\" type=\"checkbox\" ><label for=\"sk-estimator-id-66\" class=\"sk-toggleable__label sk-toggleable__label-arrow\">SelectKBest</label><div class=\"sk-toggleable__content\"><pre>SelectKBest()</pre></div></div></div><div class=\"sk-item sk-dashed-wrapped\"><div class=\"sk-label-container\"><div class=\"sk-label sk-toggleable\"><input class=\"sk-toggleable__control sk-hidden--visually\" id=\"sk-estimator-id-67\" type=\"checkbox\" ><label for=\"sk-estimator-id-67\" class=\"sk-toggleable__label sk-toggleable__label-arrow\">bbc: BalancedBaggingClassifier</label><div class=\"sk-toggleable__content\"><pre>BalancedBaggingClassifier(estimator=LogisticRegression(class_weight={0: 1,\n",
       "                                                                     1: 3}),\n",
       "                          n_estimators=100, n_jobs=-1, random_state=0)</pre></div></div></div><div class=\"sk-parallel\"><div class=\"sk-parallel-item\"><div class=\"sk-item\"><div class=\"sk-label-container\"><div class=\"sk-label sk-toggleable\"><input class=\"sk-toggleable__control sk-hidden--visually\" id=\"sk-estimator-id-68\" type=\"checkbox\" ><label for=\"sk-estimator-id-68\" class=\"sk-toggleable__label sk-toggleable__label-arrow\">estimator: LogisticRegression</label><div class=\"sk-toggleable__content\"><pre>LogisticRegression(class_weight={0: 1, 1: 3})</pre></div></div></div><div class=\"sk-serial\"><div class=\"sk-item\"><div class=\"sk-estimator sk-toggleable\"><input class=\"sk-toggleable__control sk-hidden--visually\" id=\"sk-estimator-id-69\" type=\"checkbox\" ><label for=\"sk-estimator-id-69\" class=\"sk-toggleable__label sk-toggleable__label-arrow\">LogisticRegression</label><div class=\"sk-toggleable__content\"><pre>LogisticRegression(class_weight={0: 1, 1: 3})</pre></div></div></div></div></div></div></div></div></div></div></div></div>"
      ],
      "text/plain": [
       "Pipeline(steps=[('preprocessing',\n",
       "                 ColumnTransformer(remainder='passthrough',\n",
       "                                   transformers=[('dropcolumns', 'drop',\n",
       "                                                  ['date']),\n",
       "                                                 ('numerical',\n",
       "                                                  Pipeline(steps=[('minmax',\n",
       "                                                                   MinMaxScaler())]),\n",
       "                                                  ['mintemp', 'maxtemp',\n",
       "                                                   'rainfall', 'evaporation',\n",
       "                                                   'sunshine', 'windgustspeed',\n",
       "                                                   'windspeed9am',\n",
       "                                                   'windspeed3pm',\n",
       "                                                   'humidity9am', 'humidity3pm',\n",
       "                                                   'pressure9am', 'pressure3pm',\n",
       "                                                   'cloud9am', 'cloud3pm',\n",
       "                                                   'temp9am', 'temp3pm']),\n",
       "                                                 ('categorical',\n",
       "                                                  Pipeline(steps=[('ordinal',\n",
       "                                                                   OrdinalEncoder())]),\n",
       "                                                  ['windgustdir', 'winddir9am',\n",
       "                                                   'winddir3pm',\n",
       "                                                   'raintoday'])],\n",
       "                                   verbose_feature_names_out=False)),\n",
       "                ('skbest', SelectKBest()),\n",
       "                ('bbc',\n",
       "                 BalancedBaggingClassifier(estimator=LogisticRegression(class_weight={0: 1,\n",
       "                                                                                      1: 3}),\n",
       "                                           n_estimators=100, n_jobs=-1,\n",
       "                                           random_state=0))])"
      ]
     },
     "execution_count": 70,
     "metadata": {},
     "output_type": "execute_result"
    }
   ],
   "source": [
    "bbclogpipeline.fit(X_train,y_train)"
   ]
  },
  {
   "cell_type": "code",
   "execution_count": 71,
   "metadata": {},
   "outputs": [],
   "source": [
    "bbclog_pred = bbclogpipeline.predict(X_test)"
   ]
  },
  {
   "cell_type": "code",
   "execution_count": 72,
   "metadata": {},
   "outputs": [
    {
     "name": "stdout",
     "output_type": "stream",
     "text": [
      "Accuracy: 0.638\n",
      "Precision: 0.411\n",
      "Recall: 0.912\n",
      "F1 Score: 0.567\n",
      "ROC-AUC Score: 0.727\n"
     ]
    }
   ],
   "source": [
    "print(\"Accuracy:\", \"%.3f\" % accuracy_score(y_test, bbclog_pred))\n",
    "print(\"Precision:\", \"%.3f\" % precision_score(y_test, bbclog_pred))\n",
    "print(\"Recall:\", \"%.3f\" % recall_score(y_test, bbclog_pred))\n",
    "print(\"F1 Score:\", \"%.3f\" % f1_score(y_test, bbclog_pred))\n",
    "print(\"ROC-AUC Score:\", \"%.3f\" % roc_auc_score(y_test, bbclog_pred))"
   ]
  },
  {
   "cell_type": "code",
   "execution_count": 73,
   "metadata": {},
   "outputs": [],
   "source": [
    "scoring = {'accuracy', 'precision', 'recall', 'f1', 'roc_auc'}"
   ]
  },
  {
   "cell_type": "code",
   "execution_count": 74,
   "metadata": {},
   "outputs": [],
   "source": [
    "# K-Fold Cross-Validation\n",
    "skf = StratifiedKFold(n_splits=5, shuffle=True, random_state=0)"
   ]
  },
  {
   "cell_type": "code",
   "execution_count": 75,
   "metadata": {},
   "outputs": [],
   "source": [
    "# estimate generalization error\n",
    "bbclogcv = cross_validate(estimator=bbclogpipeline,\n",
    "                    X=X_train,\n",
    "                    y=y_train,\n",
    "                    scoring=scoring,\n",
    "                    return_train_score=True,\n",
    "                    cv=skf)"
   ]
  },
  {
   "cell_type": "code",
   "execution_count": 76,
   "metadata": {},
   "outputs": [
    {
     "data": {
      "text/plain": [
       "{'fit_time': array([0.52892494, 0.51568007, 0.55699372, 0.50258517, 0.49787283]),\n",
       " 'score_time': array([0.07506871, 0.10375261, 0.09617186, 0.09059668, 0.08062387]),\n",
       " 'test_f1': array([0.59708738, 0.59079903, 0.58876404, 0.55730337, 0.57627119]),\n",
       " 'train_f1': array([0.58396723, 0.59018332, 0.57827103, 0.59440143, 0.58962264]),\n",
       " 'test_precision': array([0.44565217, 0.43884892, 0.42394822, 0.4012945 , 0.42960289]),\n",
       " 'train_precision': array([0.42795883, 0.43504795, 0.42343884, 0.43926056, 0.43365134]),\n",
       " 'test_accuracy': array([0.68320611, 0.67686424, 0.6500956 , 0.62332696, 0.66539197]),\n",
       " 'train_accuracy': array([0.66013384, 0.66889632, 0.65504061, 0.67462972, 0.66746297]),\n",
       " 'test_roc_auc': array([0.87844906, 0.86002291, 0.89025688, 0.86394209, 0.85672215]),\n",
       " 'train_roc_auc': array([0.87210307, 0.8762876 , 0.86850591, 0.87506208, 0.87643914]),\n",
       " 'test_recall': array([0.90441176, 0.9037037 , 0.96323529, 0.91176471, 0.875     ]),\n",
       " 'train_recall': array([0.91896869, 0.91727941, 0.91160221, 0.91896869, 0.92081031])}"
      ]
     },
     "execution_count": 76,
     "metadata": {},
     "output_type": "execute_result"
    }
   ],
   "source": [
    "bbclogcv"
   ]
  },
  {
   "cell_type": "code",
   "execution_count": 77,
   "metadata": {},
   "outputs": [
    {
     "data": {
      "text/plain": [
       "0.8736795595908102"
      ]
     },
     "execution_count": 77,
     "metadata": {},
     "output_type": "execute_result"
    }
   ],
   "source": [
    "# mean train set roc-auc\n",
    "bbclogcv[\"train_roc_auc\"].mean()"
   ]
  },
  {
   "cell_type": "code",
   "execution_count": 78,
   "metadata": {},
   "outputs": [
    {
     "data": {
      "text/plain": [
       "0.8698786164349862"
      ]
     },
     "execution_count": 78,
     "metadata": {},
     "output_type": "execute_result"
    }
   ],
   "source": [
    "# mean test set roc-auc\n",
    "bbclogcv[\"test_roc_auc\"].mean()"
   ]
  },
  {
   "cell_type": "code",
   "execution_count": 81,
   "metadata": {},
   "outputs": [
    {
     "name": "stdout",
     "output_type": "stream",
     "text": [
      "Downloading Chromium 116.0.5845.82 (playwright build v1076)\u001b[2m from https://playwright.azureedge.net/builds/chromium/1076/chromium-win64.zip\u001b[22m"
     ]
    },
    {
     "name": "stderr",
     "output_type": "stream",
     "text": [
      "[NbConvertApp] Converting notebook FinalProjectClassificationwithPython.ipynb to webpdf\n",
      "[NbConvertApp] WARNING | Alternative text is missing on 8 image(s).\n",
      "[NbConvertApp] Building PDF\n",
      "[NbConvertApp] PDF successfully created\n",
      "[NbConvertApp] Writing 1606542 bytes to FinalProjectClassificationwithPython.pdf\n",
      "Task was destroyed but it is pending!\n",
      "task: <Task pending name='Task-2' coro=<Connection.run() running at C:\\ProgramData\\Anaconda3\\lib\\site-packages\\playwright\\_impl\\_connection.py:273> wait_for=<Future pending cb=[<TaskWakeupMethWrapper object at 0x000002968D2B9FA0>()]>>\n",
      "Exception ignored in: <function _ProactorBasePipeTransport.__del__ at 0x00000296896FD0D0>\n",
      "Traceback (most recent call last):\n",
      "  File \"C:\\ProgramData\\Anaconda3\\lib\\asyncio\\proactor_events.py\", line 115, in __del__\n",
      "    _warn(f\"unclosed transport {self!r}\", ResourceWarning, source=self)\n",
      "  File \"C:\\ProgramData\\Anaconda3\\lib\\asyncio\\proactor_events.py\", line 79, in __repr__\n",
      "    info.append(f'fd={self._sock.fileno()}')\n",
      "  File \"C:\\ProgramData\\Anaconda3\\lib\\asyncio\\windows_utils.py\", line 102, in fileno\n",
      "    raise ValueError(\"I/O operation on closed pipe\")\n",
      "ValueError: I/O operation on closed pipe\n",
      "Exception ignored in: <function BaseSubprocessTransport.__del__ at 0x00000296896E38B0>\n",
      "Traceback (most recent call last):\n",
      "  File \"C:\\ProgramData\\Anaconda3\\lib\\asyncio\\base_subprocess.py\", line 125, in __del__\n",
      "    _warn(f\"unclosed transport {self!r}\", ResourceWarning, source=self)\n",
      "  File \"C:\\ProgramData\\Anaconda3\\lib\\asyncio\\base_subprocess.py\", line 70, in __repr__\n",
      "    info.append(f'stdin={stdin.pipe}')\n",
      "  File \"C:\\ProgramData\\Anaconda3\\lib\\asyncio\\proactor_events.py\", line 79, in __repr__\n",
      "    info.append(f'fd={self._sock.fileno()}')\n",
      "  File \"C:\\ProgramData\\Anaconda3\\lib\\asyncio\\windows_utils.py\", line 102, in fileno\n",
      "    raise ValueError(\"I/O operation on closed pipe\")\n",
      "ValueError: I/O operation on closed pipe\n",
      "Exception ignored in: <function _ProactorBasePipeTransport.__del__ at 0x00000296896FD0D0>\n",
      "Traceback (most recent call last):\n",
      "  File \"C:\\ProgramData\\Anaconda3\\lib\\asyncio\\proactor_events.py\", line 115, in __del__\n",
      "    _warn(f\"unclosed transport {self!r}\", ResourceWarning, source=self)\n",
      "  File \"C:\\ProgramData\\Anaconda3\\lib\\asyncio\\proactor_events.py\", line 79, in __repr__\n",
      "    info.append(f'fd={self._sock.fileno()}')\n",
      "  File \"C:\\ProgramData\\Anaconda3\\lib\\asyncio\\windows_utils.py\", line 102, in fileno\n",
      "    raise ValueError(\"I/O operation on closed pipe\")\n",
      "ValueError: I/O operation on closed pipe\n"
     ]
    },
    {
     "name": "stdout",
     "output_type": "stream",
     "text": [
      "\n",
      "|                                                                                |   0% of 116 Mb\n",
      "|â– â– â– â– â– â– â– â–                                                                         |  10% of 116 Mb\n",
      "|â– â– â– â– â– â– â– â– â– â– â– â– â– â– â– â–                                                                 |  20% of 116 Mb\n",
      "|â– â– â– â– â– â– â– â– â– â– â– â– â– â– â– â– â– â– â– â– â– â– â– â–                                                         |  30% of 116 Mb\n",
      "|â– â– â– â– â– â– â– â– â– â– â– â– â– â– â– â– â– â– â– â– â– â– â– â– â– â– â– â– â– â– â– â–                                                 |  40% of 116 Mb\n",
      "|â– â– â– â– â– â– â– â– â– â– â– â– â– â– â– â– â– â– â– â– â– â– â– â– â– â– â– â– â– â– â– â– â– â– â– â– â– â– â– â–                                         |  50% of 116 Mb\n",
      "|â– â– â– â– â– â– â– â– â– â– â– â– â– â– â– â– â– â– â– â– â– â– â– â– â– â– â– â– â– â– â– â– â– â– â– â– â– â– â– â– â– â– â– â– â– â– â– â–                                 |  60% of 116 Mb\n",
      "|â– â– â– â– â– â– â– â– â– â– â– â– â– â– â– â– â– â– â– â– â– â– â– â– â– â– â– â– â– â– â– â– â– â– â– â– â– â– â– â– â– â– â– â– â– â– â– â– â– â– â– â– â– â– â– â–                         |  70% of 116 Mb\n",
      "|â– â– â– â– â– â– â– â– â– â– â– â– â– â– â– â– â– â– â– â– â– â– â– â– â– â– â– â– â– â– â– â– â– â– â– â– â– â– â– â– â– â– â– â– â– â– â– â– â– â– â– â– â– â– â– â– â– â– â– â– â– â– â– â–                 |  80% of 116 Mb\n",
      "|â– â– â– â– â– â– â– â– â– â– â– â– â– â– â– â– â– â– â– â– â– â– â– â– â– â– â– â– â– â– â– â– â– â– â– â– â– â– â– â– â– â– â– â– â– â– â– â– â– â– â– â– â– â– â– â– â– â– â– â– â– â– â– â– â– â– â– â– â– â– â– â–         |  90% of 116 Mb\n",
      "|â– â– â– â– â– â– â– â– â– â– â– â– â– â– â– â– â– â– â– â– â– â– â– â– â– â– â– â– â– â– â– â– â– â– â– â– â– â– â– â– â– â– â– â– â– â– â– â– â– â– â– â– â– â– â– â– â– â– â– â– â– â– â– â– â– â– â– â– â– â– â– â– â– â– â– â– â– â– â– â– | 100% of 116 Mb\n",
      "Chromium 116.0.5845.82 (playwright build v1076) downloaded to C:\\Users\\Dennis\\AppData\\Local\\ms-playwright\\chromium-1076\n",
      "Downloading FFMPEG playwright build v1009\u001b[2m from https://playwright.azureedge.net/builds/ffmpeg/1009/ffmpeg-win64.zip\u001b[22m\n",
      "|                                                                                |   1% of 1.4 Mb\n",
      "|â– â– â– â– â– â– â– â–                                                                         |  11% of 1.4 Mb\n",
      "|â– â– â– â– â– â– â– â– â– â– â– â– â– â– â– â–                                                                 |  20% of 1.4 Mb\n",
      "|â– â– â– â– â– â– â– â– â– â– â– â– â– â– â– â– â– â– â– â– â– â– â– â–                                                         |  30% of 1.4 Mb\n",
      "|â– â– â– â– â– â– â– â– â– â– â– â– â– â– â– â– â– â– â– â– â– â– â– â– â– â– â– â– â– â– â– â–                                                 |  40% of 1.4 Mb\n",
      "|â– â– â– â– â– â– â– â– â– â– â– â– â– â– â– â– â– â– â– â– â– â– â– â– â– â– â– â– â– â– â– â– â– â– â– â– â– â– â– â–                                         |  50% of 1.4 Mb\n",
      "|â– â– â– â– â– â– â– â– â– â– â– â– â– â– â– â– â– â– â– â– â– â– â– â– â– â– â– â– â– â– â– â– â– â– â– â– â– â– â– â– â– â– â– â– â– â– â– â–                                 |  60% of 1.4 Mb\n",
      "|â– â– â– â– â– â– â– â– â– â– â– â– â– â– â– â– â– â– â– â– â– â– â– â– â– â– â– â– â– â– â– â– â– â– â– â– â– â– â– â– â– â– â– â– â– â– â– â– â– â– â– â– â– â– â– â–                         |  70% of 1.4 Mb\n",
      "|â– â– â– â– â– â– â– â– â– â– â– â– â– â– â– â– â– â– â– â– â– â– â– â– â– â– â– â– â– â– â– â– â– â– â– â– â– â– â– â– â– â– â– â– â– â– â– â– â– â– â– â– â– â– â– â– â– â– â– â– â– â– â– â–                 |  80% of 1.4 Mb\n",
      "|â– â– â– â– â– â– â– â– â– â– â– â– â– â– â– â– â– â– â– â– â– â– â– â– â– â– â– â– â– â– â– â– â– â– â– â– â– â– â– â– â– â– â– â– â– â– â– â– â– â– â– â– â– â– â– â– â– â– â– â– â– â– â– â– â– â– â– â– â– â– â– â–         |  90% of 1.4 Mb\n",
      "|â– â– â– â– â– â– â– â– â– â– â– â– â– â– â– â– â– â– â– â– â– â– â– â– â– â– â– â– â– â– â– â– â– â– â– â– â– â– â– â– â– â– â– â– â– â– â– â– â– â– â– â– â– â– â– â– â– â– â– â– â– â– â– â– â– â– â– â– â– â– â– â– â– â– â– â– â– â– â– â– | 100% of 1.4 Mb\n",
      "FFMPEG playwright build v1009 downloaded to C:\\Users\\Dennis\\AppData\\Local\\ms-playwright\\ffmpeg-1009\n"
     ]
    }
   ],
   "source": [
    "!jupyter nbconvert --to webpdf --allow-chromium-download FinalProjectClassificationwithPython.ipynb"
   ]
  },
  {
   "cell_type": "markdown",
   "metadata": {},
   "source": [
    "**=================================================================================================================**"
   ]
  },
  {
   "cell_type": "markdown",
   "metadata": {},
   "source": [
    "#### Python code done by Dennis Lam"
   ]
  }
 ],
 "metadata": {
  "kernelspec": {
   "display_name": "Python 3 (ipykernel)",
   "language": "python",
   "name": "python3"
  },
  "language_info": {
   "codemirror_mode": {
    "name": "ipython",
    "version": 3
   },
   "file_extension": ".py",
   "mimetype": "text/x-python",
   "name": "python",
   "nbconvert_exporter": "python",
   "pygments_lexer": "ipython3",
   "version": "3.9.12"
  }
 },
 "nbformat": 4,
 "nbformat_minor": 4
}
